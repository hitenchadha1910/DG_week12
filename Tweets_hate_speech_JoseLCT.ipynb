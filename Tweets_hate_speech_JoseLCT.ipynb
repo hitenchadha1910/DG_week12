{
  "nbformat": 4,
  "nbformat_minor": 0,
  "metadata": {
    "colab": {
      "name": "Tweets_hate_speech_transformers.ipynb",
      "provenance": [],
      "collapsed_sections": []
    },
    "kernelspec": {
      "name": "python3",
      "display_name": "Python 3"
    },
    "language_info": {
      "name": "python"
    }
  },
  "cells": [
    {
      "cell_type": "code",
      "execution_count": 91,
      "metadata": {
        "id": "YQI_F0tde11L",
        "colab": {
          "base_uri": "https://localhost:8080/"
        },
        "outputId": "421392ad-265b-4203-8d93-9d4ce1b036a3"
      },
      "outputs": [
        {
          "output_type": "stream",
          "name": "stdout",
          "text": [
            "Drive already mounted at /content/drive; to attempt to forcibly remount, call drive.mount(\"/content/drive\", force_remount=True).\n"
          ]
        }
      ],
      "source": [
        "from google.colab import drive\n",
        "drive.mount('/content/drive')"
      ]
    },
    {
      "cell_type": "code",
      "source": [
        "#Importing libraries\n",
        "\n",
        "import nltk, re, string\n",
        "from nltk.corpus import stopwords, twitter_samples\n",
        "import pandas as pd\n",
        "import numpy as np\n",
        "import csv\n",
        "import pickle"
      ],
      "metadata": {
        "id": "3Rrw8B0jgWFD"
      },
      "execution_count": 92,
      "outputs": []
    },
    {
      "cell_type": "code",
      "source": [
        "#Reading data\n",
        "\n",
        "df_train = pd.read_csv('/content/drive/MyDrive/tweets_hate_speech/train_E6oV3lV.csv',quoting=3, error_bad_lines=False).set_index('id')\n",
        "\n",
        "df_train.head(20)"
      ],
      "metadata": {
        "colab": {
          "base_uri": "https://localhost:8080/",
          "height": 745
        },
        "id": "UybSoaaHg0g3",
        "outputId": "4a1e13e9-cd04-4cb0-a3bc-6aec359aa14f"
      },
      "execution_count": 93,
      "outputs": [
        {
          "output_type": "stream",
          "name": "stderr",
          "text": [
            "b'Skipping line 21: expected 3 fields, saw 4\\nSkipping line 34: expected 3 fields, saw 4\\nSkipping line 40: expected 3 fields, saw 4\\nSkipping line 43: expected 3 fields, saw 5\\nSkipping line 56: expected 3 fields, saw 4\\nSkipping line 59: expected 3 fields, saw 4\\nSkipping line 75: expected 3 fields, saw 5\\nSkipping line 77: expected 3 fields, saw 5\\nSkipping line 79: expected 3 fields, saw 4\\nSkipping line 89: expected 3 fields, saw 4\\nSkipping line 95: expected 3 fields, saw 4\\nSkipping line 97: expected 3 fields, saw 4\\nSkipping line 100: expected 3 fields, saw 4\\nSkipping line 105: expected 3 fields, saw 4\\nSkipping line 114: expected 3 fields, saw 4\\nSkipping line 122: expected 3 fields, saw 4\\nSkipping line 123: expected 3 fields, saw 4\\nSkipping line 141: expected 3 fields, saw 5\\nSkipping line 145: expected 3 fields, saw 4\\nSkipping line 157: expected 3 fields, saw 4\\nSkipping line 158: expected 3 fields, saw 4\\nSkipping line 160: expected 3 fields, saw 4\\nSkipping line 169: expected 3 fields, saw 4\\nSkipping line 175: expected 3 fields, saw 4\\nSkipping line 177: expected 3 fields, saw 4\\nSkipping line 179: expected 3 fields, saw 4\\nSkipping line 181: expected 3 fields, saw 6\\nSkipping line 183: expected 3 fields, saw 4\\nSkipping line 189: expected 3 fields, saw 4\\nSkipping line 199: expected 3 fields, saw 4\\nSkipping line 204: expected 3 fields, saw 4\\nSkipping line 210: expected 3 fields, saw 5\\nSkipping line 218: expected 3 fields, saw 4\\nSkipping line 227: expected 3 fields, saw 4\\nSkipping line 233: expected 3 fields, saw 4\\nSkipping line 234: expected 3 fields, saw 4\\nSkipping line 258: expected 3 fields, saw 5\\nSkipping line 259: expected 3 fields, saw 4\\nSkipping line 263: expected 3 fields, saw 5\\nSkipping line 265: expected 3 fields, saw 4\\nSkipping line 287: expected 3 fields, saw 4\\nSkipping line 292: expected 3 fields, saw 5\\nSkipping line 306: expected 3 fields, saw 4\\nSkipping line 308: expected 3 fields, saw 5\\nSkipping line 325: expected 3 fields, saw 6\\nSkipping line 328: expected 3 fields, saw 4\\nSkipping line 329: expected 3 fields, saw 4\\nSkipping line 331: expected 3 fields, saw 7\\nSkipping line 334: expected 3 fields, saw 4\\nSkipping line 349: expected 3 fields, saw 5\\nSkipping line 357: expected 3 fields, saw 4\\nSkipping line 375: expected 3 fields, saw 7\\nSkipping line 376: expected 3 fields, saw 4\\nSkipping line 381: expected 3 fields, saw 4\\nSkipping line 384: expected 3 fields, saw 4\\nSkipping line 386: expected 3 fields, saw 4\\nSkipping line 394: expected 3 fields, saw 4\\nSkipping line 397: expected 3 fields, saw 4\\nSkipping line 402: expected 3 fields, saw 4\\nSkipping line 420: expected 3 fields, saw 4\\nSkipping line 439: expected 3 fields, saw 7\\nSkipping line 449: expected 3 fields, saw 4\\nSkipping line 471: expected 3 fields, saw 4\\nSkipping line 495: expected 3 fields, saw 4\\nSkipping line 501: expected 3 fields, saw 5\\nSkipping line 503: expected 3 fields, saw 4\\nSkipping line 507: expected 3 fields, saw 4\\nSkipping line 516: expected 3 fields, saw 4\\nSkipping line 518: expected 3 fields, saw 5\\nSkipping line 541: expected 3 fields, saw 4\\nSkipping line 547: expected 3 fields, saw 5\\nSkipping line 550: expected 3 fields, saw 4\\nSkipping line 554: expected 3 fields, saw 4\\nSkipping line 558: expected 3 fields, saw 4\\nSkipping line 563: expected 3 fields, saw 4\\nSkipping line 568: expected 3 fields, saw 4\\nSkipping line 570: expected 3 fields, saw 4\\nSkipping line 581: expected 3 fields, saw 9\\nSkipping line 582: expected 3 fields, saw 8\\nSkipping line 594: expected 3 fields, saw 4\\nSkipping line 595: expected 3 fields, saw 4\\nSkipping line 596: expected 3 fields, saw 4\\nSkipping line 609: expected 3 fields, saw 5\\nSkipping line 622: expected 3 fields, saw 4\\nSkipping line 625: expected 3 fields, saw 4\\nSkipping line 631: expected 3 fields, saw 4\\nSkipping line 645: expected 3 fields, saw 6\\nSkipping line 656: expected 3 fields, saw 5\\nSkipping line 690: expected 3 fields, saw 5\\nSkipping line 694: expected 3 fields, saw 5\\nSkipping line 696: expected 3 fields, saw 6\\nSkipping line 702: expected 3 fields, saw 5\\nSkipping line 703: expected 3 fields, saw 4\\nSkipping line 708: expected 3 fields, saw 4\\nSkipping line 716: expected 3 fields, saw 4\\nSkipping line 733: expected 3 fields, saw 4\\nSkipping line 735: expected 3 fields, saw 4\\nSkipping line 738: expected 3 fields, saw 4\\nSkipping line 739: expected 3 fields, saw 4\\nSkipping line 743: expected 3 fields, saw 4\\nSkipping line 748: expected 3 fields, saw 4\\nSkipping line 769: expected 3 fields, saw 4\\nSkipping line 771: expected 3 fields, saw 4\\nSkipping line 780: expected 3 fields, saw 4\\nSkipping line 791: expected 3 fields, saw 4\\nSkipping line 794: expected 3 fields, saw 4\\nSkipping line 802: expected 3 fields, saw 4\\nSkipping line 803: expected 3 fields, saw 4\\nSkipping line 810: expected 3 fields, saw 4\\nSkipping line 812: expected 3 fields, saw 4\\nSkipping line 813: expected 3 fields, saw 6\\nSkipping line 814: expected 3 fields, saw 4\\nSkipping line 815: expected 3 fields, saw 6\\nSkipping line 817: expected 3 fields, saw 4\\nSkipping line 821: expected 3 fields, saw 4\\nSkipping line 824: expected 3 fields, saw 4\\nSkipping line 825: expected 3 fields, saw 4\\nSkipping line 828: expected 3 fields, saw 4\\nSkipping line 830: expected 3 fields, saw 4\\nSkipping line 834: expected 3 fields, saw 5\\nSkipping line 836: expected 3 fields, saw 4\\nSkipping line 838: expected 3 fields, saw 4\\nSkipping line 853: expected 3 fields, saw 4\\nSkipping line 855: expected 3 fields, saw 4\\nSkipping line 857: expected 3 fields, saw 4\\nSkipping line 858: expected 3 fields, saw 5\\nSkipping line 869: expected 3 fields, saw 4\\nSkipping line 877: expected 3 fields, saw 4\\nSkipping line 886: expected 3 fields, saw 5\\nSkipping line 889: expected 3 fields, saw 4\\nSkipping line 899: expected 3 fields, saw 4\\nSkipping line 908: expected 3 fields, saw 4\\nSkipping line 909: expected 3 fields, saw 6\\nSkipping line 915: expected 3 fields, saw 4\\nSkipping line 917: expected 3 fields, saw 4\\nSkipping line 927: expected 3 fields, saw 4\\nSkipping line 948: expected 3 fields, saw 4\\nSkipping line 955: expected 3 fields, saw 6\\nSkipping line 957: expected 3 fields, saw 4\\nSkipping line 958: expected 3 fields, saw 4\\nSkipping line 964: expected 3 fields, saw 4\\nSkipping line 967: expected 3 fields, saw 4\\nSkipping line 969: expected 3 fields, saw 4\\nSkipping line 972: expected 3 fields, saw 4\\nSkipping line 974: expected 3 fields, saw 4\\nSkipping line 980: expected 3 fields, saw 5\\nSkipping line 986: expected 3 fields, saw 4\\nSkipping line 1000: expected 3 fields, saw 4\\nSkipping line 1001: expected 3 fields, saw 4\\nSkipping line 1008: expected 3 fields, saw 5\\nSkipping line 1024: expected 3 fields, saw 4\\nSkipping line 1033: expected 3 fields, saw 4\\nSkipping line 1034: expected 3 fields, saw 4\\nSkipping line 1047: expected 3 fields, saw 4\\nSkipping line 1052: expected 3 fields, saw 4\\nSkipping line 1059: expected 3 fields, saw 4\\nSkipping line 1061: expected 3 fields, saw 4\\nSkipping line 1069: expected 3 fields, saw 5\\nSkipping line 1081: expected 3 fields, saw 5\\nSkipping line 1082: expected 3 fields, saw 5\\nSkipping line 1084: expected 3 fields, saw 4\\nSkipping line 1089: expected 3 fields, saw 4\\nSkipping line 1090: expected 3 fields, saw 4\\nSkipping line 1101: expected 3 fields, saw 4\\nSkipping line 1102: expected 3 fields, saw 4\\nSkipping line 1105: expected 3 fields, saw 4\\nSkipping line 1110: expected 3 fields, saw 4\\nSkipping line 1114: expected 3 fields, saw 5\\nSkipping line 1116: expected 3 fields, saw 4\\nSkipping line 1128: expected 3 fields, saw 4\\nSkipping line 1133: expected 3 fields, saw 5\\nSkipping line 1140: expected 3 fields, saw 4\\nSkipping line 1143: expected 3 fields, saw 5\\nSkipping line 1148: expected 3 fields, saw 4\\nSkipping line 1154: expected 3 fields, saw 4\\nSkipping line 1156: expected 3 fields, saw 4\\nSkipping line 1160: expected 3 fields, saw 4\\nSkipping line 1172: expected 3 fields, saw 4\\nSkipping line 1173: expected 3 fields, saw 4\\nSkipping line 1180: expected 3 fields, saw 4\\nSkipping line 1183: expected 3 fields, saw 4\\nSkipping line 1185: expected 3 fields, saw 5\\nSkipping line 1188: expected 3 fields, saw 4\\nSkipping line 1198: expected 3 fields, saw 4\\nSkipping line 1210: expected 3 fields, saw 4\\nSkipping line 1213: expected 3 fields, saw 4\\nSkipping line 1237: expected 3 fields, saw 4\\nSkipping line 1242: expected 3 fields, saw 4\\nSkipping line 1243: expected 3 fields, saw 6\\nSkipping line 1250: expected 3 fields, saw 4\\nSkipping line 1263: expected 3 fields, saw 4\\nSkipping line 1264: expected 3 fields, saw 4\\nSkipping line 1265: expected 3 fields, saw 5\\nSkipping line 1266: expected 3 fields, saw 7\\nSkipping line 1267: expected 3 fields, saw 4\\nSkipping line 1270: expected 3 fields, saw 4\\nSkipping line 1272: expected 3 fields, saw 4\\nSkipping line 1280: expected 3 fields, saw 4\\nSkipping line 1293: expected 3 fields, saw 4\\nSkipping line 1301: expected 3 fields, saw 4\\nSkipping line 1307: expected 3 fields, saw 4\\nSkipping line 1308: expected 3 fields, saw 4\\nSkipping line 1313: expected 3 fields, saw 5\\nSkipping line 1316: expected 3 fields, saw 5\\nSkipping line 1319: expected 3 fields, saw 5\\nSkipping line 1326: expected 3 fields, saw 4\\nSkipping line 1334: expected 3 fields, saw 4\\nSkipping line 1343: expected 3 fields, saw 5\\nSkipping line 1349: expected 3 fields, saw 4\\nSkipping line 1352: expected 3 fields, saw 4\\nSkipping line 1366: expected 3 fields, saw 5\\nSkipping line 1371: expected 3 fields, saw 4\\nSkipping line 1375: expected 3 fields, saw 4\\nSkipping line 1380: expected 3 fields, saw 4\\nSkipping line 1382: expected 3 fields, saw 4\\nSkipping line 1391: expected 3 fields, saw 4\\nSkipping line 1395: expected 3 fields, saw 5\\nSkipping line 1400: expected 3 fields, saw 4\\nSkipping line 1401: expected 3 fields, saw 4\\nSkipping line 1411: expected 3 fields, saw 4\\nSkipping line 1416: expected 3 fields, saw 4\\nSkipping line 1443: expected 3 fields, saw 4\\nSkipping line 1446: expected 3 fields, saw 5\\nSkipping line 1448: expected 3 fields, saw 4\\nSkipping line 1452: expected 3 fields, saw 4\\nSkipping line 1468: expected 3 fields, saw 4\\nSkipping line 1472: expected 3 fields, saw 6\\nSkipping line 1475: expected 3 fields, saw 5\\nSkipping line 1478: expected 3 fields, saw 4\\nSkipping line 1483: expected 3 fields, saw 5\\nSkipping line 1484: expected 3 fields, saw 4\\nSkipping line 1489: expected 3 fields, saw 6\\nSkipping line 1491: expected 3 fields, saw 4\\nSkipping line 1492: expected 3 fields, saw 4\\nSkipping line 1493: expected 3 fields, saw 4\\nSkipping line 1506: expected 3 fields, saw 6\\nSkipping line 1515: expected 3 fields, saw 4\\nSkipping line 1518: expected 3 fields, saw 4\\nSkipping line 1522: expected 3 fields, saw 4\\nSkipping line 1527: expected 3 fields, saw 4\\nSkipping line 1528: expected 3 fields, saw 4\\nSkipping line 1530: expected 3 fields, saw 4\\nSkipping line 1533: expected 3 fields, saw 5\\nSkipping line 1542: expected 3 fields, saw 4\\nSkipping line 1565: expected 3 fields, saw 4\\nSkipping line 1569: expected 3 fields, saw 4\\nSkipping line 1573: expected 3 fields, saw 4\\nSkipping line 1578: expected 3 fields, saw 4\\nSkipping line 1583: expected 3 fields, saw 4\\nSkipping line 1588: expected 3 fields, saw 5\\nSkipping line 1591: expected 3 fields, saw 4\\nSkipping line 1597: expected 3 fields, saw 4\\nSkipping line 1610: expected 3 fields, saw 4\\nSkipping line 1612: expected 3 fields, saw 4\\nSkipping line 1617: expected 3 fields, saw 4\\nSkipping line 1634: expected 3 fields, saw 4\\nSkipping line 1650: expected 3 fields, saw 4\\nSkipping line 1655: expected 3 fields, saw 4\\nSkipping line 1674: expected 3 fields, saw 4\\nSkipping line 1675: expected 3 fields, saw 4\\nSkipping line 1677: expected 3 fields, saw 5\\nSkipping line 1680: expected 3 fields, saw 4\\nSkipping line 1683: expected 3 fields, saw 4\\nSkipping line 1687: expected 3 fields, saw 4\\nSkipping line 1698: expected 3 fields, saw 4\\nSkipping line 1700: expected 3 fields, saw 4\\nSkipping line 1713: expected 3 fields, saw 4\\nSkipping line 1718: expected 3 fields, saw 4\\nSkipping line 1733: expected 3 fields, saw 4\\nSkipping line 1734: expected 3 fields, saw 4\\nSkipping line 1737: expected 3 fields, saw 4\\nSkipping line 1739: expected 3 fields, saw 4\\nSkipping line 1747: expected 3 fields, saw 4\\nSkipping line 1751: expected 3 fields, saw 5\\nSkipping line 1753: expected 3 fields, saw 4\\nSkipping line 1756: expected 3 fields, saw 4\\nSkipping line 1761: expected 3 fields, saw 4\\nSkipping line 1762: expected 3 fields, saw 4\\nSkipping line 1767: expected 3 fields, saw 5\\nSkipping line 1792: expected 3 fields, saw 4\\nSkipping line 1808: expected 3 fields, saw 4\\nSkipping line 1814: expected 3 fields, saw 6\\nSkipping line 1840: expected 3 fields, saw 4\\nSkipping line 1846: expected 3 fields, saw 5\\nSkipping line 1852: expected 3 fields, saw 4\\nSkipping line 1855: expected 3 fields, saw 4\\nSkipping line 1861: expected 3 fields, saw 4\\nSkipping line 1878: expected 3 fields, saw 5\\nSkipping line 1886: expected 3 fields, saw 4\\nSkipping line 1911: expected 3 fields, saw 4\\nSkipping line 1914: expected 3 fields, saw 4\\nSkipping line 1915: expected 3 fields, saw 4\\nSkipping line 1919: expected 3 fields, saw 4\\nSkipping line 1921: expected 3 fields, saw 4\\nSkipping line 1931: expected 3 fields, saw 4\\nSkipping line 1932: expected 3 fields, saw 4\\nSkipping line 1948: expected 3 fields, saw 4\\nSkipping line 1966: expected 3 fields, saw 4\\nSkipping line 1979: expected 3 fields, saw 4\\nSkipping line 1980: expected 3 fields, saw 4\\nSkipping line 1992: expected 3 fields, saw 4\\nSkipping line 1993: expected 3 fields, saw 4\\nSkipping line 2003: expected 3 fields, saw 4\\nSkipping line 2006: expected 3 fields, saw 4\\nSkipping line 2008: expected 3 fields, saw 4\\nSkipping line 2025: expected 3 fields, saw 4\\nSkipping line 2029: expected 3 fields, saw 4\\nSkipping line 2040: expected 3 fields, saw 4\\nSkipping line 2045: expected 3 fields, saw 5\\nSkipping line 2046: expected 3 fields, saw 4\\nSkipping line 2049: expected 3 fields, saw 5\\nSkipping line 2051: expected 3 fields, saw 5\\nSkipping line 2055: expected 3 fields, saw 4\\nSkipping line 2066: expected 3 fields, saw 4\\nSkipping line 2087: expected 3 fields, saw 7\\nSkipping line 2099: expected 3 fields, saw 4\\nSkipping line 2107: expected 3 fields, saw 5\\nSkipping line 2109: expected 3 fields, saw 4\\nSkipping line 2125: expected 3 fields, saw 5\\nSkipping line 2128: expected 3 fields, saw 4\\nSkipping line 2146: expected 3 fields, saw 4\\nSkipping line 2159: expected 3 fields, saw 4\\nSkipping line 2174: expected 3 fields, saw 4\\nSkipping line 2181: expected 3 fields, saw 4\\nSkipping line 2190: expected 3 fields, saw 4\\nSkipping line 2193: expected 3 fields, saw 5\\nSkipping line 2203: expected 3 fields, saw 5\\nSkipping line 2209: expected 3 fields, saw 5\\nSkipping line 2216: expected 3 fields, saw 4\\nSkipping line 2221: expected 3 fields, saw 4\\nSkipping line 2229: expected 3 fields, saw 4\\nSkipping line 2230: expected 3 fields, saw 4\\nSkipping line 2235: expected 3 fields, saw 5\\nSkipping line 2239: expected 3 fields, saw 4\\nSkipping line 2253: expected 3 fields, saw 4\\nSkipping line 2257: expected 3 fields, saw 4\\nSkipping line 2260: expected 3 fields, saw 7\\nSkipping line 2264: expected 3 fields, saw 5\\nSkipping line 2267: expected 3 fields, saw 4\\nSkipping line 2268: expected 3 fields, saw 4\\nSkipping line 2288: expected 3 fields, saw 5\\nSkipping line 2290: expected 3 fields, saw 4\\nSkipping line 2306: expected 3 fields, saw 4\\nSkipping line 2322: expected 3 fields, saw 4\\nSkipping line 2333: expected 3 fields, saw 7\\nSkipping line 2335: expected 3 fields, saw 4\\nSkipping line 2348: expected 3 fields, saw 5\\nSkipping line 2351: expected 3 fields, saw 6\\nSkipping line 2357: expected 3 fields, saw 4\\nSkipping line 2359: expected 3 fields, saw 4\\nSkipping line 2363: expected 3 fields, saw 4\\nSkipping line 2377: expected 3 fields, saw 4\\nSkipping line 2389: expected 3 fields, saw 4\\nSkipping line 2391: expected 3 fields, saw 4\\nSkipping line 2397: expected 3 fields, saw 6\\nSkipping line 2398: expected 3 fields, saw 4\\nSkipping line 2407: expected 3 fields, saw 10\\nSkipping line 2411: expected 3 fields, saw 4\\nSkipping line 2413: expected 3 fields, saw 4\\nSkipping line 2415: expected 3 fields, saw 4\\nSkipping line 2417: expected 3 fields, saw 4\\nSkipping line 2418: expected 3 fields, saw 4\\nSkipping line 2420: expected 3 fields, saw 4\\nSkipping line 2449: expected 3 fields, saw 4\\nSkipping line 2477: expected 3 fields, saw 4\\nSkipping line 2482: expected 3 fields, saw 4\\nSkipping line 2486: expected 3 fields, saw 5\\nSkipping line 2493: expected 3 fields, saw 4\\nSkipping line 2498: expected 3 fields, saw 4\\nSkipping line 2502: expected 3 fields, saw 4\\nSkipping line 2515: expected 3 fields, saw 4\\nSkipping line 2520: expected 3 fields, saw 4\\nSkipping line 2522: expected 3 fields, saw 4\\nSkipping line 2539: expected 3 fields, saw 7\\nSkipping line 2574: expected 3 fields, saw 5\\nSkipping line 2599: expected 3 fields, saw 4\\nSkipping line 2607: expected 3 fields, saw 4\\nSkipping line 2612: expected 3 fields, saw 7\\nSkipping line 2618: expected 3 fields, saw 4\\nSkipping line 2627: expected 3 fields, saw 4\\nSkipping line 2632: expected 3 fields, saw 4\\nSkipping line 2659: expected 3 fields, saw 5\\nSkipping line 2660: expected 3 fields, saw 4\\nSkipping line 2662: expected 3 fields, saw 4\\nSkipping line 2664: expected 3 fields, saw 4\\nSkipping line 2670: expected 3 fields, saw 4\\nSkipping line 2672: expected 3 fields, saw 4\\nSkipping line 2674: expected 3 fields, saw 4\\nSkipping line 2680: expected 3 fields, saw 4\\nSkipping line 2685: expected 3 fields, saw 4\\nSkipping line 2696: expected 3 fields, saw 6\\nSkipping line 2697: expected 3 fields, saw 4\\nSkipping line 2702: expected 3 fields, saw 4\\nSkipping line 2712: expected 3 fields, saw 4\\nSkipping line 2720: expected 3 fields, saw 4\\nSkipping line 2740: expected 3 fields, saw 5\\nSkipping line 2755: expected 3 fields, saw 4\\nSkipping line 2775: expected 3 fields, saw 4\\nSkipping line 2797: expected 3 fields, saw 4\\nSkipping line 2807: expected 3 fields, saw 4\\nSkipping line 2808: expected 3 fields, saw 5\\nSkipping line 2812: expected 3 fields, saw 4\\nSkipping line 2815: expected 3 fields, saw 5\\nSkipping line 2821: expected 3 fields, saw 4\\nSkipping line 2826: expected 3 fields, saw 4\\nSkipping line 2827: expected 3 fields, saw 4\\nSkipping line 2830: expected 3 fields, saw 4\\nSkipping line 2838: expected 3 fields, saw 4\\nSkipping line 2845: expected 3 fields, saw 5\\nSkipping line 2851: expected 3 fields, saw 5\\nSkipping line 2852: expected 3 fields, saw 4\\nSkipping line 2853: expected 3 fields, saw 6\\nSkipping line 2857: expected 3 fields, saw 4\\nSkipping line 2858: expected 3 fields, saw 5\\nSkipping line 2866: expected 3 fields, saw 4\\nSkipping line 2873: expected 3 fields, saw 4\\nSkipping line 2875: expected 3 fields, saw 4\\nSkipping line 2879: expected 3 fields, saw 5\\nSkipping line 2880: expected 3 fields, saw 4\\nSkipping line 2884: expected 3 fields, saw 4\\nSkipping line 2885: expected 3 fields, saw 4\\nSkipping line 2895: expected 3 fields, saw 4\\nSkipping line 2899: expected 3 fields, saw 5\\nSkipping line 2904: expected 3 fields, saw 5\\nSkipping line 2913: expected 3 fields, saw 4\\nSkipping line 2914: expected 3 fields, saw 4\\nSkipping line 2937: expected 3 fields, saw 4\\nSkipping line 2940: expected 3 fields, saw 4\\nSkipping line 2953: expected 3 fields, saw 4\\nSkipping line 2956: expected 3 fields, saw 4\\nSkipping line 2960: expected 3 fields, saw 4\\nSkipping line 2961: expected 3 fields, saw 4\\nSkipping line 2969: expected 3 fields, saw 4\\nSkipping line 2977: expected 3 fields, saw 5\\nSkipping line 2988: expected 3 fields, saw 4\\nSkipping line 2991: expected 3 fields, saw 4\\nSkipping line 2996: expected 3 fields, saw 4\\nSkipping line 2997: expected 3 fields, saw 4\\nSkipping line 3004: expected 3 fields, saw 4\\nSkipping line 3009: expected 3 fields, saw 4\\nSkipping line 3028: expected 3 fields, saw 4\\nSkipping line 3030: expected 3 fields, saw 4\\nSkipping line 3031: expected 3 fields, saw 5\\nSkipping line 3047: expected 3 fields, saw 4\\nSkipping line 3054: expected 3 fields, saw 4\\nSkipping line 3069: expected 3 fields, saw 5\\nSkipping line 3080: expected 3 fields, saw 5\\nSkipping line 3085: expected 3 fields, saw 4\\nSkipping line 3089: expected 3 fields, saw 4\\nSkipping line 3100: expected 3 fields, saw 4\\nSkipping line 3102: expected 3 fields, saw 4\\nSkipping line 3103: expected 3 fields, saw 4\\nSkipping line 3116: expected 3 fields, saw 5\\nSkipping line 3117: expected 3 fields, saw 4\\nSkipping line 3119: expected 3 fields, saw 4\\nSkipping line 3125: expected 3 fields, saw 4\\nSkipping line 3129: expected 3 fields, saw 4\\nSkipping line 3132: expected 3 fields, saw 4\\nSkipping line 3133: expected 3 fields, saw 4\\nSkipping line 3144: expected 3 fields, saw 4\\nSkipping line 3148: expected 3 fields, saw 5\\nSkipping line 3161: expected 3 fields, saw 4\\nSkipping line 3163: expected 3 fields, saw 4\\nSkipping line 3197: expected 3 fields, saw 4\\nSkipping line 3198: expected 3 fields, saw 6\\nSkipping line 3200: expected 3 fields, saw 5\\nSkipping line 3201: expected 3 fields, saw 4\\nSkipping line 3204: expected 3 fields, saw 4\\nSkipping line 3209: expected 3 fields, saw 4\\nSkipping line 3210: expected 3 fields, saw 4\\nSkipping line 3213: expected 3 fields, saw 4\\nSkipping line 3216: expected 3 fields, saw 5\\nSkipping line 3217: expected 3 fields, saw 4\\nSkipping line 3227: expected 3 fields, saw 4\\nSkipping line 3232: expected 3 fields, saw 5\\nSkipping line 3237: expected 3 fields, saw 4\\nSkipping line 3238: expected 3 fields, saw 4\\nSkipping line 3248: expected 3 fields, saw 4\\nSkipping line 3251: expected 3 fields, saw 4\\nSkipping line 3259: expected 3 fields, saw 4\\nSkipping line 3264: expected 3 fields, saw 4\\nSkipping line 3271: expected 3 fields, saw 4\\nSkipping line 3277: expected 3 fields, saw 4\\nSkipping line 3281: expected 3 fields, saw 6\\nSkipping line 3291: expected 3 fields, saw 4\\nSkipping line 3315: expected 3 fields, saw 4\\nSkipping line 3326: expected 3 fields, saw 4\\nSkipping line 3330: expected 3 fields, saw 4\\nSkipping line 3334: expected 3 fields, saw 4\\nSkipping line 3335: expected 3 fields, saw 5\\nSkipping line 3356: expected 3 fields, saw 4\\nSkipping line 3361: expected 3 fields, saw 4\\nSkipping line 3372: expected 3 fields, saw 4\\nSkipping line 3374: expected 3 fields, saw 4\\nSkipping line 3378: expected 3 fields, saw 4\\nSkipping line 3380: expected 3 fields, saw 4\\nSkipping line 3381: expected 3 fields, saw 5\\nSkipping line 3384: expected 3 fields, saw 4\\nSkipping line 3394: expected 3 fields, saw 4\\nSkipping line 3406: expected 3 fields, saw 5\\nSkipping line 3413: expected 3 fields, saw 5\\nSkipping line 3422: expected 3 fields, saw 5\\nSkipping line 3423: expected 3 fields, saw 5\\nSkipping line 3424: expected 3 fields, saw 4\\nSkipping line 3426: expected 3 fields, saw 4\\nSkipping line 3428: expected 3 fields, saw 5\\nSkipping line 3431: expected 3 fields, saw 5\\nSkipping line 3445: expected 3 fields, saw 4\\nSkipping line 3454: expected 3 fields, saw 4\\nSkipping line 3455: expected 3 fields, saw 10\\nSkipping line 3456: expected 3 fields, saw 5\\nSkipping line 3470: expected 3 fields, saw 4\\nSkipping line 3481: expected 3 fields, saw 4\\nSkipping line 3486: expected 3 fields, saw 4\\nSkipping line 3490: expected 3 fields, saw 4\\nSkipping line 3501: expected 3 fields, saw 4\\nSkipping line 3503: expected 3 fields, saw 4\\nSkipping line 3510: expected 3 fields, saw 5\\nSkipping line 3517: expected 3 fields, saw 4\\nSkipping line 3522: expected 3 fields, saw 4\\nSkipping line 3527: expected 3 fields, saw 4\\nSkipping line 3528: expected 3 fields, saw 5\\nSkipping line 3573: expected 3 fields, saw 5\\nSkipping line 3586: expected 3 fields, saw 5\\nSkipping line 3587: expected 3 fields, saw 4\\nSkipping line 3590: expected 3 fields, saw 4\\nSkipping line 3591: expected 3 fields, saw 4\\nSkipping line 3596: expected 3 fields, saw 5\\nSkipping line 3617: expected 3 fields, saw 4\\nSkipping line 3619: expected 3 fields, saw 5\\nSkipping line 3622: expected 3 fields, saw 4\\nSkipping line 3629: expected 3 fields, saw 5\\nSkipping line 3631: expected 3 fields, saw 4\\nSkipping line 3632: expected 3 fields, saw 4\\nSkipping line 3648: expected 3 fields, saw 4\\nSkipping line 3660: expected 3 fields, saw 4\\nSkipping line 3662: expected 3 fields, saw 4\\nSkipping line 3665: expected 3 fields, saw 5\\nSkipping line 3668: expected 3 fields, saw 4\\nSkipping line 3671: expected 3 fields, saw 4\\nSkipping line 3682: expected 3 fields, saw 4\\nSkipping line 3687: expected 3 fields, saw 4\\nSkipping line 3689: expected 3 fields, saw 5\\nSkipping line 3690: expected 3 fields, saw 4\\nSkipping line 3695: expected 3 fields, saw 4\\nSkipping line 3700: expected 3 fields, saw 4\\nSkipping line 3703: expected 3 fields, saw 4\\nSkipping line 3705: expected 3 fields, saw 4\\nSkipping line 3710: expected 3 fields, saw 4\\nSkipping line 3725: expected 3 fields, saw 4\\nSkipping line 3732: expected 3 fields, saw 4\\nSkipping line 3746: expected 3 fields, saw 9\\nSkipping line 3747: expected 3 fields, saw 4\\nSkipping line 3756: expected 3 fields, saw 5\\nSkipping line 3758: expected 3 fields, saw 4\\nSkipping line 3783: expected 3 fields, saw 4\\nSkipping line 3786: expected 3 fields, saw 4\\nSkipping line 3788: expected 3 fields, saw 4\\nSkipping line 3794: expected 3 fields, saw 4\\nSkipping line 3800: expected 3 fields, saw 6\\nSkipping line 3805: expected 3 fields, saw 5\\nSkipping line 3814: expected 3 fields, saw 4\\nSkipping line 3819: expected 3 fields, saw 4\\nSkipping line 3820: expected 3 fields, saw 4\\nSkipping line 3824: expected 3 fields, saw 5\\nSkipping line 3869: expected 3 fields, saw 4\\nSkipping line 3883: expected 3 fields, saw 6\\nSkipping line 3885: expected 3 fields, saw 4\\nSkipping line 3889: expected 3 fields, saw 4\\nSkipping line 3892: expected 3 fields, saw 4\\nSkipping line 3896: expected 3 fields, saw 4\\nSkipping line 3910: expected 3 fields, saw 6\\nSkipping line 3912: expected 3 fields, saw 4\\nSkipping line 3919: expected 3 fields, saw 4\\nSkipping line 3925: expected 3 fields, saw 4\\nSkipping line 3927: expected 3 fields, saw 4\\nSkipping line 3928: expected 3 fields, saw 4\\nSkipping line 3940: expected 3 fields, saw 4\\nSkipping line 3944: expected 3 fields, saw 4\\nSkipping line 3947: expected 3 fields, saw 7\\nSkipping line 3950: expected 3 fields, saw 4\\nSkipping line 3972: expected 3 fields, saw 4\\nSkipping line 3975: expected 3 fields, saw 4\\nSkipping line 3980: expected 3 fields, saw 4\\nSkipping line 3985: expected 3 fields, saw 6\\nSkipping line 3993: expected 3 fields, saw 5\\nSkipping line 3997: expected 3 fields, saw 4\\nSkipping line 4006: expected 3 fields, saw 4\\nSkipping line 4012: expected 3 fields, saw 4\\nSkipping line 4021: expected 3 fields, saw 5\\nSkipping line 4022: expected 3 fields, saw 4\\nSkipping line 4027: expected 3 fields, saw 4\\nSkipping line 4036: expected 3 fields, saw 4\\nSkipping line 4042: expected 3 fields, saw 4\\nSkipping line 4051: expected 3 fields, saw 4\\nSkipping line 4057: expected 3 fields, saw 4\\nSkipping line 4073: expected 3 fields, saw 5\\nSkipping line 4078: expected 3 fields, saw 5\\nSkipping line 4080: expected 3 fields, saw 5\\nSkipping line 4090: expected 3 fields, saw 4\\nSkipping line 4093: expected 3 fields, saw 4\\nSkipping line 4102: expected 3 fields, saw 4\\nSkipping line 4105: expected 3 fields, saw 4\\nSkipping line 4109: expected 3 fields, saw 4\\nSkipping line 4114: expected 3 fields, saw 4\\nSkipping line 4120: expected 3 fields, saw 4\\nSkipping line 4129: expected 3 fields, saw 5\\nSkipping line 4132: expected 3 fields, saw 4\\nSkipping line 4143: expected 3 fields, saw 5\\nSkipping line 4144: expected 3 fields, saw 5\\nSkipping line 4145: expected 3 fields, saw 4\\nSkipping line 4170: expected 3 fields, saw 4\\nSkipping line 4172: expected 3 fields, saw 4\\nSkipping line 4178: expected 3 fields, saw 4\\nSkipping line 4179: expected 3 fields, saw 4\\nSkipping line 4193: expected 3 fields, saw 4\\nSkipping line 4208: expected 3 fields, saw 5\\nSkipping line 4217: expected 3 fields, saw 4\\nSkipping line 4228: expected 3 fields, saw 4\\nSkipping line 4253: expected 3 fields, saw 5\\nSkipping line 4270: expected 3 fields, saw 5\\nSkipping line 4275: expected 3 fields, saw 4\\nSkipping line 4297: expected 3 fields, saw 4\\nSkipping line 4298: expected 3 fields, saw 4\\nSkipping line 4306: expected 3 fields, saw 4\\nSkipping line 4312: expected 3 fields, saw 4\\nSkipping line 4321: expected 3 fields, saw 4\\nSkipping line 4322: expected 3 fields, saw 5\\nSkipping line 4325: expected 3 fields, saw 4\\nSkipping line 4333: expected 3 fields, saw 4\\nSkipping line 4334: expected 3 fields, saw 5\\nSkipping line 4335: expected 3 fields, saw 4\\nSkipping line 4339: expected 3 fields, saw 4\\nSkipping line 4340: expected 3 fields, saw 5\\nSkipping line 4341: expected 3 fields, saw 4\\nSkipping line 4363: expected 3 fields, saw 5\\nSkipping line 4384: expected 3 fields, saw 4\\nSkipping line 4392: expected 3 fields, saw 4\\nSkipping line 4394: expected 3 fields, saw 4\\nSkipping line 4403: expected 3 fields, saw 4\\nSkipping line 4405: expected 3 fields, saw 4\\nSkipping line 4414: expected 3 fields, saw 4\\nSkipping line 4415: expected 3 fields, saw 4\\nSkipping line 4426: expected 3 fields, saw 4\\nSkipping line 4442: expected 3 fields, saw 4\\nSkipping line 4443: expected 3 fields, saw 4\\nSkipping line 4451: expected 3 fields, saw 4\\nSkipping line 4463: expected 3 fields, saw 4\\nSkipping line 4464: expected 3 fields, saw 4\\nSkipping line 4471: expected 3 fields, saw 4\\nSkipping line 4477: expected 3 fields, saw 4\\nSkipping line 4483: expected 3 fields, saw 6\\nSkipping line 4484: expected 3 fields, saw 12\\nSkipping line 4503: expected 3 fields, saw 5\\nSkipping line 4506: expected 3 fields, saw 6\\nSkipping line 4510: expected 3 fields, saw 5\\nSkipping line 4517: expected 3 fields, saw 4\\nSkipping line 4534: expected 3 fields, saw 4\\nSkipping line 4561: expected 3 fields, saw 4\\nSkipping line 4568: expected 3 fields, saw 4\\nSkipping line 4576: expected 3 fields, saw 5\\nSkipping line 4585: expected 3 fields, saw 4\\nSkipping line 4587: expected 3 fields, saw 4\\nSkipping line 4593: expected 3 fields, saw 4\\nSkipping line 4594: expected 3 fields, saw 5\\nSkipping line 4616: expected 3 fields, saw 4\\nSkipping line 4619: expected 3 fields, saw 5\\nSkipping line 4632: expected 3 fields, saw 4\\nSkipping line 4650: expected 3 fields, saw 4\\nSkipping line 4654: expected 3 fields, saw 4\\nSkipping line 4661: expected 3 fields, saw 4\\nSkipping line 4665: expected 3 fields, saw 4\\nSkipping line 4666: expected 3 fields, saw 4\\nSkipping line 4669: expected 3 fields, saw 5\\nSkipping line 4675: expected 3 fields, saw 4\\nSkipping line 4687: expected 3 fields, saw 4\\nSkipping line 4690: expected 3 fields, saw 4\\nSkipping line 4696: expected 3 fields, saw 4\\nSkipping line 4700: expected 3 fields, saw 4\\nSkipping line 4703: expected 3 fields, saw 4\\nSkipping line 4707: expected 3 fields, saw 6\\nSkipping line 4715: expected 3 fields, saw 4\\nSkipping line 4718: expected 3 fields, saw 5\\nSkipping line 4725: expected 3 fields, saw 4\\nSkipping line 4730: expected 3 fields, saw 4\\nSkipping line 4740: expected 3 fields, saw 4\\nSkipping line 4744: expected 3 fields, saw 5\\nSkipping line 4748: expected 3 fields, saw 4\\nSkipping line 4750: expected 3 fields, saw 4\\nSkipping line 4768: expected 3 fields, saw 4\\nSkipping line 4771: expected 3 fields, saw 4\\nSkipping line 4776: expected 3 fields, saw 5\\nSkipping line 4794: expected 3 fields, saw 4\\nSkipping line 4797: expected 3 fields, saw 4\\nSkipping line 4806: expected 3 fields, saw 4\\nSkipping line 4811: expected 3 fields, saw 4\\nSkipping line 4818: expected 3 fields, saw 4\\nSkipping line 4823: expected 3 fields, saw 4\\nSkipping line 4828: expected 3 fields, saw 4\\nSkipping line 4834: expected 3 fields, saw 5\\nSkipping line 4851: expected 3 fields, saw 4\\nSkipping line 4852: expected 3 fields, saw 4\\nSkipping line 4869: expected 3 fields, saw 4\\nSkipping line 4870: expected 3 fields, saw 4\\nSkipping line 4874: expected 3 fields, saw 4\\nSkipping line 4877: expected 3 fields, saw 4\\nSkipping line 4879: expected 3 fields, saw 4\\nSkipping line 4888: expected 3 fields, saw 4\\nSkipping line 4889: expected 3 fields, saw 4\\nSkipping line 4891: expected 3 fields, saw 4\\nSkipping line 4898: expected 3 fields, saw 4\\nSkipping line 4913: expected 3 fields, saw 8\\nSkipping line 4914: expected 3 fields, saw 4\\nSkipping line 4915: expected 3 fields, saw 4\\nSkipping line 4916: expected 3 fields, saw 4\\nSkipping line 4920: expected 3 fields, saw 5\\nSkipping line 4930: expected 3 fields, saw 4\\nSkipping line 4936: expected 3 fields, saw 4\\nSkipping line 4940: expected 3 fields, saw 4\\nSkipping line 4943: expected 3 fields, saw 4\\nSkipping line 4945: expected 3 fields, saw 4\\nSkipping line 4946: expected 3 fields, saw 4\\nSkipping line 4951: expected 3 fields, saw 6\\nSkipping line 4952: expected 3 fields, saw 5\\nSkipping line 4954: expected 3 fields, saw 5\\nSkipping line 4958: expected 3 fields, saw 4\\nSkipping line 4966: expected 3 fields, saw 4\\nSkipping line 4969: expected 3 fields, saw 5\\nSkipping line 4976: expected 3 fields, saw 5\\nSkipping line 4982: expected 3 fields, saw 4\\nSkipping line 4996: expected 3 fields, saw 4\\nSkipping line 4997: expected 3 fields, saw 5\\nSkipping line 5001: expected 3 fields, saw 4\\nSkipping line 5002: expected 3 fields, saw 4\\nSkipping line 5005: expected 3 fields, saw 4\\nSkipping line 5006: expected 3 fields, saw 4\\nSkipping line 5010: expected 3 fields, saw 6\\nSkipping line 5014: expected 3 fields, saw 6\\nSkipping line 5028: expected 3 fields, saw 4\\nSkipping line 5042: expected 3 fields, saw 4\\nSkipping line 5052: expected 3 fields, saw 4\\nSkipping line 5054: expected 3 fields, saw 4\\nSkipping line 5071: expected 3 fields, saw 4\\nSkipping line 5076: expected 3 fields, saw 5\\nSkipping line 5089: expected 3 fields, saw 4\\nSkipping line 5093: expected 3 fields, saw 4\\nSkipping line 5095: expected 3 fields, saw 5\\nSkipping line 5104: expected 3 fields, saw 4\\nSkipping line 5113: expected 3 fields, saw 4\\nSkipping line 5116: expected 3 fields, saw 4\\nSkipping line 5122: expected 3 fields, saw 4\\nSkipping line 5127: expected 3 fields, saw 4\\nSkipping line 5130: expected 3 fields, saw 4\\nSkipping line 5132: expected 3 fields, saw 4\\nSkipping line 5135: expected 3 fields, saw 5\\nSkipping line 5136: expected 3 fields, saw 4\\nSkipping line 5137: expected 3 fields, saw 4\\nSkipping line 5139: expected 3 fields, saw 4\\nSkipping line 5142: expected 3 fields, saw 4\\nSkipping line 5148: expected 3 fields, saw 5\\nSkipping line 5153: expected 3 fields, saw 4\\nSkipping line 5154: expected 3 fields, saw 4\\nSkipping line 5164: expected 3 fields, saw 6\\nSkipping line 5169: expected 3 fields, saw 4\\nSkipping line 5171: expected 3 fields, saw 4\\nSkipping line 5184: expected 3 fields, saw 4\\nSkipping line 5200: expected 3 fields, saw 4\\nSkipping line 5202: expected 3 fields, saw 4\\nSkipping line 5203: expected 3 fields, saw 4\\nSkipping line 5230: expected 3 fields, saw 4\\nSkipping line 5233: expected 3 fields, saw 5\\nSkipping line 5234: expected 3 fields, saw 4\\nSkipping line 5247: expected 3 fields, saw 4\\nSkipping line 5265: expected 3 fields, saw 4\\nSkipping line 5273: expected 3 fields, saw 4\\nSkipping line 5279: expected 3 fields, saw 4\\nSkipping line 5289: expected 3 fields, saw 5\\nSkipping line 5298: expected 3 fields, saw 4\\nSkipping line 5332: expected 3 fields, saw 4\\nSkipping line 5334: expected 3 fields, saw 4\\nSkipping line 5335: expected 3 fields, saw 4\\nSkipping line 5337: expected 3 fields, saw 4\\nSkipping line 5353: expected 3 fields, saw 4\\nSkipping line 5359: expected 3 fields, saw 4\\nSkipping line 5360: expected 3 fields, saw 4\\nSkipping line 5371: expected 3 fields, saw 5\\nSkipping line 5393: expected 3 fields, saw 4\\nSkipping line 5410: expected 3 fields, saw 4\\nSkipping line 5418: expected 3 fields, saw 6\\nSkipping line 5422: expected 3 fields, saw 4\\nSkipping line 5423: expected 3 fields, saw 5\\nSkipping line 5424: expected 3 fields, saw 4\\nSkipping line 5429: expected 3 fields, saw 4\\nSkipping line 5434: expected 3 fields, saw 4\\nSkipping line 5436: expected 3 fields, saw 4\\nSkipping line 5437: expected 3 fields, saw 5\\nSkipping line 5438: expected 3 fields, saw 7\\nSkipping line 5442: expected 3 fields, saw 4\\nSkipping line 5443: expected 3 fields, saw 4\\nSkipping line 5458: expected 3 fields, saw 4\\nSkipping line 5469: expected 3 fields, saw 4\\nSkipping line 5477: expected 3 fields, saw 4\\nSkipping line 5504: expected 3 fields, saw 4\\nSkipping line 5516: expected 3 fields, saw 4\\nSkipping line 5519: expected 3 fields, saw 5\\nSkipping line 5520: expected 3 fields, saw 4\\nSkipping line 5525: expected 3 fields, saw 10\\nSkipping line 5529: expected 3 fields, saw 4\\nSkipping line 5530: expected 3 fields, saw 4\\nSkipping line 5546: expected 3 fields, saw 4\\nSkipping line 5556: expected 3 fields, saw 5\\nSkipping line 5565: expected 3 fields, saw 5\\nSkipping line 5570: expected 3 fields, saw 6\\nSkipping line 5584: expected 3 fields, saw 5\\nSkipping line 5603: expected 3 fields, saw 7\\nSkipping line 5607: expected 3 fields, saw 4\\nSkipping line 5629: expected 3 fields, saw 4\\nSkipping line 5631: expected 3 fields, saw 5\\nSkipping line 5635: expected 3 fields, saw 4\\nSkipping line 5639: expected 3 fields, saw 4\\nSkipping line 5642: expected 3 fields, saw 4\\nSkipping line 5650: expected 3 fields, saw 4\\nSkipping line 5668: expected 3 fields, saw 4\\nSkipping line 5672: expected 3 fields, saw 5\\nSkipping line 5677: expected 3 fields, saw 4\\nSkipping line 5680: expected 3 fields, saw 4\\nSkipping line 5686: expected 3 fields, saw 4\\nSkipping line 5703: expected 3 fields, saw 4\\nSkipping line 5707: expected 3 fields, saw 4\\nSkipping line 5712: expected 3 fields, saw 4\\nSkipping line 5718: expected 3 fields, saw 4\\nSkipping line 5725: expected 3 fields, saw 12\\nSkipping line 5733: expected 3 fields, saw 4\\nSkipping line 5736: expected 3 fields, saw 5\\nSkipping line 5739: expected 3 fields, saw 5\\nSkipping line 5747: expected 3 fields, saw 4\\nSkipping line 5759: expected 3 fields, saw 4\\nSkipping line 5760: expected 3 fields, saw 7\\nSkipping line 5764: expected 3 fields, saw 4\\nSkipping line 5768: expected 3 fields, saw 4\\nSkipping line 5774: expected 3 fields, saw 5\\nSkipping line 5779: expected 3 fields, saw 4\\nSkipping line 5784: expected 3 fields, saw 4\\nSkipping line 5789: expected 3 fields, saw 5\\nSkipping line 5790: expected 3 fields, saw 4\\nSkipping line 5792: expected 3 fields, saw 4\\nSkipping line 5816: expected 3 fields, saw 4\\nSkipping line 5818: expected 3 fields, saw 4\\nSkipping line 5826: expected 3 fields, saw 4\\nSkipping line 5831: expected 3 fields, saw 4\\nSkipping line 5845: expected 3 fields, saw 4\\nSkipping line 5853: expected 3 fields, saw 5\\nSkipping line 5857: expected 3 fields, saw 4\\nSkipping line 5858: expected 3 fields, saw 5\\nSkipping line 5863: expected 3 fields, saw 4\\nSkipping line 5877: expected 3 fields, saw 5\\nSkipping line 5881: expected 3 fields, saw 4\\nSkipping line 5884: expected 3 fields, saw 4\\nSkipping line 5888: expected 3 fields, saw 5\\nSkipping line 5891: expected 3 fields, saw 4\\nSkipping line 5913: expected 3 fields, saw 4\\nSkipping line 5914: expected 3 fields, saw 4\\nSkipping line 5917: expected 3 fields, saw 4\\nSkipping line 5918: expected 3 fields, saw 4\\nSkipping line 5922: expected 3 fields, saw 4\\nSkipping line 5942: expected 3 fields, saw 4\\nSkipping line 5960: expected 3 fields, saw 4\\nSkipping line 5963: expected 3 fields, saw 4\\nSkipping line 5979: expected 3 fields, saw 4\\nSkipping line 5980: expected 3 fields, saw 5\\nSkipping line 5981: expected 3 fields, saw 4\\nSkipping line 6024: expected 3 fields, saw 5\\nSkipping line 6030: expected 3 fields, saw 4\\nSkipping line 6035: expected 3 fields, saw 4\\nSkipping line 6044: expected 3 fields, saw 4\\nSkipping line 6065: expected 3 fields, saw 4\\nSkipping line 6066: expected 3 fields, saw 4\\nSkipping line 6068: expected 3 fields, saw 4\\nSkipping line 6069: expected 3 fields, saw 4\\nSkipping line 6070: expected 3 fields, saw 5\\nSkipping line 6071: expected 3 fields, saw 4\\nSkipping line 6092: expected 3 fields, saw 5\\nSkipping line 6114: expected 3 fields, saw 4\\nSkipping line 6124: expected 3 fields, saw 4\\nSkipping line 6127: expected 3 fields, saw 4\\nSkipping line 6134: expected 3 fields, saw 6\\nSkipping line 6140: expected 3 fields, saw 4\\nSkipping line 6148: expected 3 fields, saw 4\\nSkipping line 6158: expected 3 fields, saw 5\\nSkipping line 6174: expected 3 fields, saw 4\\nSkipping line 6183: expected 3 fields, saw 4\\nSkipping line 6190: expected 3 fields, saw 4\\nSkipping line 6196: expected 3 fields, saw 4\\nSkipping line 6202: expected 3 fields, saw 4\\nSkipping line 6208: expected 3 fields, saw 4\\nSkipping line 6217: expected 3 fields, saw 4\\nSkipping line 6241: expected 3 fields, saw 4\\nSkipping line 6248: expected 3 fields, saw 5\\nSkipping line 6263: expected 3 fields, saw 4\\nSkipping line 6267: expected 3 fields, saw 4\\nSkipping line 6283: expected 3 fields, saw 4\\nSkipping line 6285: expected 3 fields, saw 4\\nSkipping line 6287: expected 3 fields, saw 9\\nSkipping line 6298: expected 3 fields, saw 4\\nSkipping line 6299: expected 3 fields, saw 5\\nSkipping line 6308: expected 3 fields, saw 5\\nSkipping line 6327: expected 3 fields, saw 4\\nSkipping line 6330: expected 3 fields, saw 4\\nSkipping line 6346: expected 3 fields, saw 4\\nSkipping line 6347: expected 3 fields, saw 4\\nSkipping line 6357: expected 3 fields, saw 5\\nSkipping line 6358: expected 3 fields, saw 7\\nSkipping line 6362: expected 3 fields, saw 4\\nSkipping line 6366: expected 3 fields, saw 4\\nSkipping line 6379: expected 3 fields, saw 4\\nSkipping line 6380: expected 3 fields, saw 6\\nSkipping line 6383: expected 3 fields, saw 4\\nSkipping line 6396: expected 3 fields, saw 4\\nSkipping line 6399: expected 3 fields, saw 4\\nSkipping line 6401: expected 3 fields, saw 5\\nSkipping line 6403: expected 3 fields, saw 4\\nSkipping line 6408: expected 3 fields, saw 4\\nSkipping line 6415: expected 3 fields, saw 4\\nSkipping line 6416: expected 3 fields, saw 4\\nSkipping line 6421: expected 3 fields, saw 4\\nSkipping line 6423: expected 3 fields, saw 4\\nSkipping line 6424: expected 3 fields, saw 5\\nSkipping line 6436: expected 3 fields, saw 4\\nSkipping line 6438: expected 3 fields, saw 5\\nSkipping line 6443: expected 3 fields, saw 4\\nSkipping line 6454: expected 3 fields, saw 4\\nSkipping line 6463: expected 3 fields, saw 5\\nSkipping line 6478: expected 3 fields, saw 4\\nSkipping line 6479: expected 3 fields, saw 4\\nSkipping line 6486: expected 3 fields, saw 4\\nSkipping line 6487: expected 3 fields, saw 4\\nSkipping line 6491: expected 3 fields, saw 4\\nSkipping line 6492: expected 3 fields, saw 4\\nSkipping line 6493: expected 3 fields, saw 4\\nSkipping line 6496: expected 3 fields, saw 4\\nSkipping line 6502: expected 3 fields, saw 4\\nSkipping line 6503: expected 3 fields, saw 4\\nSkipping line 6505: expected 3 fields, saw 4\\nSkipping line 6509: expected 3 fields, saw 4\\nSkipping line 6510: expected 3 fields, saw 5\\nSkipping line 6520: expected 3 fields, saw 4\\nSkipping line 6521: expected 3 fields, saw 4\\nSkipping line 6522: expected 3 fields, saw 6\\nSkipping line 6529: expected 3 fields, saw 4\\nSkipping line 6539: expected 3 fields, saw 4\\nSkipping line 6546: expected 3 fields, saw 5\\nSkipping line 6548: expected 3 fields, saw 4\\nSkipping line 6560: expected 3 fields, saw 4\\nSkipping line 6566: expected 3 fields, saw 4\\nSkipping line 6575: expected 3 fields, saw 4\\nSkipping line 6578: expected 3 fields, saw 4\\nSkipping line 6584: expected 3 fields, saw 4\\nSkipping line 6585: expected 3 fields, saw 5\\nSkipping line 6596: expected 3 fields, saw 4\\nSkipping line 6597: expected 3 fields, saw 4\\nSkipping line 6605: expected 3 fields, saw 4\\nSkipping line 6613: expected 3 fields, saw 4\\nSkipping line 6619: expected 3 fields, saw 4\\nSkipping line 6620: expected 3 fields, saw 4\\nSkipping line 6623: expected 3 fields, saw 4\\nSkipping line 6624: expected 3 fields, saw 5\\nSkipping line 6627: expected 3 fields, saw 5\\nSkipping line 6628: expected 3 fields, saw 4\\nSkipping line 6630: expected 3 fields, saw 5\\nSkipping line 6635: expected 3 fields, saw 5\\nSkipping line 6642: expected 3 fields, saw 5\\nSkipping line 6645: expected 3 fields, saw 4\\nSkipping line 6650: expected 3 fields, saw 5\\nSkipping line 6683: expected 3 fields, saw 4\\nSkipping line 6684: expected 3 fields, saw 6\\nSkipping line 6686: expected 3 fields, saw 4\\nSkipping line 6687: expected 3 fields, saw 5\\nSkipping line 6700: expected 3 fields, saw 4\\nSkipping line 6708: expected 3 fields, saw 4\\nSkipping line 6714: expected 3 fields, saw 4\\nSkipping line 6715: expected 3 fields, saw 4\\nSkipping line 6723: expected 3 fields, saw 4\\nSkipping line 6725: expected 3 fields, saw 7\\nSkipping line 6755: expected 3 fields, saw 4\\nSkipping line 6767: expected 3 fields, saw 4\\nSkipping line 6778: expected 3 fields, saw 4\\nSkipping line 6782: expected 3 fields, saw 4\\nSkipping line 6796: expected 3 fields, saw 4\\nSkipping line 6798: expected 3 fields, saw 4\\nSkipping line 6801: expected 3 fields, saw 4\\nSkipping line 6805: expected 3 fields, saw 4\\nSkipping line 6806: expected 3 fields, saw 4\\nSkipping line 6808: expected 3 fields, saw 4\\nSkipping line 6818: expected 3 fields, saw 4\\nSkipping line 6820: expected 3 fields, saw 4\\nSkipping line 6827: expected 3 fields, saw 4\\nSkipping line 6846: expected 3 fields, saw 4\\nSkipping line 6859: expected 3 fields, saw 4\\nSkipping line 6869: expected 3 fields, saw 4\\nSkipping line 6872: expected 3 fields, saw 4\\nSkipping line 6879: expected 3 fields, saw 5\\nSkipping line 6882: expected 3 fields, saw 4\\nSkipping line 6892: expected 3 fields, saw 4\\nSkipping line 6893: expected 3 fields, saw 5\\nSkipping line 6905: expected 3 fields, saw 5\\nSkipping line 6907: expected 3 fields, saw 4\\nSkipping line 6910: expected 3 fields, saw 4\\nSkipping line 6912: expected 3 fields, saw 4\\nSkipping line 6916: expected 3 fields, saw 5\\nSkipping line 6922: expected 3 fields, saw 4\\nSkipping line 6924: expected 3 fields, saw 5\\nSkipping line 6925: expected 3 fields, saw 5\\nSkipping line 6935: expected 3 fields, saw 4\\nSkipping line 6946: expected 3 fields, saw 4\\nSkipping line 6950: expected 3 fields, saw 4\\nSkipping line 6956: expected 3 fields, saw 4\\nSkipping line 6957: expected 3 fields, saw 4\\nSkipping line 6971: expected 3 fields, saw 4\\nSkipping line 6976: expected 3 fields, saw 4\\nSkipping line 6977: expected 3 fields, saw 4\\nSkipping line 6978: expected 3 fields, saw 4\\nSkipping line 6979: expected 3 fields, saw 4\\nSkipping line 6982: expected 3 fields, saw 4\\nSkipping line 6998: expected 3 fields, saw 5\\nSkipping line 7006: expected 3 fields, saw 4\\nSkipping line 7010: expected 3 fields, saw 4\\nSkipping line 7015: expected 3 fields, saw 4\\nSkipping line 7016: expected 3 fields, saw 4\\nSkipping line 7045: expected 3 fields, saw 6\\nSkipping line 7054: expected 3 fields, saw 4\\nSkipping line 7066: expected 3 fields, saw 4\\nSkipping line 7077: expected 3 fields, saw 4\\nSkipping line 7080: expected 3 fields, saw 4\\nSkipping line 7083: expected 3 fields, saw 4\\nSkipping line 7095: expected 3 fields, saw 4\\nSkipping line 7101: expected 3 fields, saw 4\\nSkipping line 7104: expected 3 fields, saw 4\\nSkipping line 7106: expected 3 fields, saw 4\\nSkipping line 7107: expected 3 fields, saw 4\\nSkipping line 7109: expected 3 fields, saw 4\\nSkipping line 7113: expected 3 fields, saw 4\\nSkipping line 7119: expected 3 fields, saw 4\\nSkipping line 7129: expected 3 fields, saw 5\\nSkipping line 7130: expected 3 fields, saw 4\\nSkipping line 7150: expected 3 fields, saw 5\\nSkipping line 7153: expected 3 fields, saw 4\\nSkipping line 7158: expected 3 fields, saw 4\\nSkipping line 7164: expected 3 fields, saw 4\\nSkipping line 7169: expected 3 fields, saw 4\\nSkipping line 7179: expected 3 fields, saw 4\\nSkipping line 7181: expected 3 fields, saw 4\\nSkipping line 7182: expected 3 fields, saw 4\\nSkipping line 7188: expected 3 fields, saw 4\\nSkipping line 7190: expected 3 fields, saw 5\\nSkipping line 7210: expected 3 fields, saw 4\\nSkipping line 7212: expected 3 fields, saw 5\\nSkipping line 7219: expected 3 fields, saw 4\\nSkipping line 7221: expected 3 fields, saw 4\\nSkipping line 7237: expected 3 fields, saw 4\\nSkipping line 7244: expected 3 fields, saw 5\\nSkipping line 7252: expected 3 fields, saw 4\\nSkipping line 7253: expected 3 fields, saw 4\\nSkipping line 7264: expected 3 fields, saw 4\\nSkipping line 7269: expected 3 fields, saw 4\\nSkipping line 7278: expected 3 fields, saw 5\\nSkipping line 7290: expected 3 fields, saw 5\\nSkipping line 7300: expected 3 fields, saw 5\\nSkipping line 7305: expected 3 fields, saw 4\\nSkipping line 7307: expected 3 fields, saw 4\\nSkipping line 7310: expected 3 fields, saw 4\\nSkipping line 7333: expected 3 fields, saw 4\\nSkipping line 7339: expected 3 fields, saw 5\\nSkipping line 7352: expected 3 fields, saw 5\\nSkipping line 7355: expected 3 fields, saw 4\\nSkipping line 7357: expected 3 fields, saw 4\\nSkipping line 7361: expected 3 fields, saw 4\\nSkipping line 7376: expected 3 fields, saw 4\\nSkipping line 7381: expected 3 fields, saw 5\\nSkipping line 7384: expected 3 fields, saw 5\\nSkipping line 7387: expected 3 fields, saw 4\\nSkipping line 7396: expected 3 fields, saw 4\\nSkipping line 7401: expected 3 fields, saw 4\\nSkipping line 7405: expected 3 fields, saw 4\\nSkipping line 7410: expected 3 fields, saw 4\\nSkipping line 7418: expected 3 fields, saw 5\\nSkipping line 7430: expected 3 fields, saw 4\\nSkipping line 7451: expected 3 fields, saw 4\\nSkipping line 7463: expected 3 fields, saw 4\\nSkipping line 7465: expected 3 fields, saw 4\\nSkipping line 7466: expected 3 fields, saw 4\\nSkipping line 7473: expected 3 fields, saw 4\\nSkipping line 7476: expected 3 fields, saw 4\\nSkipping line 7480: expected 3 fields, saw 4\\nSkipping line 7482: expected 3 fields, saw 4\\nSkipping line 7483: expected 3 fields, saw 4\\nSkipping line 7486: expected 3 fields, saw 5\\nSkipping line 7499: expected 3 fields, saw 4\\nSkipping line 7507: expected 3 fields, saw 4\\nSkipping line 7513: expected 3 fields, saw 4\\nSkipping line 7531: expected 3 fields, saw 4\\nSkipping line 7558: expected 3 fields, saw 4\\nSkipping line 7567: expected 3 fields, saw 4\\nSkipping line 7581: expected 3 fields, saw 4\\nSkipping line 7590: expected 3 fields, saw 5\\nSkipping line 7600: expected 3 fields, saw 5\\nSkipping line 7615: expected 3 fields, saw 4\\nSkipping line 7616: expected 3 fields, saw 4\\nSkipping line 7619: expected 3 fields, saw 4\\nSkipping line 7620: expected 3 fields, saw 4\\nSkipping line 7621: expected 3 fields, saw 4\\nSkipping line 7627: expected 3 fields, saw 4\\nSkipping line 7642: expected 3 fields, saw 4\\nSkipping line 7643: expected 3 fields, saw 4\\nSkipping line 7660: expected 3 fields, saw 4\\nSkipping line 7661: expected 3 fields, saw 6\\nSkipping line 7663: expected 3 fields, saw 4\\nSkipping line 7665: expected 3 fields, saw 4\\nSkipping line 7666: expected 3 fields, saw 4\\nSkipping line 7670: expected 3 fields, saw 4\\nSkipping line 7692: expected 3 fields, saw 4\\nSkipping line 7694: expected 3 fields, saw 4\\nSkipping line 7703: expected 3 fields, saw 4\\nSkipping line 7706: expected 3 fields, saw 5\\nSkipping line 7713: expected 3 fields, saw 4\\nSkipping line 7721: expected 3 fields, saw 4\\nSkipping line 7732: expected 3 fields, saw 4\\nSkipping line 7736: expected 3 fields, saw 5\\nSkipping line 7744: expected 3 fields, saw 4\\nSkipping line 7759: expected 3 fields, saw 4\\nSkipping line 7760: expected 3 fields, saw 4\\nSkipping line 7761: expected 3 fields, saw 5\\nSkipping line 7764: expected 3 fields, saw 4\\nSkipping line 7767: expected 3 fields, saw 5\\nSkipping line 7768: expected 3 fields, saw 4\\nSkipping line 7775: expected 3 fields, saw 4\\nSkipping line 7779: expected 3 fields, saw 4\\nSkipping line 7783: expected 3 fields, saw 5\\nSkipping line 7786: expected 3 fields, saw 5\\nSkipping line 7792: expected 3 fields, saw 5\\nSkipping line 7804: expected 3 fields, saw 4\\nSkipping line 7815: expected 3 fields, saw 4\\nSkipping line 7819: expected 3 fields, saw 5\\nSkipping line 7828: expected 3 fields, saw 4\\nSkipping line 7830: expected 3 fields, saw 4\\nSkipping line 7834: expected 3 fields, saw 4\\nSkipping line 7836: expected 3 fields, saw 4\\nSkipping line 7848: expected 3 fields, saw 4\\nSkipping line 7865: expected 3 fields, saw 4\\nSkipping line 7866: expected 3 fields, saw 4\\nSkipping line 7868: expected 3 fields, saw 4\\nSkipping line 7870: expected 3 fields, saw 4\\nSkipping line 7872: expected 3 fields, saw 4\\nSkipping line 7896: expected 3 fields, saw 4\\nSkipping line 7903: expected 3 fields, saw 5\\nSkipping line 7912: expected 3 fields, saw 4\\nSkipping line 7917: expected 3 fields, saw 5\\nSkipping line 7919: expected 3 fields, saw 4\\nSkipping line 7924: expected 3 fields, saw 4\\nSkipping line 7938: expected 3 fields, saw 4\\nSkipping line 7940: expected 3 fields, saw 4\\nSkipping line 7952: expected 3 fields, saw 5\\nSkipping line 7957: expected 3 fields, saw 4\\nSkipping line 7965: expected 3 fields, saw 5\\nSkipping line 7975: expected 3 fields, saw 5\\nSkipping line 7978: expected 3 fields, saw 5\\nSkipping line 7986: expected 3 fields, saw 4\\nSkipping line 8022: expected 3 fields, saw 5\\nSkipping line 8033: expected 3 fields, saw 4\\nSkipping line 8047: expected 3 fields, saw 4\\nSkipping line 8051: expected 3 fields, saw 4\\nSkipping line 8055: expected 3 fields, saw 4\\nSkipping line 8059: expected 3 fields, saw 4\\nSkipping line 8062: expected 3 fields, saw 4\\nSkipping line 8063: expected 3 fields, saw 4\\nSkipping line 8065: expected 3 fields, saw 4\\nSkipping line 8075: expected 3 fields, saw 4\\nSkipping line 8078: expected 3 fields, saw 4\\nSkipping line 8094: expected 3 fields, saw 4\\nSkipping line 8100: expected 3 fields, saw 4\\nSkipping line 8103: expected 3 fields, saw 4\\nSkipping line 8118: expected 3 fields, saw 4\\nSkipping line 8125: expected 3 fields, saw 4\\nSkipping line 8132: expected 3 fields, saw 4\\nSkipping line 8134: expected 3 fields, saw 4\\nSkipping line 8135: expected 3 fields, saw 4\\nSkipping line 8147: expected 3 fields, saw 4\\nSkipping line 8150: expected 3 fields, saw 6\\nSkipping line 8160: expected 3 fields, saw 5\\nSkipping line 8165: expected 3 fields, saw 4\\nSkipping line 8203: expected 3 fields, saw 4\\nSkipping line 8215: expected 3 fields, saw 4\\nSkipping line 8228: expected 3 fields, saw 4\\nSkipping line 8230: expected 3 fields, saw 4\\nSkipping line 8232: expected 3 fields, saw 5\\nSkipping line 8237: expected 3 fields, saw 4\\nSkipping line 8255: expected 3 fields, saw 4\\nSkipping line 8264: expected 3 fields, saw 7\\nSkipping line 8271: expected 3 fields, saw 6\\nSkipping line 8273: expected 3 fields, saw 4\\nSkipping line 8275: expected 3 fields, saw 4\\nSkipping line 8279: expected 3 fields, saw 4\\nSkipping line 8285: expected 3 fields, saw 4\\nSkipping line 8291: expected 3 fields, saw 4\\nSkipping line 8303: expected 3 fields, saw 4\\nSkipping line 8305: expected 3 fields, saw 4\\nSkipping line 8315: expected 3 fields, saw 7\\nSkipping line 8318: expected 3 fields, saw 4\\nSkipping line 8356: expected 3 fields, saw 5\\nSkipping line 8360: expected 3 fields, saw 6\\nSkipping line 8362: expected 3 fields, saw 4\\nSkipping line 8372: expected 3 fields, saw 5\\nSkipping line 8374: expected 3 fields, saw 4\\nSkipping line 8394: expected 3 fields, saw 4\\nSkipping line 8402: expected 3 fields, saw 4\\nSkipping line 8418: expected 3 fields, saw 5\\nSkipping line 8426: expected 3 fields, saw 10\\nSkipping line 8434: expected 3 fields, saw 4\\nSkipping line 8440: expected 3 fields, saw 5\\nSkipping line 8441: expected 3 fields, saw 4\\nSkipping line 8442: expected 3 fields, saw 4\\nSkipping line 8443: expected 3 fields, saw 4\\nSkipping line 8446: expected 3 fields, saw 4\\nSkipping line 8456: expected 3 fields, saw 4\\nSkipping line 8468: expected 3 fields, saw 5\\nSkipping line 8475: expected 3 fields, saw 5\\nSkipping line 8476: expected 3 fields, saw 5\\nSkipping line 8478: expected 3 fields, saw 5\\nSkipping line 8482: expected 3 fields, saw 4\\nSkipping line 8495: expected 3 fields, saw 4\\nSkipping line 8498: expected 3 fields, saw 4\\nSkipping line 8508: expected 3 fields, saw 4\\nSkipping line 8514: expected 3 fields, saw 4\\nSkipping line 8519: expected 3 fields, saw 4\\nSkipping line 8523: expected 3 fields, saw 8\\nSkipping line 8529: expected 3 fields, saw 4\\nSkipping line 8535: expected 3 fields, saw 4\\nSkipping line 8538: expected 3 fields, saw 4\\nSkipping line 8539: expected 3 fields, saw 4\\nSkipping line 8541: expected 3 fields, saw 4\\nSkipping line 8558: expected 3 fields, saw 4\\nSkipping line 8565: expected 3 fields, saw 4\\nSkipping line 8570: expected 3 fields, saw 4\\nSkipping line 8578: expected 3 fields, saw 4\\nSkipping line 8583: expected 3 fields, saw 4\\nSkipping line 8588: expected 3 fields, saw 4\\nSkipping line 8596: expected 3 fields, saw 4\\nSkipping line 8597: expected 3 fields, saw 4\\nSkipping line 8605: expected 3 fields, saw 4\\nSkipping line 8611: expected 3 fields, saw 4\\nSkipping line 8614: expected 3 fields, saw 4\\nSkipping line 8621: expected 3 fields, saw 4\\nSkipping line 8628: expected 3 fields, saw 6\\nSkipping line 8634: expected 3 fields, saw 4\\nSkipping line 8639: expected 3 fields, saw 4\\nSkipping line 8640: expected 3 fields, saw 4\\nSkipping line 8675: expected 3 fields, saw 5\\nSkipping line 8676: expected 3 fields, saw 4\\nSkipping line 8677: expected 3 fields, saw 4\\nSkipping line 8696: expected 3 fields, saw 4\\nSkipping line 8702: expected 3 fields, saw 4\\nSkipping line 8711: expected 3 fields, saw 4\\nSkipping line 8712: expected 3 fields, saw 4\\nSkipping line 8718: expected 3 fields, saw 4\\nSkipping line 8737: expected 3 fields, saw 4\\nSkipping line 8741: expected 3 fields, saw 4\\nSkipping line 8750: expected 3 fields, saw 4\\nSkipping line 8755: expected 3 fields, saw 4\\nSkipping line 8758: expected 3 fields, saw 4\\nSkipping line 8764: expected 3 fields, saw 5\\nSkipping line 8766: expected 3 fields, saw 4\\nSkipping line 8774: expected 3 fields, saw 5\\nSkipping line 8789: expected 3 fields, saw 4\\nSkipping line 8792: expected 3 fields, saw 5\\nSkipping line 8797: expected 3 fields, saw 4\\nSkipping line 8805: expected 3 fields, saw 5\\nSkipping line 8807: expected 3 fields, saw 4\\nSkipping line 8808: expected 3 fields, saw 4\\nSkipping line 8815: expected 3 fields, saw 4\\nSkipping line 8820: expected 3 fields, saw 4\\nSkipping line 8823: expected 3 fields, saw 4\\nSkipping line 8825: expected 3 fields, saw 6\\nSkipping line 8826: expected 3 fields, saw 5\\nSkipping line 8831: expected 3 fields, saw 4\\nSkipping line 8841: expected 3 fields, saw 4\\nSkipping line 8847: expected 3 fields, saw 4\\nSkipping line 8850: expected 3 fields, saw 6\\nSkipping line 8851: expected 3 fields, saw 4\\nSkipping line 8875: expected 3 fields, saw 4\\nSkipping line 8886: expected 3 fields, saw 4\\nSkipping line 8891: expected 3 fields, saw 5\\nSkipping line 8913: expected 3 fields, saw 4\\nSkipping line 8926: expected 3 fields, saw 4\\nSkipping line 8928: expected 3 fields, saw 4\\nSkipping line 8930: expected 3 fields, saw 4\\nSkipping line 8941: expected 3 fields, saw 5\\nSkipping line 8947: expected 3 fields, saw 4\\nSkipping line 8948: expected 3 fields, saw 4\\nSkipping line 8954: expected 3 fields, saw 4\\nSkipping line 8955: expected 3 fields, saw 4\\nSkipping line 8957: expected 3 fields, saw 4\\nSkipping line 8958: expected 3 fields, saw 4\\nSkipping line 8967: expected 3 fields, saw 4\\nSkipping line 8975: expected 3 fields, saw 5\\nSkipping line 8976: expected 3 fields, saw 4\\nSkipping line 8981: expected 3 fields, saw 5\\nSkipping line 8983: expected 3 fields, saw 4\\nSkipping line 8987: expected 3 fields, saw 4\\nSkipping line 8994: expected 3 fields, saw 4\\nSkipping line 8997: expected 3 fields, saw 4\\nSkipping line 9016: expected 3 fields, saw 6\\nSkipping line 9020: expected 3 fields, saw 4\\nSkipping line 9030: expected 3 fields, saw 4\\nSkipping line 9038: expected 3 fields, saw 6\\nSkipping line 9039: expected 3 fields, saw 4\\nSkipping line 9058: expected 3 fields, saw 4\\nSkipping line 9065: expected 3 fields, saw 4\\nSkipping line 9090: expected 3 fields, saw 4\\nSkipping line 9101: expected 3 fields, saw 4\\nSkipping line 9112: expected 3 fields, saw 5\\nSkipping line 9122: expected 3 fields, saw 4\\nSkipping line 9135: expected 3 fields, saw 5\\nSkipping line 9140: expected 3 fields, saw 4\\nSkipping line 9143: expected 3 fields, saw 5\\nSkipping line 9144: expected 3 fields, saw 4\\nSkipping line 9147: expected 3 fields, saw 4\\nSkipping line 9148: expected 3 fields, saw 6\\nSkipping line 9162: expected 3 fields, saw 4\\nSkipping line 9165: expected 3 fields, saw 6\\nSkipping line 9166: expected 3 fields, saw 4\\nSkipping line 9168: expected 3 fields, saw 4\\nSkipping line 9171: expected 3 fields, saw 4\\nSkipping line 9172: expected 3 fields, saw 4\\nSkipping line 9173: expected 3 fields, saw 4\\nSkipping line 9181: expected 3 fields, saw 4\\nSkipping line 9187: expected 3 fields, saw 4\\nSkipping line 9188: expected 3 fields, saw 4\\nSkipping line 9189: expected 3 fields, saw 4\\nSkipping line 9190: expected 3 fields, saw 4\\nSkipping line 9200: expected 3 fields, saw 4\\nSkipping line 9209: expected 3 fields, saw 4\\nSkipping line 9213: expected 3 fields, saw 4\\nSkipping line 9217: expected 3 fields, saw 5\\nSkipping line 9224: expected 3 fields, saw 4\\nSkipping line 9225: expected 3 fields, saw 4\\nSkipping line 9230: expected 3 fields, saw 4\\nSkipping line 9232: expected 3 fields, saw 4\\nSkipping line 9235: expected 3 fields, saw 4\\nSkipping line 9248: expected 3 fields, saw 8\\nSkipping line 9249: expected 3 fields, saw 4\\nSkipping line 9269: expected 3 fields, saw 4\\nSkipping line 9271: expected 3 fields, saw 5\\nSkipping line 9273: expected 3 fields, saw 4\\nSkipping line 9274: expected 3 fields, saw 5\\nSkipping line 9278: expected 3 fields, saw 6\\nSkipping line 9286: expected 3 fields, saw 4\\nSkipping line 9301: expected 3 fields, saw 5\\nSkipping line 9304: expected 3 fields, saw 4\\nSkipping line 9308: expected 3 fields, saw 4\\nSkipping line 9309: expected 3 fields, saw 4\\nSkipping line 9315: expected 3 fields, saw 4\\nSkipping line 9321: expected 3 fields, saw 4\\nSkipping line 9329: expected 3 fields, saw 4\\nSkipping line 9334: expected 3 fields, saw 4\\nSkipping line 9335: expected 3 fields, saw 5\\nSkipping line 9351: expected 3 fields, saw 5\\nSkipping line 9356: expected 3 fields, saw 4\\nSkipping line 9357: expected 3 fields, saw 4\\nSkipping line 9361: expected 3 fields, saw 4\\nSkipping line 9363: expected 3 fields, saw 5\\nSkipping line 9366: expected 3 fields, saw 4\\nSkipping line 9367: expected 3 fields, saw 4\\nSkipping line 9368: expected 3 fields, saw 4\\nSkipping line 9374: expected 3 fields, saw 5\\nSkipping line 9375: expected 3 fields, saw 5\\nSkipping line 9376: expected 3 fields, saw 6\\nSkipping line 9381: expected 3 fields, saw 5\\nSkipping line 9383: expected 3 fields, saw 4\\nSkipping line 9384: expected 3 fields, saw 4\\nSkipping line 9394: expected 3 fields, saw 4\\nSkipping line 9395: expected 3 fields, saw 5\\nSkipping line 9397: expected 3 fields, saw 4\\nSkipping line 9415: expected 3 fields, saw 4\\nSkipping line 9416: expected 3 fields, saw 4\\nSkipping line 9429: expected 3 fields, saw 8\\nSkipping line 9434: expected 3 fields, saw 9\\nSkipping line 9436: expected 3 fields, saw 4\\nSkipping line 9441: expected 3 fields, saw 4\\nSkipping line 9444: expected 3 fields, saw 10\\nSkipping line 9450: expected 3 fields, saw 4\\nSkipping line 9458: expected 3 fields, saw 5\\nSkipping line 9465: expected 3 fields, saw 4\\nSkipping line 9472: expected 3 fields, saw 5\\nSkipping line 9485: expected 3 fields, saw 4\\nSkipping line 9516: expected 3 fields, saw 4\\nSkipping line 9518: expected 3 fields, saw 4\\nSkipping line 9522: expected 3 fields, saw 4\\nSkipping line 9530: expected 3 fields, saw 4\\nSkipping line 9531: expected 3 fields, saw 4\\nSkipping line 9536: expected 3 fields, saw 4\\nSkipping line 9539: expected 3 fields, saw 6\\nSkipping line 9550: expected 3 fields, saw 4\\nSkipping line 9555: expected 3 fields, saw 7\\nSkipping line 9563: expected 3 fields, saw 4\\nSkipping line 9570: expected 3 fields, saw 4\\nSkipping line 9571: expected 3 fields, saw 5\\nSkipping line 9585: expected 3 fields, saw 4\\nSkipping line 9587: expected 3 fields, saw 4\\nSkipping line 9593: expected 3 fields, saw 4\\nSkipping line 9618: expected 3 fields, saw 4\\nSkipping line 9630: expected 3 fields, saw 4\\nSkipping line 9633: expected 3 fields, saw 4\\nSkipping line 9650: expected 3 fields, saw 4\\nSkipping line 9652: expected 3 fields, saw 4\\nSkipping line 9672: expected 3 fields, saw 4\\nSkipping line 9676: expected 3 fields, saw 4\\nSkipping line 9682: expected 3 fields, saw 4\\nSkipping line 9686: expected 3 fields, saw 4\\nSkipping line 9694: expected 3 fields, saw 6\\nSkipping line 9710: expected 3 fields, saw 5\\nSkipping line 9717: expected 3 fields, saw 4\\nSkipping line 9718: expected 3 fields, saw 4\\nSkipping line 9719: expected 3 fields, saw 4\\nSkipping line 9725: expected 3 fields, saw 4\\nSkipping line 9729: expected 3 fields, saw 4\\nSkipping line 9732: expected 3 fields, saw 4\\nSkipping line 9733: expected 3 fields, saw 5\\nSkipping line 9743: expected 3 fields, saw 5\\nSkipping line 9754: expected 3 fields, saw 4\\nSkipping line 9758: expected 3 fields, saw 5\\nSkipping line 9759: expected 3 fields, saw 4\\nSkipping line 9776: expected 3 fields, saw 4\\nSkipping line 9781: expected 3 fields, saw 4\\nSkipping line 9784: expected 3 fields, saw 4\\nSkipping line 9793: expected 3 fields, saw 4\\nSkipping line 9798: expected 3 fields, saw 4\\nSkipping line 9804: expected 3 fields, saw 5\\nSkipping line 9811: expected 3 fields, saw 4\\nSkipping line 9824: expected 3 fields, saw 4\\nSkipping line 9847: expected 3 fields, saw 4\\nSkipping line 9857: expected 3 fields, saw 4\\nSkipping line 9861: expected 3 fields, saw 4\\nSkipping line 9866: expected 3 fields, saw 4\\nSkipping line 9886: expected 3 fields, saw 4\\nSkipping line 9887: expected 3 fields, saw 4\\nSkipping line 9896: expected 3 fields, saw 4\\nSkipping line 9912: expected 3 fields, saw 4\\nSkipping line 9926: expected 3 fields, saw 4\\nSkipping line 9936: expected 3 fields, saw 5\\nSkipping line 9947: expected 3 fields, saw 4\\nSkipping line 9948: expected 3 fields, saw 5\\nSkipping line 9952: expected 3 fields, saw 4\\nSkipping line 9954: expected 3 fields, saw 4\\nSkipping line 9969: expected 3 fields, saw 4\\nSkipping line 9975: expected 3 fields, saw 6\\nSkipping line 9976: expected 3 fields, saw 4\\nSkipping line 9980: expected 3 fields, saw 4\\nSkipping line 9981: expected 3 fields, saw 6\\nSkipping line 9983: expected 3 fields, saw 4\\nSkipping line 9987: expected 3 fields, saw 4\\nSkipping line 9989: expected 3 fields, saw 4\\nSkipping line 9990: expected 3 fields, saw 5\\nSkipping line 9994: expected 3 fields, saw 5\\nSkipping line 9995: expected 3 fields, saw 5\\nSkipping line 10001: expected 3 fields, saw 4\\nSkipping line 10018: expected 3 fields, saw 4\\nSkipping line 10024: expected 3 fields, saw 4\\nSkipping line 10029: expected 3 fields, saw 4\\nSkipping line 10032: expected 3 fields, saw 4\\nSkipping line 10042: expected 3 fields, saw 4\\nSkipping line 10047: expected 3 fields, saw 4\\nSkipping line 10049: expected 3 fields, saw 4\\nSkipping line 10056: expected 3 fields, saw 4\\nSkipping line 10059: expected 3 fields, saw 4\\nSkipping line 10063: expected 3 fields, saw 4\\nSkipping line 10077: expected 3 fields, saw 4\\nSkipping line 10078: expected 3 fields, saw 5\\nSkipping line 10088: expected 3 fields, saw 4\\nSkipping line 10089: expected 3 fields, saw 5\\nSkipping line 10095: expected 3 fields, saw 4\\nSkipping line 10108: expected 3 fields, saw 4\\nSkipping line 10115: expected 3 fields, saw 4\\nSkipping line 10123: expected 3 fields, saw 4\\nSkipping line 10124: expected 3 fields, saw 4\\nSkipping line 10125: expected 3 fields, saw 5\\nSkipping line 10146: expected 3 fields, saw 4\\nSkipping line 10167: expected 3 fields, saw 4\\nSkipping line 10173: expected 3 fields, saw 4\\nSkipping line 10176: expected 3 fields, saw 6\\nSkipping line 10190: expected 3 fields, saw 5\\nSkipping line 10194: expected 3 fields, saw 4\\nSkipping line 10196: expected 3 fields, saw 6\\nSkipping line 10208: expected 3 fields, saw 4\\nSkipping line 10213: expected 3 fields, saw 4\\nSkipping line 10224: expected 3 fields, saw 4\\nSkipping line 10226: expected 3 fields, saw 4\\nSkipping line 10230: expected 3 fields, saw 4\\nSkipping line 10233: expected 3 fields, saw 4\\nSkipping line 10250: expected 3 fields, saw 4\\nSkipping line 10264: expected 3 fields, saw 5\\nSkipping line 10268: expected 3 fields, saw 5\\nSkipping line 10275: expected 3 fields, saw 4\\nSkipping line 10279: expected 3 fields, saw 4\\nSkipping line 10283: expected 3 fields, saw 4\\nSkipping line 10292: expected 3 fields, saw 5\\nSkipping line 10294: expected 3 fields, saw 4\\nSkipping line 10309: expected 3 fields, saw 4\\nSkipping line 10324: expected 3 fields, saw 7\\nSkipping line 10335: expected 3 fields, saw 6\\nSkipping line 10336: expected 3 fields, saw 5\\nSkipping line 10338: expected 3 fields, saw 4\\nSkipping line 10339: expected 3 fields, saw 4\\nSkipping line 10340: expected 3 fields, saw 4\\nSkipping line 10341: expected 3 fields, saw 4\\nSkipping line 10348: expected 3 fields, saw 5\\nSkipping line 10352: expected 3 fields, saw 4\\nSkipping line 10355: expected 3 fields, saw 6\\nSkipping line 10359: expected 3 fields, saw 4\\nSkipping line 10385: expected 3 fields, saw 4\\nSkipping line 10393: expected 3 fields, saw 4\\nSkipping line 10396: expected 3 fields, saw 4\\nSkipping line 10410: expected 3 fields, saw 4\\nSkipping line 10418: expected 3 fields, saw 4\\nSkipping line 10430: expected 3 fields, saw 6\\nSkipping line 10432: expected 3 fields, saw 4\\nSkipping line 10438: expected 3 fields, saw 4\\nSkipping line 10439: expected 3 fields, saw 4\\nSkipping line 10451: expected 3 fields, saw 4\\nSkipping line 10453: expected 3 fields, saw 4\\nSkipping line 10459: expected 3 fields, saw 4\\nSkipping line 10461: expected 3 fields, saw 4\\nSkipping line 10475: expected 3 fields, saw 5\\nSkipping line 10479: expected 3 fields, saw 5\\nSkipping line 10494: expected 3 fields, saw 4\\nSkipping line 10510: expected 3 fields, saw 4\\nSkipping line 10511: expected 3 fields, saw 4\\nSkipping line 10513: expected 3 fields, saw 4\\nSkipping line 10515: expected 3 fields, saw 4\\nSkipping line 10516: expected 3 fields, saw 4\\nSkipping line 10519: expected 3 fields, saw 5\\nSkipping line 10523: expected 3 fields, saw 4\\nSkipping line 10533: expected 3 fields, saw 4\\nSkipping line 10534: expected 3 fields, saw 4\\nSkipping line 10535: expected 3 fields, saw 6\\nSkipping line 10537: expected 3 fields, saw 4\\nSkipping line 10543: expected 3 fields, saw 5\\nSkipping line 10544: expected 3 fields, saw 4\\nSkipping line 10552: expected 3 fields, saw 4\\nSkipping line 10554: expected 3 fields, saw 4\\nSkipping line 10555: expected 3 fields, saw 7\\nSkipping line 10568: expected 3 fields, saw 4\\nSkipping line 10571: expected 3 fields, saw 4\\nSkipping line 10574: expected 3 fields, saw 4\\nSkipping line 10577: expected 3 fields, saw 5\\nSkipping line 10580: expected 3 fields, saw 4\\nSkipping line 10590: expected 3 fields, saw 4\\nSkipping line 10605: expected 3 fields, saw 4\\nSkipping line 10623: expected 3 fields, saw 4\\nSkipping line 10624: expected 3 fields, saw 4\\nSkipping line 10663: expected 3 fields, saw 4\\nSkipping line 10670: expected 3 fields, saw 4\\nSkipping line 10676: expected 3 fields, saw 4\\nSkipping line 10677: expected 3 fields, saw 4\\nSkipping line 10686: expected 3 fields, saw 4\\nSkipping line 10702: expected 3 fields, saw 4\\nSkipping line 10711: expected 3 fields, saw 4\\nSkipping line 10715: expected 3 fields, saw 4\\nSkipping line 10716: expected 3 fields, saw 4\\nSkipping line 10728: expected 3 fields, saw 4\\nSkipping line 10731: expected 3 fields, saw 13\\nSkipping line 10732: expected 3 fields, saw 4\\nSkipping line 10735: expected 3 fields, saw 4\\nSkipping line 10761: expected 3 fields, saw 5\\nSkipping line 10763: expected 3 fields, saw 5\\nSkipping line 10766: expected 3 fields, saw 5\\nSkipping line 10772: expected 3 fields, saw 4\\nSkipping line 10774: expected 3 fields, saw 4\\nSkipping line 10775: expected 3 fields, saw 4\\nSkipping line 10784: expected 3 fields, saw 4\\nSkipping line 10789: expected 3 fields, saw 4\\nSkipping line 10797: expected 3 fields, saw 4\\nSkipping line 10809: expected 3 fields, saw 4\\n'\n"
          ]
        },
        {
          "output_type": "execute_result",
          "data": {
            "text/plain": [
              "    label                                              tweet\n",
              "id                                                          \n",
              "1       0   @user when a father is dysfunctional and is s...\n",
              "2       0  @user @user thanks for #lyft credit i can't us...\n",
              "3       0                                bihday your majesty\n",
              "4       0  #model   i love u take with u all the time in ...\n",
              "5       0             factsguide: society now    #motivation\n",
              "6       0  [2/2] huge fan fare and big talking before the...\n",
              "7       0   @user camping tomorrow @user @user @user @use...\n",
              "8       0  the next school year is the year for exams.ð...\n",
              "9       0  we won!!! love the land!!! #allin #cavs #champ...\n",
              "10      0   @user @user welcome here !  i'm   it's so #gr...\n",
              "11      0   â #ireland consumer price index (mom) climb...\n",
              "12      0  we are so selfish. #orlando #standwithorlando ...\n",
              "13      0  i get to see my daddy today!!   #80days #getti...\n",
              "14      1  @user #cnn calls #michigan middle school 'buil...\n",
              "15      1  no comment!  in #australia   #opkillingbay #se...\n",
              "16      0  ouch...junior is angryð#got7 #junior #yugyo...\n",
              "17      0  i am thankful for having a paner. #thankful #p...\n",
              "18      1                             retweet if you agree! \n",
              "19      0  its #friday! ð smiles all around via ig use...\n",
              "21      0  #euro2016 people blaming ha for conceded goal ..."
            ],
            "text/html": [
              "\n",
              "  <div id=\"df-12e8650c-9a3f-4955-b3ed-3e34c2b8af74\">\n",
              "    <div class=\"colab-df-container\">\n",
              "      <div>\n",
              "<style scoped>\n",
              "    .dataframe tbody tr th:only-of-type {\n",
              "        vertical-align: middle;\n",
              "    }\n",
              "\n",
              "    .dataframe tbody tr th {\n",
              "        vertical-align: top;\n",
              "    }\n",
              "\n",
              "    .dataframe thead th {\n",
              "        text-align: right;\n",
              "    }\n",
              "</style>\n",
              "<table border=\"1\" class=\"dataframe\">\n",
              "  <thead>\n",
              "    <tr style=\"text-align: right;\">\n",
              "      <th></th>\n",
              "      <th>label</th>\n",
              "      <th>tweet</th>\n",
              "    </tr>\n",
              "    <tr>\n",
              "      <th>id</th>\n",
              "      <th></th>\n",
              "      <th></th>\n",
              "    </tr>\n",
              "  </thead>\n",
              "  <tbody>\n",
              "    <tr>\n",
              "      <th>1</th>\n",
              "      <td>0</td>\n",
              "      <td>@user when a father is dysfunctional and is s...</td>\n",
              "    </tr>\n",
              "    <tr>\n",
              "      <th>2</th>\n",
              "      <td>0</td>\n",
              "      <td>@user @user thanks for #lyft credit i can't us...</td>\n",
              "    </tr>\n",
              "    <tr>\n",
              "      <th>3</th>\n",
              "      <td>0</td>\n",
              "      <td>bihday your majesty</td>\n",
              "    </tr>\n",
              "    <tr>\n",
              "      <th>4</th>\n",
              "      <td>0</td>\n",
              "      <td>#model   i love u take with u all the time in ...</td>\n",
              "    </tr>\n",
              "    <tr>\n",
              "      <th>5</th>\n",
              "      <td>0</td>\n",
              "      <td>factsguide: society now    #motivation</td>\n",
              "    </tr>\n",
              "    <tr>\n",
              "      <th>6</th>\n",
              "      <td>0</td>\n",
              "      <td>[2/2] huge fan fare and big talking before the...</td>\n",
              "    </tr>\n",
              "    <tr>\n",
              "      <th>7</th>\n",
              "      <td>0</td>\n",
              "      <td>@user camping tomorrow @user @user @user @use...</td>\n",
              "    </tr>\n",
              "    <tr>\n",
              "      <th>8</th>\n",
              "      <td>0</td>\n",
              "      <td>the next school year is the year for exams.ð...</td>\n",
              "    </tr>\n",
              "    <tr>\n",
              "      <th>9</th>\n",
              "      <td>0</td>\n",
              "      <td>we won!!! love the land!!! #allin #cavs #champ...</td>\n",
              "    </tr>\n",
              "    <tr>\n",
              "      <th>10</th>\n",
              "      <td>0</td>\n",
              "      <td>@user @user welcome here !  i'm   it's so #gr...</td>\n",
              "    </tr>\n",
              "    <tr>\n",
              "      <th>11</th>\n",
              "      <td>0</td>\n",
              "      <td>â #ireland consumer price index (mom) climb...</td>\n",
              "    </tr>\n",
              "    <tr>\n",
              "      <th>12</th>\n",
              "      <td>0</td>\n",
              "      <td>we are so selfish. #orlando #standwithorlando ...</td>\n",
              "    </tr>\n",
              "    <tr>\n",
              "      <th>13</th>\n",
              "      <td>0</td>\n",
              "      <td>i get to see my daddy today!!   #80days #getti...</td>\n",
              "    </tr>\n",
              "    <tr>\n",
              "      <th>14</th>\n",
              "      <td>1</td>\n",
              "      <td>@user #cnn calls #michigan middle school 'buil...</td>\n",
              "    </tr>\n",
              "    <tr>\n",
              "      <th>15</th>\n",
              "      <td>1</td>\n",
              "      <td>no comment!  in #australia   #opkillingbay #se...</td>\n",
              "    </tr>\n",
              "    <tr>\n",
              "      <th>16</th>\n",
              "      <td>0</td>\n",
              "      <td>ouch...junior is angryð#got7 #junior #yugyo...</td>\n",
              "    </tr>\n",
              "    <tr>\n",
              "      <th>17</th>\n",
              "      <td>0</td>\n",
              "      <td>i am thankful for having a paner. #thankful #p...</td>\n",
              "    </tr>\n",
              "    <tr>\n",
              "      <th>18</th>\n",
              "      <td>1</td>\n",
              "      <td>retweet if you agree!</td>\n",
              "    </tr>\n",
              "    <tr>\n",
              "      <th>19</th>\n",
              "      <td>0</td>\n",
              "      <td>its #friday! ð smiles all around via ig use...</td>\n",
              "    </tr>\n",
              "    <tr>\n",
              "      <th>21</th>\n",
              "      <td>0</td>\n",
              "      <td>#euro2016 people blaming ha for conceded goal ...</td>\n",
              "    </tr>\n",
              "  </tbody>\n",
              "</table>\n",
              "</div>\n",
              "      <button class=\"colab-df-convert\" onclick=\"convertToInteractive('df-12e8650c-9a3f-4955-b3ed-3e34c2b8af74')\"\n",
              "              title=\"Convert this dataframe to an interactive table.\"\n",
              "              style=\"display:none;\">\n",
              "        \n",
              "  <svg xmlns=\"http://www.w3.org/2000/svg\" height=\"24px\"viewBox=\"0 0 24 24\"\n",
              "       width=\"24px\">\n",
              "    <path d=\"M0 0h24v24H0V0z\" fill=\"none\"/>\n",
              "    <path d=\"M18.56 5.44l.94 2.06.94-2.06 2.06-.94-2.06-.94-.94-2.06-.94 2.06-2.06.94zm-11 1L8.5 8.5l.94-2.06 2.06-.94-2.06-.94L8.5 2.5l-.94 2.06-2.06.94zm10 10l.94 2.06.94-2.06 2.06-.94-2.06-.94-.94-2.06-.94 2.06-2.06.94z\"/><path d=\"M17.41 7.96l-1.37-1.37c-.4-.4-.92-.59-1.43-.59-.52 0-1.04.2-1.43.59L10.3 9.45l-7.72 7.72c-.78.78-.78 2.05 0 2.83L4 21.41c.39.39.9.59 1.41.59.51 0 1.02-.2 1.41-.59l7.78-7.78 2.81-2.81c.8-.78.8-2.07 0-2.86zM5.41 20L4 18.59l7.72-7.72 1.47 1.35L5.41 20z\"/>\n",
              "  </svg>\n",
              "      </button>\n",
              "      \n",
              "  <style>\n",
              "    .colab-df-container {\n",
              "      display:flex;\n",
              "      flex-wrap:wrap;\n",
              "      gap: 12px;\n",
              "    }\n",
              "\n",
              "    .colab-df-convert {\n",
              "      background-color: #E8F0FE;\n",
              "      border: none;\n",
              "      border-radius: 50%;\n",
              "      cursor: pointer;\n",
              "      display: none;\n",
              "      fill: #1967D2;\n",
              "      height: 32px;\n",
              "      padding: 0 0 0 0;\n",
              "      width: 32px;\n",
              "    }\n",
              "\n",
              "    .colab-df-convert:hover {\n",
              "      background-color: #E2EBFA;\n",
              "      box-shadow: 0px 1px 2px rgba(60, 64, 67, 0.3), 0px 1px 3px 1px rgba(60, 64, 67, 0.15);\n",
              "      fill: #174EA6;\n",
              "    }\n",
              "\n",
              "    [theme=dark] .colab-df-convert {\n",
              "      background-color: #3B4455;\n",
              "      fill: #D2E3FC;\n",
              "    }\n",
              "\n",
              "    [theme=dark] .colab-df-convert:hover {\n",
              "      background-color: #434B5C;\n",
              "      box-shadow: 0px 1px 3px 1px rgba(0, 0, 0, 0.15);\n",
              "      filter: drop-shadow(0px 1px 2px rgba(0, 0, 0, 0.3));\n",
              "      fill: #FFFFFF;\n",
              "    }\n",
              "  </style>\n",
              "\n",
              "      <script>\n",
              "        const buttonEl =\n",
              "          document.querySelector('#df-12e8650c-9a3f-4955-b3ed-3e34c2b8af74 button.colab-df-convert');\n",
              "        buttonEl.style.display =\n",
              "          google.colab.kernel.accessAllowed ? 'block' : 'none';\n",
              "\n",
              "        async function convertToInteractive(key) {\n",
              "          const element = document.querySelector('#df-12e8650c-9a3f-4955-b3ed-3e34c2b8af74');\n",
              "          const dataTable =\n",
              "            await google.colab.kernel.invokeFunction('convertToInteractive',\n",
              "                                                     [key], {});\n",
              "          if (!dataTable) return;\n",
              "\n",
              "          const docLinkHtml = 'Like what you see? Visit the ' +\n",
              "            '<a target=\"_blank\" href=https://colab.research.google.com/notebooks/data_table.ipynb>data table notebook</a>'\n",
              "            + ' to learn more about interactive tables.';\n",
              "          element.innerHTML = '';\n",
              "          dataTable['output_type'] = 'display_data';\n",
              "          await google.colab.output.renderOutput(dataTable, element);\n",
              "          const docLink = document.createElement('div');\n",
              "          docLink.innerHTML = docLinkHtml;\n",
              "          element.appendChild(docLink);\n",
              "        }\n",
              "      </script>\n",
              "    </div>\n",
              "  </div>\n",
              "  "
            ]
          },
          "metadata": {},
          "execution_count": 93
        }
      ]
    },
    {
      "cell_type": "code",
      "source": [
        "!pip install emoji --upgrade"
      ],
      "metadata": {
        "colab": {
          "base_uri": "https://localhost:8080/"
        },
        "id": "lp1AnmAdigtg",
        "outputId": "8519aaa7-bea8-4802-8fd7-9ac4db06508f"
      },
      "execution_count": 94,
      "outputs": [
        {
          "output_type": "stream",
          "name": "stdout",
          "text": [
            "Looking in indexes: https://pypi.org/simple, https://us-python.pkg.dev/colab-wheels/public/simple/\n",
            "Requirement already satisfied: emoji in /usr/local/lib/python3.7/dist-packages (2.0.0)\n",
            "\u001b[33mWARNING: Running pip as the 'root' user can result in broken permissions and conflicting behaviour with the system package manager. It is recommended to use a virtual environment instead: https://pip.pypa.io/warnings/venv\u001b[0m\u001b[33m\n",
            "\u001b[0m"
          ]
        }
      ]
    },
    {
      "cell_type": "code",
      "source": [
        "import nltk\n",
        "nltk.download('stopwords')\n",
        "nltk.download('wordnet')\n",
        "nltk.download('omw-1.4')"
      ],
      "metadata": {
        "colab": {
          "base_uri": "https://localhost:8080/"
        },
        "id": "SvLHZry4i1T3",
        "outputId": "2d13f4b3-7d1d-4ca7-e484-3b7740c16a48"
      },
      "execution_count": 95,
      "outputs": [
        {
          "output_type": "stream",
          "name": "stderr",
          "text": [
            "[nltk_data] Downloading package stopwords to /root/nltk_data...\n",
            "[nltk_data]   Package stopwords is already up-to-date!\n",
            "[nltk_data] Downloading package wordnet to /root/nltk_data...\n",
            "[nltk_data]   Package wordnet is already up-to-date!\n",
            "[nltk_data] Downloading package omw-1.4 to /root/nltk_data...\n",
            "[nltk_data]   Package omw-1.4 is already up-to-date!\n"
          ]
        },
        {
          "output_type": "execute_result",
          "data": {
            "text/plain": [
              "True"
            ]
          },
          "metadata": {},
          "execution_count": 95
        }
      ]
    },
    {
      "cell_type": "code",
      "source": [
        "#Cleaning the tweets\n",
        "\n",
        "import re\n",
        "from nltk import TweetTokenizer\n",
        "from nltk.corpus import stopwords\n",
        "from nltk.stem import WordNetLemmatizer\n",
        "from unicodedata import normalize\n",
        "\n",
        "def cleaner(tweet):\n",
        "    tweet = \"\".join(u for u in tweet if u not in (\"?\", \".\", \",\", \";\", \":\", \"!\", '\"', \"'\", \"¡\", \"¿\"))\n",
        "    tweet = re.sub(r\"([^n\\u0300-\\u036f]|n(?!\\u0303(?![\\u0300-\\u036f])))[\\u0300-\\u036f]+\", r\"\\1\", normalize( \"NFD\", tweet), 0, re.I)\n",
        "    tweet = normalize( 'NFC', tweet) #Esta linea y la anterior transforma á -> a, é -> e ....\n",
        "    tweet = ' '.join(re.sub(\"(@[A-Za-z0-9]+)|([^0-9A-Za-z \\t])|(\\w+:\\/\\/\\S+)\",\" \",tweet).split()) #Removes the @user\n",
        "    tweet = re.sub(r'http\\S+', '', tweet)\n",
        "    tweet = re.sub(r\"[^a-zA-Z]\", \" \", str(tweet).lower())\n",
        "    tweet = re.sub(r'\\$\\w*', '', tweet)\n",
        "    tweet = re.sub(r'^RT[\\s]+', '', tweet)\n",
        "    tweet = tweet.replace(\"#\", \"\").replace(\"_\", \" \") #Remove hashtag sign but keep the text\n",
        "    \n",
        "    # Tokenize text\n",
        "    tokenizer = TweetTokenizer(preserve_case=False, strip_handles=True, reduce_len=True)\n",
        "    token = tokenizer.tokenize(tweet)\n",
        "    \n",
        "    # Remove stop words\n",
        "    stop = stopwords.words(\"english\")\n",
        "    words = [t for t in token if t not in stop]\n",
        "    \n",
        "    # Lemmatization\n",
        "    lem = \" \".join(temp for temp in [WordNetLemmatizer().lemmatize(w) for w in words])\n",
        "    \n",
        "    return lem\n",
        "\n",
        "df_train['tweet'] = df_train['tweet'].map(lambda x: cleaner(x))\n",
        "df_train['tweet'].head(20)"
      ],
      "metadata": {
        "colab": {
          "base_uri": "https://localhost:8080/"
        },
        "id": "0m_L1TL4g_CT",
        "outputId": "8910c30c-6712-4c25-c40d-834d851d431d"
      },
      "execution_count": 96,
      "outputs": [
        {
          "output_type": "execute_result",
          "data": {
            "text/plain": [
              "id\n",
              "1     father dysfunctional selfish drag kid dysfunct...\n",
              "2     thanks lyft credit cant use cause dont offer w...\n",
              "3                                        bihday majesty\n",
              "4                           model love u take u time ur\n",
              "5                         factsguide society motivation\n",
              "6     huge fan fare big talking leave chaos pay disp...\n",
              "7                               camping tomorrow dannya\n",
              "8     next school year year exam cant think school e...\n",
              "9     love land allin cavs champion cleveland clevel...\n",
              "10                                        welcome im gr\n",
              "11    ireland consumer price index mom climbed previ...\n",
              "12    selfish orlando standwithorlando pulseshooting...\n",
              "13                   get see daddy today day gettingfed\n",
              "14    cnn call michigan middle school build wall cha...\n",
              "15    comment australia opkillingbay seashepherd hel...\n",
              "16              ouchjunior angry got junior yugyoem omg\n",
              "17                     thankful paner thankful positive\n",
              "18                                        retweet agree\n",
              "19    friday smile around via ig user cooky make people\n",
              "21    euro people blaming ha conceded goal fat roone...\n",
              "Name: tweet, dtype: object"
            ]
          },
          "metadata": {},
          "execution_count": 96
        }
      ]
    },
    {
      "cell_type": "code",
      "source": [
        "label_0 = len(df_train[df_train['label']==0]) \n",
        "label_1 = len(df_train[df_train['label']==1])\n",
        "perc_0 = label_0/(label_0+label_1)*100\n",
        "perc_1 = label_1/(label_0+label_1)*100\n",
        "\n",
        "print(f'There is {label_1} hate speech tweets, which represents {perc_1:.2f}%')\n",
        "print(f'There is {label_0} non hate speech tweets, which represents {perc_0:.2f}%')"
      ],
      "metadata": {
        "colab": {
          "base_uri": "https://localhost:8080/"
        },
        "id": "3YX_XuI30RQ5",
        "outputId": "96661cb0-62d9-4906-f355-4c0afa4a61a3"
      },
      "execution_count": 97,
      "outputs": [
        {
          "output_type": "stream",
          "name": "stdout",
          "text": [
            "There is 594 hate speech tweets, which represents 6.44%\n",
            "There is 8636 non hate speech tweets, which represents 93.56%\n"
          ]
        }
      ]
    },
    {
      "cell_type": "markdown",
      "source": [
        "##Random oversampling"
      ],
      "metadata": {
        "id": "pnp-BP5mylFp"
      }
    },
    {
      "cell_type": "code",
      "source": [
        "count_non_hate = df_train[df_train['label'] == 0]['tweet'].count()\n",
        "df_hate_speech = df_train[df_train['label'] == 1]\n",
        "df_non_hate_speech = df_train[df_train['label'] == 0]\n",
        "df_hate_speech_oversample = df_hate_speech.sample(count_non_hate, replace=True)\n",
        "train_df_oversampled = pd.concat([df_non_hate_speech, df_hate_speech_oversample], axis=0)\n",
        "df_train = train_df_oversampled\n",
        "\n",
        "print('Random over-sampling:')\n",
        "print(train_df_oversampled['label'].value_counts())"
      ],
      "metadata": {
        "colab": {
          "base_uri": "https://localhost:8080/"
        },
        "id": "tqfRLo0lykiT",
        "outputId": "2effd135-7c90-431c-9477-1f8d7f31f750"
      },
      "execution_count": null,
      "outputs": [
        {
          "output_type": "stream",
          "name": "stdout",
          "text": [
            "Random over-sampling:\n",
            "0    8636\n",
            "1    8636\n",
            "Name: label, dtype: int64\n"
          ]
        }
      ]
    },
    {
      "cell_type": "markdown",
      "source": [
        "##Word embedding (GloVe)"
      ],
      "metadata": {
        "id": "JNayOtGflZKf"
      }
    },
    {
      "cell_type": "code",
      "source": [
        "#Download GloVe\n",
        "!wget http://nlp.stanford.edu/data/glove.6B.zip\n",
        "#Unzip\n",
        "!unzip glove*.zip"
      ],
      "metadata": {
        "colab": {
          "base_uri": "https://localhost:8080/"
        },
        "id": "mF5fM_Jtlbi_",
        "outputId": "a0136296-5e0a-4b99-978e-0eadc5779b27"
      },
      "execution_count": null,
      "outputs": [
        {
          "output_type": "stream",
          "name": "stdout",
          "text": [
            "--2022-08-23 16:56:06--  http://nlp.stanford.edu/data/glove.6B.zip\n",
            "Resolving nlp.stanford.edu (nlp.stanford.edu)... 171.64.67.140\n",
            "Connecting to nlp.stanford.edu (nlp.stanford.edu)|171.64.67.140|:80... connected.\n",
            "HTTP request sent, awaiting response... 302 Found\n",
            "Location: https://nlp.stanford.edu/data/glove.6B.zip [following]\n",
            "--2022-08-23 16:56:06--  https://nlp.stanford.edu/data/glove.6B.zip\n",
            "Connecting to nlp.stanford.edu (nlp.stanford.edu)|171.64.67.140|:443... connected.\n",
            "HTTP request sent, awaiting response... 301 Moved Permanently\n",
            "Location: https://downloads.cs.stanford.edu/nlp/data/glove.6B.zip [following]\n",
            "--2022-08-23 16:56:07--  https://downloads.cs.stanford.edu/nlp/data/glove.6B.zip\n",
            "Resolving downloads.cs.stanford.edu (downloads.cs.stanford.edu)... 171.64.64.22\n",
            "Connecting to downloads.cs.stanford.edu (downloads.cs.stanford.edu)|171.64.64.22|:443... connected.\n",
            "HTTP request sent, awaiting response... 200 OK\n",
            "Length: 862182613 (822M) [application/zip]\n",
            "Saving to: ‘glove.6B.zip’\n",
            "\n",
            "glove.6B.zip        100%[===================>] 822.24M  4.98MB/s    in 2m 39s  \n",
            "\n",
            "2022-08-23 16:58:46 (5.16 MB/s) - ‘glove.6B.zip’ saved [862182613/862182613]\n",
            "\n",
            "Archive:  glove.6B.zip\n",
            "  inflating: glove.6B.50d.txt        \n",
            "  inflating: glove.6B.100d.txt       \n",
            "  inflating: glove.6B.200d.txt       \n",
            "  inflating: glove.6B.300d.txt       \n"
          ]
        }
      ]
    },
    {
      "cell_type": "code",
      "source": [
        "#Getting the path for GloVe files\n",
        "!ls\n",
        "!pwd"
      ],
      "metadata": {
        "colab": {
          "base_uri": "https://localhost:8080/"
        },
        "id": "PzKANtrWolxW",
        "outputId": "9de85750-ca6d-4773-dda2-0f2f679b4d5f"
      },
      "execution_count": null,
      "outputs": [
        {
          "output_type": "stream",
          "name": "stdout",
          "text": [
            "drive\t\t   glove.6B.200d.txt  glove.6B.50d.txt\tsample_data\n",
            "glove.6B.100d.txt  glove.6B.300d.txt  glove.6B.zip\n",
            "/content\n"
          ]
        }
      ]
    },
    {
      "cell_type": "code",
      "source": [
        "#Index the vectors \n",
        "print('Indexing word vectors.')\n",
        "\n",
        "embeddings_index = {}\n",
        "f = open('glove.6B.100d.txt', encoding='utf-8')\n",
        "for line in f:\n",
        "    values = line.split()\n",
        "    word = values[0]\n",
        "    coefs = np.asarray(values[1:], dtype='float32')\n",
        "    embeddings_index[word] = coefs\n",
        "f.close()\n",
        "\n",
        "print('Found %s word vectors.' % len(embeddings_index))"
      ],
      "metadata": {
        "colab": {
          "base_uri": "https://localhost:8080/"
        },
        "id": "VFqohNhKoxmO",
        "outputId": "0e259d8c-2701-447f-c3c0-79378ece33c2"
      },
      "execution_count": null,
      "outputs": [
        {
          "output_type": "stream",
          "name": "stdout",
          "text": [
            "Indexing word vectors.\n",
            "Found 400000 word vectors.\n"
          ]
        }
      ]
    },
    {
      "cell_type": "code",
      "source": [
        "#Fuse with google drive\n",
        "!pip install --upgrade pip\n",
        "!pip install -U -q pydrive\n",
        "!apt-get install -y -qq software-properties-common python-software-properties module-init-tools\n",
        "!add-apt-repository -y ppa:alessandro-strada/ppa 2>&1 > /dev/null\n",
        "!apt-get update -qq 2>&1 > /dev/null\n",
        "\n",
        "!apt-get -y install -qq google-drive-ocamlfuse fuse\n",
        "\n",
        "from google.colab import auth\n",
        "auth.authenticate_user()\n",
        "# Generate creds for the Drive FUSE library.\n",
        "from oauth2client.client import GoogleCredentials\n",
        "creds = GoogleCredentials.get_application_default()\n",
        "import getpass\n",
        "!google-drive-ocamlfuse -headless -id={creds.client_id} -secret={creds.client_secret} < /dev/null 2>&1 | grep URL\n",
        "vcode = getpass.getpass()\n",
        "!echo {vcode} | google-drive-ocamlfuse -headless -id={creds.client_id} -secret={creds.client_secret}\n",
        "\n",
        "!mkdir -p drive\n",
        "!google-drive-ocamlfuse drive"
      ],
      "metadata": {
        "colab": {
          "base_uri": "https://localhost:8080/"
        },
        "id": "JZ0al0xapbxl",
        "outputId": "29f5c307-67d9-44ee-c5f8-058ee77c3287"
      },
      "execution_count": null,
      "outputs": [
        {
          "output_type": "stream",
          "name": "stdout",
          "text": [
            "Looking in indexes: https://pypi.org/simple, https://us-python.pkg.dev/colab-wheels/public/simple/\n",
            "Requirement already satisfied: pip in /usr/local/lib/python3.7/dist-packages (22.2.2)\n",
            "\u001b[33mWARNING: Running pip as the 'root' user can result in broken permissions and conflicting behaviour with the system package manager. It is recommended to use a virtual environment instead: https://pip.pypa.io/warnings/venv\u001b[0m\u001b[33m\n",
            "\u001b[0m\u001b[33mWARNING: Running pip as the 'root' user can result in broken permissions and conflicting behaviour with the system package manager. It is recommended to use a virtual environment instead: https://pip.pypa.io/warnings/venv\u001b[0m\u001b[33m\n",
            "\u001b[0mE: Package 'python-software-properties' has no installation candidate\n",
            "Please, open the following URL in a web browser: https://accounts.google.com/o/oauth2/auth?client_id=None&redirect_uri=urn%3Aietf%3Awg%3Aoauth%3A2.0%3Aoob&scope=https%3A%2F%2Fwww.googleapis.com%2Fauth%2Fdrive&response_type=code&access_type=offline&approval_prompt=force\n",
            "··········\n",
            "Please, open the following URL in a web browser: https://accounts.google.com/o/oauth2/auth?client_id=None&redirect_uri=urn%3Aietf%3Awg%3Aoauth%3A2.0%3Aoob&scope=https%3A%2F%2Fwww.googleapis.com%2Fauth%2Fdrive&response_type=code&access_type=offline&approval_prompt=force\n",
            "Please enter the verification code: Cannot retrieve auth tokens.\n",
            "Failure(\"Unexpected error response: {\\n  \\\"error\\\": \\\"invalid_client\\\",\\n  \\\"error_description\\\": \\\"The OAuth client was not found.\\\"\\n}\")\n",
            "/usr/bin/xdg-open: 851: /usr/bin/xdg-open: www-browser: not found\n",
            "/usr/bin/xdg-open: 851: /usr/bin/xdg-open: links2: not found\n",
            "/usr/bin/xdg-open: 851: /usr/bin/xdg-open: elinks: not found\n",
            "/usr/bin/xdg-open: 851: /usr/bin/xdg-open: links: not found\n",
            "/usr/bin/xdg-open: 851: /usr/bin/xdg-open: lynx: not found\n",
            "/usr/bin/xdg-open: 851: /usr/bin/xdg-open: w3m: not found\n",
            "xdg-open: no method available for opening 'https://accounts.google.com/o/oauth2/auth?client_id=None&redirect_uri=urn%3Aietf%3Awg%3Aoauth%3A2.0%3Aoob&scope=https%3A%2F%2Fwww.googleapis.com%2Fauth%2Fdrive&response_type=code&access_type=offline&approval_prompt=force'\n",
            "/bin/sh: 1: firefox: not found\n",
            "/bin/sh: 1: google-chrome: not found\n",
            "/bin/sh: 1: chromium-browser: not found\n",
            "/bin/sh: 1: open: not found\n",
            "Error: Error opening URL:https://accounts.google.com/o/oauth2/auth?client_id=None&redirect_uri=urn%3Aietf%3Awg%3Aoauth%3A2.0%3Aoob&scope=https%3A%2F%2Fwww.googleapis.com%2Fauth%2Fdrive&response_type=code&access_type=offline&approval_prompt=force\n"
          ]
        }
      ]
    },
    {
      "cell_type": "code",
      "source": [
        "#Run this cell to save indexed vectors for re-use\n",
        "import pickle\n",
        "pickle.dump({'embeddings_index' : embeddings_index } , open('drive/path/to/your/file/location', 'wb'))"
      ],
      "metadata": {
        "id": "GGZapmvorMFc"
      },
      "execution_count": null,
      "outputs": []
    },
    {
      "cell_type": "code",
      "source": [
        "#Once downloaded to google colab we can use it directly\n",
        "\n",
        "#Index the vectors \n",
        "print('Indexing word vectors.')\n",
        "\n",
        "embeddings_index = {}\n",
        "f = open('/content/drive/MyDrive/Glove_word_embeddings/glove.6B.100d.txt', encoding='utf-8')\n",
        "for line in f:\n",
        "    values = line.split()\n",
        "    word = values[0]\n",
        "    coefs = np.asarray(values[1:], dtype='float32')\n",
        "    embeddings_index[word] = coefs\n",
        "f.close()\n",
        "\n",
        "print('Found %s word vectors.' % len(embeddings_index))"
      ],
      "metadata": {
        "colab": {
          "base_uri": "https://localhost:8080/"
        },
        "id": "QTCyjel3s5T8",
        "outputId": "94312a49-7018-4bbf-d691-fe5201d9f04d"
      },
      "execution_count": 98,
      "outputs": [
        {
          "output_type": "stream",
          "name": "stdout",
          "text": [
            "Indexing word vectors.\n",
            "Found 387930 word vectors.\n"
          ]
        }
      ]
    },
    {
      "cell_type": "code",
      "source": [
        "print('Loaded %s word vectors.' % len(embeddings_index))"
      ],
      "metadata": {
        "colab": {
          "base_uri": "https://localhost:8080/"
        },
        "id": "qOrv2TRKtTej",
        "outputId": "d6d67534-3d7f-47a3-d0e8-bd24d976b211"
      },
      "execution_count": 99,
      "outputs": [
        {
          "output_type": "stream",
          "name": "stdout",
          "text": [
            "Loaded 387930 word vectors.\n"
          ]
        }
      ]
    },
    {
      "cell_type": "markdown",
      "source": [
        "##Tokenizer"
      ],
      "metadata": {
        "id": "aAHzXYlTwxOr"
      }
    },
    {
      "cell_type": "code",
      "source": [
        "# add one column for encoding\n",
        "from tensorflow.keras.preprocessing.text import Tokenizer\n",
        "from tensorflow.keras.preprocessing.sequence import pad_sequences\n",
        "\n",
        "import warnings\n",
        "warnings.filterwarnings('ignore')\n",
        "\n",
        "#List of tweets\n",
        "tweets = list(df_train['tweet'])\n",
        "likes = list(df_train['label'])\n",
        "\n",
        "# tokenize tweet text\n",
        "tokenizer = Tokenizer(num_words=5000)\n",
        "tokenizer.fit_on_texts(tweets)\n",
        "encoded_docs = tokenizer.texts_to_sequences(tweets)\n",
        "\n",
        "# convert string to int array\n",
        "padded_sequence = pad_sequences(encoded_docs, maxlen=200)\n",
        "\n",
        "# set encode values for each tweet\n",
        "tweets = []\n",
        "for pad in padded_sequence:\n",
        "    tweets.append(list(pad))\n",
        "\n",
        "## Print tweets 0 and 1 tokenized\n",
        "print(tweets[0])\n",
        "print(tweets[1])"
      ],
      "metadata": {
        "colab": {
          "base_uri": "https://localhost:8080/"
        },
        "id": "6svLEuY4tYAE",
        "outputId": "6b7938f2-458a-4d23-f8e4-b7fcc58dbbd5"
      },
      "execution_count": 100,
      "outputs": [
        {
          "output_type": "stream",
          "name": "stdout",
          "text": [
            "[0, 0, 0, 0, 0, 0, 0, 0, 0, 0, 0, 0, 0, 0, 0, 0, 0, 0, 0, 0, 0, 0, 0, 0, 0, 0, 0, 0, 0, 0, 0, 0, 0, 0, 0, 0, 0, 0, 0, 0, 0, 0, 0, 0, 0, 0, 0, 0, 0, 0, 0, 0, 0, 0, 0, 0, 0, 0, 0, 0, 0, 0, 0, 0, 0, 0, 0, 0, 0, 0, 0, 0, 0, 0, 0, 0, 0, 0, 0, 0, 0, 0, 0, 0, 0, 0, 0, 0, 0, 0, 0, 0, 0, 0, 0, 0, 0, 0, 0, 0, 0, 0, 0, 0, 0, 0, 0, 0, 0, 0, 0, 0, 0, 0, 0, 0, 0, 0, 0, 0, 0, 0, 0, 0, 0, 0, 0, 0, 0, 0, 0, 0, 0, 0, 0, 0, 0, 0, 0, 0, 0, 0, 0, 0, 0, 0, 0, 0, 0, 0, 0, 0, 0, 0, 0, 0, 0, 0, 0, 0, 0, 0, 0, 0, 0, 0, 0, 0, 0, 0, 0, 0, 0, 0, 0, 0, 0, 0, 0, 0, 0, 0, 0, 0, 0, 0, 0, 0, 0, 0, 0, 0, 0, 0, 0, 19, 2248, 2249, 135, 379]\n",
            "[0, 0, 0, 0, 0, 0, 0, 0, 0, 0, 0, 0, 0, 0, 0, 0, 0, 0, 0, 0, 0, 0, 0, 0, 0, 0, 0, 0, 0, 0, 0, 0, 0, 0, 0, 0, 0, 0, 0, 0, 0, 0, 0, 0, 0, 0, 0, 0, 0, 0, 0, 0, 0, 0, 0, 0, 0, 0, 0, 0, 0, 0, 0, 0, 0, 0, 0, 0, 0, 0, 0, 0, 0, 0, 0, 0, 0, 0, 0, 0, 0, 0, 0, 0, 0, 0, 0, 0, 0, 0, 0, 0, 0, 0, 0, 0, 0, 0, 0, 0, 0, 0, 0, 0, 0, 0, 0, 0, 0, 0, 0, 0, 0, 0, 0, 0, 0, 0, 0, 0, 0, 0, 0, 0, 0, 0, 0, 0, 0, 0, 0, 0, 0, 0, 0, 0, 0, 0, 0, 0, 0, 0, 0, 0, 0, 0, 0, 0, 0, 0, 0, 0, 0, 0, 0, 0, 0, 0, 0, 0, 0, 0, 0, 0, 0, 0, 0, 0, 0, 0, 0, 0, 0, 0, 0, 0, 0, 0, 0, 0, 0, 0, 0, 0, 0, 0, 0, 0, 0, 106, 2250, 1886, 17, 291, 596, 29, 787, 3657, 2749, 3658]\n"
          ]
        }
      ]
    },
    {
      "cell_type": "code",
      "source": [
        "from numpy import zeros\n",
        "\n",
        "vocab_size = len(tokenizer.word_index) + 1\n",
        "print(len(tokenizer.word_index))\n",
        "embedding_matrix = zeros((vocab_size, 100))\n",
        "for word, i in tokenizer.word_index.items():\n",
        "    embedding_vector = embeddings_index.get(word)\n",
        "    if embedding_vector is not None:\n",
        "        embedding_matrix[i] = embedding_vector"
      ],
      "metadata": {
        "colab": {
          "base_uri": "https://localhost:8080/"
        },
        "id": "HPefLrxEt64N",
        "outputId": "ca50b533-eab1-4a56-a7d6-5f1cdbe5005d"
      },
      "execution_count": 101,
      "outputs": [
        {
          "output_type": "stream",
          "name": "stdout",
          "text": [
            "16522\n"
          ]
        }
      ]
    },
    {
      "cell_type": "markdown",
      "source": [
        "##Model Building"
      ],
      "metadata": {
        "id": "QKIJ6HAajSOw"
      }
    },
    {
      "cell_type": "code",
      "source": [
        "from tensorflow.keras.models import Sequential\n",
        "from tensorflow.keras.layers import Dense\n",
        "from tensorflow.keras.layers import Flatten\n",
        "from tensorflow.keras.layers import Embedding, Masking, LSTM, Dropout\n",
        "\n",
        "# define model\n",
        "model = Sequential()\n",
        "e = Embedding(vocab_size, 100, weights=[embedding_matrix], input_length=200, trainable=False)\n",
        "model.add(e)\n",
        "model.add(Masking(mask_value=0.0))\n",
        "model.add(Dense(64, activation='relu'))\n",
        "model.add(Dropout(0.5))\n",
        "model.add(Flatten())\n",
        "model.add(Dense(2, activation='softmax'))\n",
        "# compile the model\n",
        "model.compile(optimizer='adam', loss='categorical_crossentropy', metrics=['accuracy'])\n",
        "# summarize the model\n",
        "print(model.summary())"
      ],
      "metadata": {
        "colab": {
          "base_uri": "https://localhost:8080/"
        },
        "id": "UNdRSTDMuB9Q",
        "outputId": "d329df27-2af7-4a95-e8ba-460c2a5f1775"
      },
      "execution_count": 102,
      "outputs": [
        {
          "output_type": "stream",
          "name": "stdout",
          "text": [
            "Model: \"sequential_3\"\n",
            "_________________________________________________________________\n",
            " Layer (type)                Output Shape              Param #   \n",
            "=================================================================\n",
            " embedding_3 (Embedding)     (None, 200, 100)          1652300   \n",
            "                                                                 \n",
            " masking_2 (Masking)         (None, 200, 100)          0         \n",
            "                                                                 \n",
            " dense_4 (Dense)             (None, 200, 64)           6464      \n",
            "                                                                 \n",
            " dropout_2 (Dropout)         (None, 200, 64)           0         \n",
            "                                                                 \n",
            " flatten_2 (Flatten)         (None, 12800)             0         \n",
            "                                                                 \n",
            " dense_5 (Dense)             (None, 2)                 25602     \n",
            "                                                                 \n",
            "=================================================================\n",
            "Total params: 1,684,366\n",
            "Trainable params: 32,066\n",
            "Non-trainable params: 1,652,300\n",
            "_________________________________________________________________\n",
            "None\n"
          ]
        }
      ]
    },
    {
      "cell_type": "code",
      "source": [
        "from tensorflow.keras.utils import to_categorical\n",
        "# fit the model\n",
        "tweets = np.array(tweets)\n",
        "likes = np.array(likes)\n",
        "print(likes[0])\n",
        "likes_cat = to_categorical(likes, 2)\n",
        "print(likes_cat[0])\n",
        "model.fit(tweets, likes_cat, epochs=20, verbose=1)"
      ],
      "metadata": {
        "colab": {
          "base_uri": "https://localhost:8080/"
        },
        "id": "oU9gJuDfuKOk",
        "outputId": "81798231-c369-41f7-d58e-d1e7f98a24ae"
      },
      "execution_count": 146,
      "outputs": [
        {
          "output_type": "stream",
          "name": "stdout",
          "text": [
            "0\n",
            "[1. 0.]\n",
            "Epoch 1/20\n",
            "289/289 [==============================] - 6s 22ms/step - loss: 0.0499 - accuracy: 0.9813\n",
            "Epoch 2/20\n",
            "289/289 [==============================] - 6s 21ms/step - loss: 0.0460 - accuracy: 0.9827\n",
            "Epoch 3/20\n",
            "289/289 [==============================] - 6s 20ms/step - loss: 0.0401 - accuracy: 0.9852\n",
            "Epoch 4/20\n",
            "289/289 [==============================] - 6s 21ms/step - loss: 0.0459 - accuracy: 0.9827\n",
            "Epoch 5/20\n",
            "289/289 [==============================] - 6s 20ms/step - loss: 0.0465 - accuracy: 0.9826\n",
            "Epoch 6/20\n",
            "289/289 [==============================] - 6s 20ms/step - loss: 0.0446 - accuracy: 0.9837\n",
            "Epoch 7/20\n",
            "289/289 [==============================] - 6s 21ms/step - loss: 0.0414 - accuracy: 0.9852\n",
            "Epoch 8/20\n",
            "289/289 [==============================] - 6s 20ms/step - loss: 0.0448 - accuracy: 0.9833\n",
            "Epoch 9/20\n",
            "289/289 [==============================] - 6s 21ms/step - loss: 0.0425 - accuracy: 0.9841\n",
            "Epoch 10/20\n",
            "289/289 [==============================] - 6s 21ms/step - loss: 0.0415 - accuracy: 0.9840\n",
            "Epoch 11/20\n",
            "289/289 [==============================] - 6s 21ms/step - loss: 0.0442 - accuracy: 0.9829\n",
            "Epoch 12/20\n",
            "289/289 [==============================] - 6s 22ms/step - loss: 0.0416 - accuracy: 0.9847\n",
            "Epoch 13/20\n",
            "289/289 [==============================] - 6s 22ms/step - loss: 0.0396 - accuracy: 0.9848\n",
            "Epoch 14/20\n",
            "289/289 [==============================] - 6s 21ms/step - loss: 0.0421 - accuracy: 0.9841\n",
            "Epoch 15/20\n",
            "289/289 [==============================] - 8s 27ms/step - loss: 0.0412 - accuracy: 0.9845\n",
            "Epoch 16/20\n",
            "289/289 [==============================] - 6s 20ms/step - loss: 0.0413 - accuracy: 0.9835\n",
            "Epoch 17/20\n",
            "289/289 [==============================] - 6s 20ms/step - loss: 0.0413 - accuracy: 0.9837\n",
            "Epoch 18/20\n",
            "289/289 [==============================] - 6s 20ms/step - loss: 0.0417 - accuracy: 0.9847\n",
            "Epoch 19/20\n",
            "289/289 [==============================] - 7s 24ms/step - loss: 0.0403 - accuracy: 0.9854\n",
            "Epoch 20/20\n",
            "289/289 [==============================] - 8s 26ms/step - loss: 0.0412 - accuracy: 0.9840\n"
          ]
        },
        {
          "output_type": "execute_result",
          "data": {
            "text/plain": [
              "<keras.callbacks.History at 0x7fdf5e39e090>"
            ]
          },
          "metadata": {},
          "execution_count": 146
        }
      ]
    },
    {
      "cell_type": "code",
      "source": [
        "loss, accuracy = model.evaluate(tweets, likes_cat, verbose=0)\n",
        "print('Accuracy: %f' % (accuracy*100))"
      ],
      "metadata": {
        "colab": {
          "base_uri": "https://localhost:8080/"
        },
        "id": "C0Y7903cvEME",
        "outputId": "116a8850-7b57-4d37-e9e4-e56d7d607da8"
      },
      "execution_count": 147,
      "outputs": [
        {
          "output_type": "stream",
          "name": "stdout",
          "text": [
            "Accuracy: 99.458289\n"
          ]
        }
      ]
    },
    {
      "cell_type": "code",
      "source": [
        "predict = model.predict(tweets)\n",
        "predict"
      ],
      "metadata": {
        "colab": {
          "base_uri": "https://localhost:8080/"
        },
        "id": "o2LXt2YCvJq0",
        "outputId": "e5e92f03-5750-4da3-b3db-391f151b3d7b"
      },
      "execution_count": 148,
      "outputs": [
        {
          "output_type": "execute_result",
          "data": {
            "text/plain": [
              "array([[9.9858558e-01, 1.4144732e-03],\n",
              "       [1.0000000e+00, 3.3387865e-13],\n",
              "       [9.9739093e-01, 2.6091300e-03],\n",
              "       ...,\n",
              "       [9.9996352e-01, 3.6521284e-05],\n",
              "       [9.9998474e-01, 1.5251761e-05],\n",
              "       [9.9999964e-01, 3.9581781e-07]], dtype=float32)"
            ]
          },
          "metadata": {},
          "execution_count": 148
        }
      ]
    },
    {
      "cell_type": "code",
      "source": [
        "tweets"
      ],
      "metadata": {
        "colab": {
          "base_uri": "https://localhost:8080/"
        },
        "id": "QPaGJ379vVyr",
        "outputId": "2b5a608b-c86e-4dc3-bd2c-a960f678aacc"
      },
      "execution_count": 149,
      "outputs": [
        {
          "output_type": "execute_result",
          "data": {
            "text/plain": [
              "array([[   0,    0,    0, ..., 2249,  135,  379],\n",
              "       [   0,    0,    0, ..., 3657, 2749, 3658],\n",
              "       [   0,    0,    0, ...,    0,   15, 1887],\n",
              "       ...,\n",
              "       [   0,    0,    0, ...,  244, 1497,  222],\n",
              "       [   0,    0,    0, ...,   20,   45, 2319],\n",
              "       [   0,    0,    0, ...,  240,   78,  211]], dtype=int32)"
            ]
          },
          "metadata": {},
          "execution_count": 149
        }
      ]
    },
    {
      "cell_type": "code",
      "source": [
        "##Insert tweet to predict if it is hate or non-hate speech\n",
        "\n",
        "test_tweet= [\"Great job bro!\"]\n",
        "\n",
        "#Cleaning\n",
        "test_tweet = [cleaner(test_tweet)]\n",
        "\n",
        "#Tokenize\n",
        "encoded_tweet = tokenizer.texts_to_sequences(test_tweet)\n",
        "\n",
        "# convert string to int array\n",
        "padded_tweet = pad_sequences(encoded_tweet, maxlen=200)\n",
        "\n",
        "predict = model.predict(padded_tweet)\n",
        "print(predict)\n",
        "\n",
        "second_index= predict[0][1]\n",
        "if (second_index> 0.15):\n",
        "  print(\"Hate speech tweet\")\n",
        "else:\n",
        "  print(\"Non-hate speech\")\n"
      ],
      "metadata": {
        "colab": {
          "base_uri": "https://localhost:8080/"
        },
        "id": "rdTokcgJsmn_",
        "outputId": "898eb374-cef4-463a-f1bb-1f08e2fa5e3e"
      },
      "execution_count": 164,
      "outputs": [
        {
          "output_type": "stream",
          "name": "stdout",
          "text": [
            "[[0.92222697 0.07777306]]\n",
            "Non-hate speech\n"
          ]
        }
      ]
    },
    {
      "cell_type": "markdown",
      "source": [
        "##Performance with test data"
      ],
      "metadata": {
        "id": "f-rOyu2G-Wkw"
      }
    },
    {
      "cell_type": "code",
      "source": [
        "#Reading data\n",
        "\n",
        "df_test = pd.read_csv('/content/drive/MyDrive/tweets_hate_speech/test_tweets_anuFYb8.csv',quoting=3, error_bad_lines=False).set_index('id')\n",
        "\n",
        "df_test.head(20)"
      ],
      "metadata": {
        "colab": {
          "base_uri": "https://localhost:8080/",
          "height": 745
        },
        "id": "_kMgIZ9k-WYd",
        "outputId": "992b3a3d-a574-40e9-9b7a-b44fdddfc56e"
      },
      "execution_count": 166,
      "outputs": [
        {
          "output_type": "stream",
          "name": "stderr",
          "text": [
            "b'Skipping line 5: expected 2 fields, saw 4\\nSkipping line 6: expected 2 fields, saw 3\\nSkipping line 15: expected 2 fields, saw 4\\nSkipping line 17: expected 2 fields, saw 3\\nSkipping line 20: expected 2 fields, saw 3\\nSkipping line 31: expected 2 fields, saw 3\\nSkipping line 39: expected 2 fields, saw 4\\nSkipping line 40: expected 2 fields, saw 3\\nSkipping line 45: expected 2 fields, saw 4\\nSkipping line 66: expected 2 fields, saw 3\\nSkipping line 67: expected 2 fields, saw 3\\nSkipping line 72: expected 2 fields, saw 3\\nSkipping line 74: expected 2 fields, saw 3\\nSkipping line 75: expected 2 fields, saw 3\\nSkipping line 78: expected 2 fields, saw 3\\nSkipping line 82: expected 2 fields, saw 3\\nSkipping line 96: expected 2 fields, saw 3\\nSkipping line 99: expected 2 fields, saw 3\\nSkipping line 104: expected 2 fields, saw 3\\nSkipping line 124: expected 2 fields, saw 4\\nSkipping line 139: expected 2 fields, saw 3\\nSkipping line 148: expected 2 fields, saw 3\\nSkipping line 152: expected 2 fields, saw 6\\nSkipping line 164: expected 2 fields, saw 3\\nSkipping line 178: expected 2 fields, saw 3\\nSkipping line 185: expected 2 fields, saw 3\\nSkipping line 186: expected 2 fields, saw 3\\nSkipping line 187: expected 2 fields, saw 4\\nSkipping line 190: expected 2 fields, saw 3\\nSkipping line 195: expected 2 fields, saw 3\\nSkipping line 205: expected 2 fields, saw 3\\nSkipping line 210: expected 2 fields, saw 4\\nSkipping line 212: expected 2 fields, saw 3\\nSkipping line 215: expected 2 fields, saw 3\\nSkipping line 218: expected 2 fields, saw 3\\nSkipping line 233: expected 2 fields, saw 3\\nSkipping line 247: expected 2 fields, saw 3\\nSkipping line 251: expected 2 fields, saw 3\\nSkipping line 256: expected 2 fields, saw 5\\nSkipping line 259: expected 2 fields, saw 4\\nSkipping line 261: expected 2 fields, saw 3\\nSkipping line 276: expected 2 fields, saw 4\\nSkipping line 277: expected 2 fields, saw 3\\nSkipping line 281: expected 2 fields, saw 3\\nSkipping line 293: expected 2 fields, saw 4\\nSkipping line 294: expected 2 fields, saw 6\\nSkipping line 296: expected 2 fields, saw 3\\nSkipping line 300: expected 2 fields, saw 3\\nSkipping line 301: expected 2 fields, saw 3\\nSkipping line 304: expected 2 fields, saw 3\\nSkipping line 311: expected 2 fields, saw 8\\nSkipping line 314: expected 2 fields, saw 4\\nSkipping line 318: expected 2 fields, saw 3\\nSkipping line 319: expected 2 fields, saw 3\\nSkipping line 320: expected 2 fields, saw 3\\nSkipping line 369: expected 2 fields, saw 4\\nSkipping line 376: expected 2 fields, saw 3\\nSkipping line 381: expected 2 fields, saw 3\\nSkipping line 389: expected 2 fields, saw 3\\nSkipping line 402: expected 2 fields, saw 3\\nSkipping line 411: expected 2 fields, saw 3\\nSkipping line 419: expected 2 fields, saw 3\\nSkipping line 424: expected 2 fields, saw 3\\nSkipping line 434: expected 2 fields, saw 3\\nSkipping line 436: expected 2 fields, saw 3\\nSkipping line 444: expected 2 fields, saw 4\\nSkipping line 453: expected 2 fields, saw 3\\nSkipping line 474: expected 2 fields, saw 3\\nSkipping line 480: expected 2 fields, saw 3\\nSkipping line 487: expected 2 fields, saw 6\\nSkipping line 505: expected 2 fields, saw 4\\nSkipping line 508: expected 2 fields, saw 3\\nSkipping line 511: expected 2 fields, saw 3\\nSkipping line 512: expected 2 fields, saw 3\\nSkipping line 518: expected 2 fields, saw 3\\nSkipping line 521: expected 2 fields, saw 3\\nSkipping line 546: expected 2 fields, saw 3\\nSkipping line 551: expected 2 fields, saw 3\\nSkipping line 559: expected 2 fields, saw 3\\nSkipping line 579: expected 2 fields, saw 3\\nSkipping line 581: expected 2 fields, saw 4\\nSkipping line 582: expected 2 fields, saw 3\\nSkipping line 588: expected 2 fields, saw 4\\nSkipping line 606: expected 2 fields, saw 3\\nSkipping line 612: expected 2 fields, saw 3\\nSkipping line 615: expected 2 fields, saw 3\\nSkipping line 621: expected 2 fields, saw 3\\nSkipping line 622: expected 2 fields, saw 3\\nSkipping line 631: expected 2 fields, saw 3\\nSkipping line 637: expected 2 fields, saw 3\\nSkipping line 638: expected 2 fields, saw 3\\nSkipping line 642: expected 2 fields, saw 3\\nSkipping line 643: expected 2 fields, saw 3\\nSkipping line 645: expected 2 fields, saw 3\\nSkipping line 649: expected 2 fields, saw 3\\nSkipping line 651: expected 2 fields, saw 3\\nSkipping line 666: expected 2 fields, saw 4\\nSkipping line 670: expected 2 fields, saw 3\\nSkipping line 675: expected 2 fields, saw 3\\nSkipping line 679: expected 2 fields, saw 3\\nSkipping line 685: expected 2 fields, saw 5\\nSkipping line 687: expected 2 fields, saw 3\\nSkipping line 698: expected 2 fields, saw 3\\nSkipping line 702: expected 2 fields, saw 3\\nSkipping line 709: expected 2 fields, saw 3\\nSkipping line 711: expected 2 fields, saw 4\\nSkipping line 724: expected 2 fields, saw 3\\nSkipping line 732: expected 2 fields, saw 3\\nSkipping line 738: expected 2 fields, saw 3\\nSkipping line 742: expected 2 fields, saw 3\\nSkipping line 748: expected 2 fields, saw 3\\nSkipping line 753: expected 2 fields, saw 3\\nSkipping line 757: expected 2 fields, saw 3\\nSkipping line 762: expected 2 fields, saw 3\\nSkipping line 765: expected 2 fields, saw 3\\nSkipping line 768: expected 2 fields, saw 3\\nSkipping line 779: expected 2 fields, saw 3\\nSkipping line 795: expected 2 fields, saw 3\\nSkipping line 799: expected 2 fields, saw 3\\nSkipping line 811: expected 2 fields, saw 3\\nSkipping line 819: expected 2 fields, saw 5\\nSkipping line 820: expected 2 fields, saw 3\\nSkipping line 823: expected 2 fields, saw 3\\nSkipping line 826: expected 2 fields, saw 3\\nSkipping line 836: expected 2 fields, saw 4\\nSkipping line 842: expected 2 fields, saw 4\\nSkipping line 843: expected 2 fields, saw 3\\nSkipping line 853: expected 2 fields, saw 3\\nSkipping line 854: expected 2 fields, saw 4\\nSkipping line 869: expected 2 fields, saw 3\\nSkipping line 871: expected 2 fields, saw 4\\nSkipping line 884: expected 2 fields, saw 3\\nSkipping line 885: expected 2 fields, saw 3\\nSkipping line 900: expected 2 fields, saw 3\\nSkipping line 904: expected 2 fields, saw 3\\nSkipping line 906: expected 2 fields, saw 3\\nSkipping line 907: expected 2 fields, saw 5\\nSkipping line 912: expected 2 fields, saw 3\\nSkipping line 916: expected 2 fields, saw 3\\nSkipping line 927: expected 2 fields, saw 3\\nSkipping line 930: expected 2 fields, saw 3\\nSkipping line 941: expected 2 fields, saw 3\\nSkipping line 942: expected 2 fields, saw 3\\nSkipping line 953: expected 2 fields, saw 3\\nSkipping line 954: expected 2 fields, saw 3\\nSkipping line 961: expected 2 fields, saw 3\\nSkipping line 964: expected 2 fields, saw 3\\nSkipping line 967: expected 2 fields, saw 3\\nSkipping line 969: expected 2 fields, saw 3\\nSkipping line 1013: expected 2 fields, saw 4\\nSkipping line 1024: expected 2 fields, saw 3\\nSkipping line 1037: expected 2 fields, saw 3\\nSkipping line 1040: expected 2 fields, saw 3\\nSkipping line 1048: expected 2 fields, saw 3\\nSkipping line 1049: expected 2 fields, saw 3\\nSkipping line 1053: expected 2 fields, saw 6\\nSkipping line 1062: expected 2 fields, saw 5\\nSkipping line 1069: expected 2 fields, saw 3\\nSkipping line 1078: expected 2 fields, saw 3\\nSkipping line 1085: expected 2 fields, saw 3\\nSkipping line 1090: expected 2 fields, saw 3\\nSkipping line 1096: expected 2 fields, saw 3\\nSkipping line 1104: expected 2 fields, saw 3\\nSkipping line 1116: expected 2 fields, saw 4\\nSkipping line 1120: expected 2 fields, saw 4\\nSkipping line 1124: expected 2 fields, saw 3\\nSkipping line 1127: expected 2 fields, saw 7\\nSkipping line 1137: expected 2 fields, saw 6\\nSkipping line 1141: expected 2 fields, saw 4\\nSkipping line 1146: expected 2 fields, saw 3\\nSkipping line 1162: expected 2 fields, saw 3\\nSkipping line 1174: expected 2 fields, saw 5\\nSkipping line 1175: expected 2 fields, saw 3\\nSkipping line 1180: expected 2 fields, saw 3\\nSkipping line 1184: expected 2 fields, saw 3\\nSkipping line 1200: expected 2 fields, saw 3\\nSkipping line 1201: expected 2 fields, saw 3\\nSkipping line 1203: expected 2 fields, saw 3\\nSkipping line 1208: expected 2 fields, saw 3\\nSkipping line 1231: expected 2 fields, saw 3\\nSkipping line 1236: expected 2 fields, saw 3\\nSkipping line 1237: expected 2 fields, saw 3\\nSkipping line 1258: expected 2 fields, saw 5\\nSkipping line 1263: expected 2 fields, saw 3\\nSkipping line 1265: expected 2 fields, saw 3\\nSkipping line 1266: expected 2 fields, saw 3\\nSkipping line 1275: expected 2 fields, saw 3\\nSkipping line 1287: expected 2 fields, saw 3\\nSkipping line 1289: expected 2 fields, saw 3\\nSkipping line 1290: expected 2 fields, saw 3\\nSkipping line 1294: expected 2 fields, saw 3\\nSkipping line 1318: expected 2 fields, saw 8\\nSkipping line 1327: expected 2 fields, saw 3\\nSkipping line 1328: expected 2 fields, saw 3\\nSkipping line 1363: expected 2 fields, saw 3\\nSkipping line 1368: expected 2 fields, saw 3\\nSkipping line 1372: expected 2 fields, saw 3\\nSkipping line 1374: expected 2 fields, saw 3\\nSkipping line 1414: expected 2 fields, saw 4\\nSkipping line 1437: expected 2 fields, saw 3\\nSkipping line 1440: expected 2 fields, saw 5\\nSkipping line 1465: expected 2 fields, saw 3\\nSkipping line 1468: expected 2 fields, saw 4\\nSkipping line 1477: expected 2 fields, saw 3\\nSkipping line 1480: expected 2 fields, saw 4\\nSkipping line 1482: expected 2 fields, saw 3\\nSkipping line 1490: expected 2 fields, saw 3\\nSkipping line 1493: expected 2 fields, saw 3\\nSkipping line 1495: expected 2 fields, saw 4\\nSkipping line 1509: expected 2 fields, saw 3\\nSkipping line 1514: expected 2 fields, saw 3\\nSkipping line 1533: expected 2 fields, saw 3\\nSkipping line 1537: expected 2 fields, saw 3\\nSkipping line 1538: expected 2 fields, saw 4\\nSkipping line 1539: expected 2 fields, saw 3\\nSkipping line 1541: expected 2 fields, saw 3\\nSkipping line 1546: expected 2 fields, saw 4\\nSkipping line 1559: expected 2 fields, saw 3\\nSkipping line 1575: expected 2 fields, saw 4\\nSkipping line 1599: expected 2 fields, saw 3\\nSkipping line 1613: expected 2 fields, saw 3\\nSkipping line 1627: expected 2 fields, saw 3\\nSkipping line 1628: expected 2 fields, saw 5\\nSkipping line 1633: expected 2 fields, saw 3\\nSkipping line 1635: expected 2 fields, saw 3\\nSkipping line 1639: expected 2 fields, saw 3\\nSkipping line 1640: expected 2 fields, saw 3\\nSkipping line 1645: expected 2 fields, saw 3\\nSkipping line 1647: expected 2 fields, saw 5\\nSkipping line 1648: expected 2 fields, saw 3\\nSkipping line 1654: expected 2 fields, saw 3\\nSkipping line 1665: expected 2 fields, saw 3\\nSkipping line 1684: expected 2 fields, saw 4\\nSkipping line 1685: expected 2 fields, saw 3\\nSkipping line 1689: expected 2 fields, saw 3\\nSkipping line 1701: expected 2 fields, saw 3\\nSkipping line 1705: expected 2 fields, saw 3\\nSkipping line 1713: expected 2 fields, saw 3\\nSkipping line 1716: expected 2 fields, saw 3\\nSkipping line 1720: expected 2 fields, saw 3\\nSkipping line 1727: expected 2 fields, saw 3\\nSkipping line 1769: expected 2 fields, saw 3\\nSkipping line 1772: expected 2 fields, saw 3\\nSkipping line 1778: expected 2 fields, saw 3\\nSkipping line 1792: expected 2 fields, saw 4\\nSkipping line 1799: expected 2 fields, saw 3\\nSkipping line 1801: expected 2 fields, saw 3\\nSkipping line 1830: expected 2 fields, saw 3\\nSkipping line 1841: expected 2 fields, saw 3\\nSkipping line 1858: expected 2 fields, saw 3\\nSkipping line 1863: expected 2 fields, saw 3\\nSkipping line 1871: expected 2 fields, saw 3\\nSkipping line 1883: expected 2 fields, saw 3\\nSkipping line 1891: expected 2 fields, saw 3\\nSkipping line 1892: expected 2 fields, saw 3\\nSkipping line 1893: expected 2 fields, saw 3\\nSkipping line 1894: expected 2 fields, saw 3\\nSkipping line 1897: expected 2 fields, saw 3\\nSkipping line 1902: expected 2 fields, saw 3\\nSkipping line 1904: expected 2 fields, saw 4\\nSkipping line 1914: expected 2 fields, saw 3\\nSkipping line 1926: expected 2 fields, saw 3\\nSkipping line 1935: expected 2 fields, saw 3\\nSkipping line 1949: expected 2 fields, saw 4\\nSkipping line 1958: expected 2 fields, saw 3\\nSkipping line 1966: expected 2 fields, saw 3\\nSkipping line 1967: expected 2 fields, saw 3\\nSkipping line 1969: expected 2 fields, saw 3\\nSkipping line 1975: expected 2 fields, saw 3\\nSkipping line 1978: expected 2 fields, saw 3\\nSkipping line 1979: expected 2 fields, saw 3\\nSkipping line 1981: expected 2 fields, saw 3\\nSkipping line 1983: expected 2 fields, saw 3\\nSkipping line 1985: expected 2 fields, saw 3\\nSkipping line 1998: expected 2 fields, saw 3\\nSkipping line 2001: expected 2 fields, saw 3\\nSkipping line 2004: expected 2 fields, saw 4\\nSkipping line 2015: expected 2 fields, saw 3\\nSkipping line 2025: expected 2 fields, saw 3\\nSkipping line 2029: expected 2 fields, saw 3\\nSkipping line 2038: expected 2 fields, saw 3\\nSkipping line 2042: expected 2 fields, saw 3\\nSkipping line 2043: expected 2 fields, saw 3\\nSkipping line 2050: expected 2 fields, saw 3\\nSkipping line 2058: expected 2 fields, saw 3\\nSkipping line 2061: expected 2 fields, saw 3\\nSkipping line 2064: expected 2 fields, saw 3\\nSkipping line 2068: expected 2 fields, saw 3\\nSkipping line 2070: expected 2 fields, saw 3\\nSkipping line 2071: expected 2 fields, saw 3\\nSkipping line 2074: expected 2 fields, saw 3\\nSkipping line 2094: expected 2 fields, saw 3\\nSkipping line 2095: expected 2 fields, saw 3\\nSkipping line 2096: expected 2 fields, saw 3\\nSkipping line 2100: expected 2 fields, saw 3\\nSkipping line 2107: expected 2 fields, saw 4\\nSkipping line 2116: expected 2 fields, saw 3\\nSkipping line 2118: expected 2 fields, saw 3\\nSkipping line 2120: expected 2 fields, saw 3\\nSkipping line 2122: expected 2 fields, saw 3\\nSkipping line 2125: expected 2 fields, saw 3\\nSkipping line 2140: expected 2 fields, saw 3\\nSkipping line 2142: expected 2 fields, saw 3\\nSkipping line 2174: expected 2 fields, saw 3\\nSkipping line 2186: expected 2 fields, saw 5\\nSkipping line 2209: expected 2 fields, saw 3\\nSkipping line 2212: expected 2 fields, saw 3\\nSkipping line 2216: expected 2 fields, saw 3\\nSkipping line 2217: expected 2 fields, saw 3\\nSkipping line 2226: expected 2 fields, saw 5\\nSkipping line 2228: expected 2 fields, saw 3\\nSkipping line 2238: expected 2 fields, saw 3\\nSkipping line 2249: expected 2 fields, saw 3\\nSkipping line 2259: expected 2 fields, saw 3\\nSkipping line 2265: expected 2 fields, saw 3\\nSkipping line 2268: expected 2 fields, saw 3\\nSkipping line 2270: expected 2 fields, saw 3\\nSkipping line 2271: expected 2 fields, saw 3\\nSkipping line 2280: expected 2 fields, saw 3\\nSkipping line 2282: expected 2 fields, saw 3\\nSkipping line 2296: expected 2 fields, saw 3\\nSkipping line 2308: expected 2 fields, saw 3\\nSkipping line 2332: expected 2 fields, saw 3\\nSkipping line 2333: expected 2 fields, saw 3\\nSkipping line 2340: expected 2 fields, saw 3\\nSkipping line 2347: expected 2 fields, saw 3\\nSkipping line 2349: expected 2 fields, saw 4\\nSkipping line 2354: expected 2 fields, saw 3\\nSkipping line 2359: expected 2 fields, saw 4\\nSkipping line 2363: expected 2 fields, saw 4\\nSkipping line 2368: expected 2 fields, saw 3\\nSkipping line 2372: expected 2 fields, saw 3\\nSkipping line 2377: expected 2 fields, saw 3\\nSkipping line 2378: expected 2 fields, saw 3\\nSkipping line 2386: expected 2 fields, saw 3\\nSkipping line 2390: expected 2 fields, saw 3\\nSkipping line 2399: expected 2 fields, saw 5\\nSkipping line 2400: expected 2 fields, saw 3\\nSkipping line 2405: expected 2 fields, saw 3\\nSkipping line 2407: expected 2 fields, saw 3\\nSkipping line 2408: expected 2 fields, saw 3\\nSkipping line 2409: expected 2 fields, saw 3\\nSkipping line 2415: expected 2 fields, saw 3\\nSkipping line 2416: expected 2 fields, saw 3\\nSkipping line 2436: expected 2 fields, saw 4\\nSkipping line 2438: expected 2 fields, saw 4\\nSkipping line 2442: expected 2 fields, saw 3\\nSkipping line 2443: expected 2 fields, saw 3\\nSkipping line 2451: expected 2 fields, saw 4\\nSkipping line 2459: expected 2 fields, saw 3\\nSkipping line 2463: expected 2 fields, saw 3\\nSkipping line 2465: expected 2 fields, saw 4\\nSkipping line 2471: expected 2 fields, saw 3\\nSkipping line 2482: expected 2 fields, saw 4\\nSkipping line 2485: expected 2 fields, saw 3\\nSkipping line 2486: expected 2 fields, saw 3\\nSkipping line 2487: expected 2 fields, saw 3\\nSkipping line 2488: expected 2 fields, saw 3\\nSkipping line 2507: expected 2 fields, saw 3\\nSkipping line 2511: expected 2 fields, saw 3\\nSkipping line 2515: expected 2 fields, saw 3\\nSkipping line 2522: expected 2 fields, saw 3\\nSkipping line 2534: expected 2 fields, saw 3\\nSkipping line 2545: expected 2 fields, saw 3\\nSkipping line 2550: expected 2 fields, saw 3\\nSkipping line 2559: expected 2 fields, saw 3\\nSkipping line 2561: expected 2 fields, saw 3\\nSkipping line 2570: expected 2 fields, saw 3\\nSkipping line 2587: expected 2 fields, saw 4\\nSkipping line 2593: expected 2 fields, saw 3\\nSkipping line 2600: expected 2 fields, saw 3\\nSkipping line 2601: expected 2 fields, saw 3\\nSkipping line 2620: expected 2 fields, saw 3\\nSkipping line 2623: expected 2 fields, saw 3\\nSkipping line 2628: expected 2 fields, saw 5\\nSkipping line 2647: expected 2 fields, saw 3\\nSkipping line 2654: expected 2 fields, saw 3\\nSkipping line 2662: expected 2 fields, saw 3\\nSkipping line 2682: expected 2 fields, saw 3\\nSkipping line 2689: expected 2 fields, saw 3\\nSkipping line 2695: expected 2 fields, saw 3\\nSkipping line 2702: expected 2 fields, saw 3\\nSkipping line 2706: expected 2 fields, saw 3\\nSkipping line 2712: expected 2 fields, saw 3\\nSkipping line 2722: expected 2 fields, saw 4\\nSkipping line 2735: expected 2 fields, saw 3\\nSkipping line 2741: expected 2 fields, saw 3\\nSkipping line 2747: expected 2 fields, saw 4\\nSkipping line 2751: expected 2 fields, saw 3\\nSkipping line 2765: expected 2 fields, saw 3\\nSkipping line 2772: expected 2 fields, saw 3\\nSkipping line 2773: expected 2 fields, saw 3\\nSkipping line 2778: expected 2 fields, saw 3\\nSkipping line 2799: expected 2 fields, saw 4\\nSkipping line 2804: expected 2 fields, saw 3\\nSkipping line 2805: expected 2 fields, saw 3\\nSkipping line 2808: expected 2 fields, saw 4\\nSkipping line 2815: expected 2 fields, saw 3\\nSkipping line 2825: expected 2 fields, saw 4\\nSkipping line 2832: expected 2 fields, saw 3\\nSkipping line 2841: expected 2 fields, saw 3\\nSkipping line 2847: expected 2 fields, saw 4\\nSkipping line 2854: expected 2 fields, saw 3\\nSkipping line 2857: expected 2 fields, saw 3\\nSkipping line 2862: expected 2 fields, saw 4\\nSkipping line 2874: expected 2 fields, saw 8\\nSkipping line 2886: expected 2 fields, saw 3\\nSkipping line 2888: expected 2 fields, saw 3\\nSkipping line 2898: expected 2 fields, saw 3\\nSkipping line 2901: expected 2 fields, saw 7\\nSkipping line 2913: expected 2 fields, saw 3\\nSkipping line 2925: expected 2 fields, saw 3\\nSkipping line 2931: expected 2 fields, saw 3\\nSkipping line 2942: expected 2 fields, saw 3\\nSkipping line 2950: expected 2 fields, saw 3\\nSkipping line 2957: expected 2 fields, saw 3\\nSkipping line 2969: expected 2 fields, saw 3\\nSkipping line 2976: expected 2 fields, saw 3\\nSkipping line 2977: expected 2 fields, saw 3\\nSkipping line 2984: expected 2 fields, saw 3\\nSkipping line 2988: expected 2 fields, saw 3\\nSkipping line 3000: expected 2 fields, saw 3\\nSkipping line 3004: expected 2 fields, saw 3\\nSkipping line 3022: expected 2 fields, saw 4\\nSkipping line 3025: expected 2 fields, saw 3\\nSkipping line 3026: expected 2 fields, saw 4\\nSkipping line 3034: expected 2 fields, saw 4\\nSkipping line 3035: expected 2 fields, saw 3\\nSkipping line 3041: expected 2 fields, saw 3\\nSkipping line 3042: expected 2 fields, saw 3\\nSkipping line 3064: expected 2 fields, saw 3\\nSkipping line 3070: expected 2 fields, saw 3\\nSkipping line 3083: expected 2 fields, saw 3\\nSkipping line 3099: expected 2 fields, saw 3\\nSkipping line 3101: expected 2 fields, saw 6\\nSkipping line 3103: expected 2 fields, saw 7\\nSkipping line 3105: expected 2 fields, saw 4\\nSkipping line 3106: expected 2 fields, saw 3\\nSkipping line 3117: expected 2 fields, saw 3\\nSkipping line 3134: expected 2 fields, saw 3\\nSkipping line 3135: expected 2 fields, saw 3\\nSkipping line 3139: expected 2 fields, saw 3\\nSkipping line 3141: expected 2 fields, saw 4\\nSkipping line 3153: expected 2 fields, saw 3\\nSkipping line 3160: expected 2 fields, saw 3\\nSkipping line 3161: expected 2 fields, saw 3\\nSkipping line 3162: expected 2 fields, saw 3\\nSkipping line 3165: expected 2 fields, saw 3\\nSkipping line 3166: expected 2 fields, saw 3\\nSkipping line 3171: expected 2 fields, saw 3\\nSkipping line 3177: expected 2 fields, saw 4\\nSkipping line 3187: expected 2 fields, saw 3\\nSkipping line 3203: expected 2 fields, saw 3\\nSkipping line 3217: expected 2 fields, saw 3\\nSkipping line 3235: expected 2 fields, saw 3\\nSkipping line 3238: expected 2 fields, saw 3\\nSkipping line 3240: expected 2 fields, saw 3\\nSkipping line 3243: expected 2 fields, saw 3\\nSkipping line 3249: expected 2 fields, saw 5\\nSkipping line 3278: expected 2 fields, saw 3\\nSkipping line 3287: expected 2 fields, saw 3\\nSkipping line 3295: expected 2 fields, saw 3\\nSkipping line 3297: expected 2 fields, saw 3\\nSkipping line 3302: expected 2 fields, saw 3\\nSkipping line 3305: expected 2 fields, saw 3\\nSkipping line 3309: expected 2 fields, saw 3\\nSkipping line 3314: expected 2 fields, saw 3\\nSkipping line 3315: expected 2 fields, saw 4\\nSkipping line 3334: expected 2 fields, saw 3\\nSkipping line 3338: expected 2 fields, saw 3\\nSkipping line 3344: expected 2 fields, saw 4\\nSkipping line 3351: expected 2 fields, saw 3\\nSkipping line 3366: expected 2 fields, saw 3\\nSkipping line 3371: expected 2 fields, saw 3\\nSkipping line 3372: expected 2 fields, saw 3\\nSkipping line 3384: expected 2 fields, saw 3\\nSkipping line 3391: expected 2 fields, saw 4\\nSkipping line 3398: expected 2 fields, saw 3\\nSkipping line 3399: expected 2 fields, saw 4\\nSkipping line 3402: expected 2 fields, saw 3\\nSkipping line 3408: expected 2 fields, saw 4\\nSkipping line 3409: expected 2 fields, saw 3\\nSkipping line 3412: expected 2 fields, saw 3\\nSkipping line 3416: expected 2 fields, saw 3\\nSkipping line 3421: expected 2 fields, saw 5\\nSkipping line 3450: expected 2 fields, saw 3\\nSkipping line 3455: expected 2 fields, saw 3\\nSkipping line 3465: expected 2 fields, saw 3\\nSkipping line 3472: expected 2 fields, saw 3\\nSkipping line 3482: expected 2 fields, saw 3\\nSkipping line 3497: expected 2 fields, saw 3\\nSkipping line 3499: expected 2 fields, saw 4\\nSkipping line 3504: expected 2 fields, saw 3\\nSkipping line 3514: expected 2 fields, saw 3\\nSkipping line 3516: expected 2 fields, saw 3\\nSkipping line 3517: expected 2 fields, saw 3\\nSkipping line 3529: expected 2 fields, saw 7\\nSkipping line 3532: expected 2 fields, saw 5\\nSkipping line 3543: expected 2 fields, saw 3\\nSkipping line 3548: expected 2 fields, saw 3\\nSkipping line 3554: expected 2 fields, saw 3\\nSkipping line 3563: expected 2 fields, saw 3\\nSkipping line 3567: expected 2 fields, saw 9\\nSkipping line 3579: expected 2 fields, saw 3\\nSkipping line 3582: expected 2 fields, saw 3\\nSkipping line 3585: expected 2 fields, saw 4\\nSkipping line 3590: expected 2 fields, saw 4\\nSkipping line 3596: expected 2 fields, saw 3\\nSkipping line 3598: expected 2 fields, saw 3\\nSkipping line 3611: expected 2 fields, saw 5\\nSkipping line 3614: expected 2 fields, saw 3\\nSkipping line 3622: expected 2 fields, saw 3\\nSkipping line 3633: expected 2 fields, saw 3\\nSkipping line 3636: expected 2 fields, saw 3\\nSkipping line 3656: expected 2 fields, saw 3\\nSkipping line 3660: expected 2 fields, saw 3\\nSkipping line 3662: expected 2 fields, saw 3\\nSkipping line 3668: expected 2 fields, saw 3\\nSkipping line 3670: expected 2 fields, saw 3\\nSkipping line 3673: expected 2 fields, saw 4\\nSkipping line 3694: expected 2 fields, saw 3\\nSkipping line 3704: expected 2 fields, saw 3\\nSkipping line 3710: expected 2 fields, saw 4\\nSkipping line 3714: expected 2 fields, saw 3\\nSkipping line 3726: expected 2 fields, saw 3\\nSkipping line 3732: expected 2 fields, saw 3\\nSkipping line 3746: expected 2 fields, saw 3\\nSkipping line 3752: expected 2 fields, saw 3\\nSkipping line 3755: expected 2 fields, saw 4\\nSkipping line 3756: expected 2 fields, saw 3\\nSkipping line 3761: expected 2 fields, saw 3\\nSkipping line 3770: expected 2 fields, saw 3\\nSkipping line 3771: expected 2 fields, saw 3\\nSkipping line 3777: expected 2 fields, saw 3\\nSkipping line 3778: expected 2 fields, saw 3\\nSkipping line 3785: expected 2 fields, saw 3\\nSkipping line 3799: expected 2 fields, saw 3\\nSkipping line 3802: expected 2 fields, saw 3\\nSkipping line 3808: expected 2 fields, saw 3\\nSkipping line 3822: expected 2 fields, saw 5\\nSkipping line 3852: expected 2 fields, saw 4\\nSkipping line 3854: expected 2 fields, saw 3\\nSkipping line 3861: expected 2 fields, saw 3\\nSkipping line 3882: expected 2 fields, saw 3\\nSkipping line 3897: expected 2 fields, saw 3\\nSkipping line 3909: expected 2 fields, saw 3\\nSkipping line 3917: expected 2 fields, saw 3\\nSkipping line 3918: expected 2 fields, saw 4\\nSkipping line 3919: expected 2 fields, saw 3\\nSkipping line 3921: expected 2 fields, saw 3\\nSkipping line 3925: expected 2 fields, saw 3\\nSkipping line 3940: expected 2 fields, saw 3\\nSkipping line 3942: expected 2 fields, saw 3\\nSkipping line 3949: expected 2 fields, saw 3\\nSkipping line 3957: expected 2 fields, saw 3\\nSkipping line 3967: expected 2 fields, saw 3\\nSkipping line 3972: expected 2 fields, saw 3\\nSkipping line 3984: expected 2 fields, saw 3\\nSkipping line 3986: expected 2 fields, saw 5\\nSkipping line 4003: expected 2 fields, saw 4\\nSkipping line 4013: expected 2 fields, saw 3\\nSkipping line 4016: expected 2 fields, saw 3\\nSkipping line 4021: expected 2 fields, saw 3\\nSkipping line 4032: expected 2 fields, saw 3\\nSkipping line 4034: expected 2 fields, saw 3\\nSkipping line 4036: expected 2 fields, saw 4\\nSkipping line 4040: expected 2 fields, saw 3\\nSkipping line 4049: expected 2 fields, saw 5\\nSkipping line 4073: expected 2 fields, saw 3\\nSkipping line 4075: expected 2 fields, saw 4\\nSkipping line 4085: expected 2 fields, saw 4\\nSkipping line 4086: expected 2 fields, saw 4\\nSkipping line 4087: expected 2 fields, saw 3\\nSkipping line 4098: expected 2 fields, saw 3\\nSkipping line 4106: expected 2 fields, saw 3\\nSkipping line 4108: expected 2 fields, saw 3\\nSkipping line 4109: expected 2 fields, saw 6\\nSkipping line 4114: expected 2 fields, saw 3\\nSkipping line 4115: expected 2 fields, saw 5\\nSkipping line 4120: expected 2 fields, saw 3\\nSkipping line 4121: expected 2 fields, saw 3\\nSkipping line 4129: expected 2 fields, saw 3\\nSkipping line 4135: expected 2 fields, saw 3\\nSkipping line 4144: expected 2 fields, saw 3\\nSkipping line 4157: expected 2 fields, saw 3\\nSkipping line 4161: expected 2 fields, saw 3\\nSkipping line 4166: expected 2 fields, saw 3\\nSkipping line 4170: expected 2 fields, saw 3\\nSkipping line 4183: expected 2 fields, saw 3\\nSkipping line 4187: expected 2 fields, saw 3\\nSkipping line 4196: expected 2 fields, saw 3\\nSkipping line 4206: expected 2 fields, saw 3\\nSkipping line 4207: expected 2 fields, saw 4\\nSkipping line 4211: expected 2 fields, saw 3\\nSkipping line 4212: expected 2 fields, saw 3\\nSkipping line 4217: expected 2 fields, saw 3\\nSkipping line 4221: expected 2 fields, saw 3\\nSkipping line 4227: expected 2 fields, saw 3\\nSkipping line 4230: expected 2 fields, saw 3\\nSkipping line 4246: expected 2 fields, saw 3\\nSkipping line 4249: expected 2 fields, saw 3\\nSkipping line 4253: expected 2 fields, saw 3\\nSkipping line 4258: expected 2 fields, saw 4\\nSkipping line 4262: expected 2 fields, saw 3\\nSkipping line 4265: expected 2 fields, saw 3\\nSkipping line 4266: expected 2 fields, saw 4\\nSkipping line 4273: expected 2 fields, saw 4\\nSkipping line 4288: expected 2 fields, saw 3\\nSkipping line 4308: expected 2 fields, saw 3\\nSkipping line 4309: expected 2 fields, saw 3\\nSkipping line 4314: expected 2 fields, saw 3\\nSkipping line 4318: expected 2 fields, saw 3\\nSkipping line 4331: expected 2 fields, saw 3\\nSkipping line 4343: expected 2 fields, saw 3\\nSkipping line 4357: expected 2 fields, saw 3\\nSkipping line 4367: expected 2 fields, saw 3\\nSkipping line 4382: expected 2 fields, saw 3\\nSkipping line 4400: expected 2 fields, saw 4\\nSkipping line 4404: expected 2 fields, saw 3\\nSkipping line 4405: expected 2 fields, saw 3\\nSkipping line 4410: expected 2 fields, saw 5\\nSkipping line 4412: expected 2 fields, saw 3\\nSkipping line 4415: expected 2 fields, saw 3\\nSkipping line 4417: expected 2 fields, saw 4\\nSkipping line 4441: expected 2 fields, saw 4\\nSkipping line 4442: expected 2 fields, saw 3\\nSkipping line 4444: expected 2 fields, saw 3\\nSkipping line 4451: expected 2 fields, saw 3\\nSkipping line 4464: expected 2 fields, saw 6\\nSkipping line 4469: expected 2 fields, saw 9\\nSkipping line 4492: expected 2 fields, saw 3\\nSkipping line 4496: expected 2 fields, saw 3\\nSkipping line 4505: expected 2 fields, saw 3\\nSkipping line 4511: expected 2 fields, saw 3\\nSkipping line 4528: expected 2 fields, saw 4\\nSkipping line 4534: expected 2 fields, saw 3\\nSkipping line 4540: expected 2 fields, saw 3\\nSkipping line 4545: expected 2 fields, saw 3\\nSkipping line 4546: expected 2 fields, saw 3\\nSkipping line 4548: expected 2 fields, saw 3\\nSkipping line 4556: expected 2 fields, saw 3\\nSkipping line 4558: expected 2 fields, saw 3\\nSkipping line 4560: expected 2 fields, saw 3\\nSkipping line 4572: expected 2 fields, saw 3\\nSkipping line 4574: expected 2 fields, saw 8\\nSkipping line 4585: expected 2 fields, saw 3\\nSkipping line 4590: expected 2 fields, saw 3\\nSkipping line 4591: expected 2 fields, saw 3\\nSkipping line 4594: expected 2 fields, saw 3\\nSkipping line 4606: expected 2 fields, saw 4\\nSkipping line 4614: expected 2 fields, saw 3\\nSkipping line 4619: expected 2 fields, saw 3\\nSkipping line 4620: expected 2 fields, saw 4\\nSkipping line 4621: expected 2 fields, saw 3\\nSkipping line 4629: expected 2 fields, saw 3\\nSkipping line 4631: expected 2 fields, saw 3\\nSkipping line 4647: expected 2 fields, saw 3\\nSkipping line 4650: expected 2 fields, saw 3\\nSkipping line 4659: expected 2 fields, saw 3\\nSkipping line 4662: expected 2 fields, saw 3\\nSkipping line 4664: expected 2 fields, saw 3\\nSkipping line 4668: expected 2 fields, saw 3\\nSkipping line 4673: expected 2 fields, saw 3\\nSkipping line 4686: expected 2 fields, saw 3\\nSkipping line 4692: expected 2 fields, saw 4\\nSkipping line 4695: expected 2 fields, saw 3\\nSkipping line 4696: expected 2 fields, saw 3\\nSkipping line 4700: expected 2 fields, saw 5\\nSkipping line 4707: expected 2 fields, saw 3\\nSkipping line 4709: expected 2 fields, saw 3\\nSkipping line 4713: expected 2 fields, saw 3\\nSkipping line 4733: expected 2 fields, saw 4\\nSkipping line 4735: expected 2 fields, saw 3\\nSkipping line 4738: expected 2 fields, saw 4\\nSkipping line 4741: expected 2 fields, saw 4\\nSkipping line 4745: expected 2 fields, saw 3\\nSkipping line 4765: expected 2 fields, saw 3\\nSkipping line 4811: expected 2 fields, saw 7\\nSkipping line 4813: expected 2 fields, saw 3\\nSkipping line 4833: expected 2 fields, saw 3\\nSkipping line 4837: expected 2 fields, saw 4\\nSkipping line 4845: expected 2 fields, saw 8\\nSkipping line 4849: expected 2 fields, saw 3\\nSkipping line 4851: expected 2 fields, saw 4\\nSkipping line 4858: expected 2 fields, saw 3\\nSkipping line 4861: expected 2 fields, saw 3\\nSkipping line 4864: expected 2 fields, saw 3\\nSkipping line 4870: expected 2 fields, saw 3\\nSkipping line 4872: expected 2 fields, saw 4\\nSkipping line 4890: expected 2 fields, saw 3\\nSkipping line 4907: expected 2 fields, saw 3\\nSkipping line 4912: expected 2 fields, saw 3\\nSkipping line 4918: expected 2 fields, saw 3\\nSkipping line 4926: expected 2 fields, saw 3\\nSkipping line 4931: expected 2 fields, saw 5\\nSkipping line 4938: expected 2 fields, saw 3\\nSkipping line 4946: expected 2 fields, saw 3\\nSkipping line 4947: expected 2 fields, saw 3\\nSkipping line 4955: expected 2 fields, saw 5\\nSkipping line 4969: expected 2 fields, saw 3\\nSkipping line 4976: expected 2 fields, saw 3\\nSkipping line 4979: expected 2 fields, saw 3\\nSkipping line 4985: expected 2 fields, saw 5\\nSkipping line 4989: expected 2 fields, saw 3\\nSkipping line 4993: expected 2 fields, saw 3\\nSkipping line 5019: expected 2 fields, saw 3\\nSkipping line 5033: expected 2 fields, saw 5\\nSkipping line 5043: expected 2 fields, saw 3\\nSkipping line 5048: expected 2 fields, saw 3\\nSkipping line 5049: expected 2 fields, saw 3\\nSkipping line 5053: expected 2 fields, saw 3\\nSkipping line 5054: expected 2 fields, saw 3\\nSkipping line 5058: expected 2 fields, saw 3\\nSkipping line 5060: expected 2 fields, saw 3\\nSkipping line 5062: expected 2 fields, saw 3\\nSkipping line 5069: expected 2 fields, saw 3\\nSkipping line 5079: expected 2 fields, saw 3\\nSkipping line 5080: expected 2 fields, saw 3\\nSkipping line 5087: expected 2 fields, saw 5\\nSkipping line 5089: expected 2 fields, saw 3\\nSkipping line 5104: expected 2 fields, saw 4\\nSkipping line 5105: expected 2 fields, saw 3\\nSkipping line 5111: expected 2 fields, saw 3\\nSkipping line 5112: expected 2 fields, saw 3\\nSkipping line 5116: expected 2 fields, saw 3\\nSkipping line 5118: expected 2 fields, saw 3\\nSkipping line 5119: expected 2 fields, saw 3\\nSkipping line 5122: expected 2 fields, saw 5\\nSkipping line 5129: expected 2 fields, saw 3\\nSkipping line 5137: expected 2 fields, saw 3\\nSkipping line 5142: expected 2 fields, saw 5\\nSkipping line 5151: expected 2 fields, saw 3\\nSkipping line 5161: expected 2 fields, saw 3\\nSkipping line 5169: expected 2 fields, saw 3\\nSkipping line 5174: expected 2 fields, saw 3\\nSkipping line 5194: expected 2 fields, saw 4\\nSkipping line 5200: expected 2 fields, saw 5\\nSkipping line 5222: expected 2 fields, saw 10\\nSkipping line 5224: expected 2 fields, saw 3\\nSkipping line 5225: expected 2 fields, saw 3\\nSkipping line 5227: expected 2 fields, saw 3\\nSkipping line 5228: expected 2 fields, saw 3\\nSkipping line 5232: expected 2 fields, saw 3\\nSkipping line 5235: expected 2 fields, saw 3\\nSkipping line 5237: expected 2 fields, saw 6\\nSkipping line 5243: expected 2 fields, saw 3\\nSkipping line 5248: expected 2 fields, saw 3\\nSkipping line 5250: expected 2 fields, saw 3\\nSkipping line 5271: expected 2 fields, saw 4\\nSkipping line 5285: expected 2 fields, saw 3\\nSkipping line 5291: expected 2 fields, saw 3\\nSkipping line 5307: expected 2 fields, saw 3\\nSkipping line 5308: expected 2 fields, saw 3\\nSkipping line 5318: expected 2 fields, saw 3\\nSkipping line 5320: expected 2 fields, saw 3\\nSkipping line 5325: expected 2 fields, saw 4\\nSkipping line 5339: expected 2 fields, saw 3\\nSkipping line 5363: expected 2 fields, saw 4\\nSkipping line 5364: expected 2 fields, saw 3\\nSkipping line 5365: expected 2 fields, saw 3\\nSkipping line 5384: expected 2 fields, saw 3\\nSkipping line 5398: expected 2 fields, saw 3\\nSkipping line 5399: expected 2 fields, saw 4\\nSkipping line 5418: expected 2 fields, saw 3\\nSkipping line 5422: expected 2 fields, saw 3\\nSkipping line 5431: expected 2 fields, saw 4\\nSkipping line 5434: expected 2 fields, saw 3\\nSkipping line 5440: expected 2 fields, saw 4\\nSkipping line 5445: expected 2 fields, saw 3\\nSkipping line 5448: expected 2 fields, saw 3\\nSkipping line 5452: expected 2 fields, saw 3\\nSkipping line 5456: expected 2 fields, saw 3\\nSkipping line 5467: expected 2 fields, saw 3\\nSkipping line 5474: expected 2 fields, saw 3\\nSkipping line 5478: expected 2 fields, saw 3\\nSkipping line 5497: expected 2 fields, saw 3\\nSkipping line 5498: expected 2 fields, saw 3\\nSkipping line 5505: expected 2 fields, saw 3\\nSkipping line 5513: expected 2 fields, saw 3\\nSkipping line 5514: expected 2 fields, saw 3\\nSkipping line 5515: expected 2 fields, saw 3\\nSkipping line 5522: expected 2 fields, saw 3\\nSkipping line 5523: expected 2 fields, saw 5\\nSkipping line 5525: expected 2 fields, saw 4\\nSkipping line 5533: expected 2 fields, saw 4\\nSkipping line 5534: expected 2 fields, saw 3\\nSkipping line 5539: expected 2 fields, saw 3\\nSkipping line 5545: expected 2 fields, saw 3\\nSkipping line 5546: expected 2 fields, saw 3\\nSkipping line 5557: expected 2 fields, saw 3\\nSkipping line 5566: expected 2 fields, saw 3\\nSkipping line 5567: expected 2 fields, saw 3\\nSkipping line 5569: expected 2 fields, saw 3\\nSkipping line 5571: expected 2 fields, saw 3\\nSkipping line 5578: expected 2 fields, saw 3\\nSkipping line 5586: expected 2 fields, saw 3\\nSkipping line 5593: expected 2 fields, saw 3\\nSkipping line 5596: expected 2 fields, saw 3\\nSkipping line 5600: expected 2 fields, saw 3\\nSkipping line 5617: expected 2 fields, saw 3\\nSkipping line 5641: expected 2 fields, saw 3\\nSkipping line 5645: expected 2 fields, saw 3\\nSkipping line 5648: expected 2 fields, saw 3\\nSkipping line 5655: expected 2 fields, saw 3\\nSkipping line 5665: expected 2 fields, saw 5\\nSkipping line 5671: expected 2 fields, saw 3\\nSkipping line 5672: expected 2 fields, saw 3\\nSkipping line 5692: expected 2 fields, saw 3\\nSkipping line 5710: expected 2 fields, saw 3\\nSkipping line 5720: expected 2 fields, saw 3\\nSkipping line 5726: expected 2 fields, saw 3\\nSkipping line 5739: expected 2 fields, saw 3\\nSkipping line 5740: expected 2 fields, saw 3\\nSkipping line 5743: expected 2 fields, saw 3\\nSkipping line 5799: expected 2 fields, saw 3\\nSkipping line 5810: expected 2 fields, saw 4\\nSkipping line 5816: expected 2 fields, saw 3\\nSkipping line 5819: expected 2 fields, saw 3\\nSkipping line 5823: expected 2 fields, saw 3\\nSkipping line 5840: expected 2 fields, saw 3\\nSkipping line 5855: expected 2 fields, saw 3\\nSkipping line 5858: expected 2 fields, saw 4\\nSkipping line 5861: expected 2 fields, saw 3\\nSkipping line 5866: expected 2 fields, saw 3\\nSkipping line 5873: expected 2 fields, saw 4\\nSkipping line 5880: expected 2 fields, saw 3\\nSkipping line 5899: expected 2 fields, saw 3\\nSkipping line 5901: expected 2 fields, saw 3\\nSkipping line 5903: expected 2 fields, saw 3\\nSkipping line 5908: expected 2 fields, saw 3\\nSkipping line 5912: expected 2 fields, saw 3\\nSkipping line 5917: expected 2 fields, saw 4\\nSkipping line 5921: expected 2 fields, saw 3\\nSkipping line 5926: expected 2 fields, saw 3\\nSkipping line 5927: expected 2 fields, saw 3\\nSkipping line 5937: expected 2 fields, saw 4\\nSkipping line 5941: expected 2 fields, saw 3\\nSkipping line 5944: expected 2 fields, saw 3\\nSkipping line 5946: expected 2 fields, saw 4\\nSkipping line 5967: expected 2 fields, saw 3\\nSkipping line 5976: expected 2 fields, saw 3\\nSkipping line 5997: expected 2 fields, saw 3\\nSkipping line 6001: expected 2 fields, saw 3\\nSkipping line 6002: expected 2 fields, saw 4\\nSkipping line 6010: expected 2 fields, saw 3\\nSkipping line 6014: expected 2 fields, saw 3\\nSkipping line 6021: expected 2 fields, saw 6\\nSkipping line 6023: expected 2 fields, saw 3\\nSkipping line 6027: expected 2 fields, saw 4\\nSkipping line 6032: expected 2 fields, saw 4\\nSkipping line 6039: expected 2 fields, saw 3\\nSkipping line 6040: expected 2 fields, saw 3\\nSkipping line 6059: expected 2 fields, saw 7\\nSkipping line 6066: expected 2 fields, saw 4\\nSkipping line 6073: expected 2 fields, saw 3\\nSkipping line 6080: expected 2 fields, saw 4\\nSkipping line 6091: expected 2 fields, saw 4\\nSkipping line 6093: expected 2 fields, saw 3\\nSkipping line 6098: expected 2 fields, saw 6\\nSkipping line 6101: expected 2 fields, saw 4\\nSkipping line 6116: expected 2 fields, saw 3\\nSkipping line 6117: expected 2 fields, saw 3\\nSkipping line 6138: expected 2 fields, saw 3\\nSkipping line 6139: expected 2 fields, saw 3\\nSkipping line 6141: expected 2 fields, saw 3\\nSkipping line 6145: expected 2 fields, saw 3\\nSkipping line 6161: expected 2 fields, saw 3\\nSkipping line 6163: expected 2 fields, saw 3\\nSkipping line 6192: expected 2 fields, saw 3\\nSkipping line 6199: expected 2 fields, saw 5\\nSkipping line 6206: expected 2 fields, saw 3\\nSkipping line 6209: expected 2 fields, saw 4\\nSkipping line 6211: expected 2 fields, saw 3\\nSkipping line 6222: expected 2 fields, saw 5\\nSkipping line 6223: expected 2 fields, saw 3\\nSkipping line 6230: expected 2 fields, saw 3\\nSkipping line 6231: expected 2 fields, saw 3\\nSkipping line 6245: expected 2 fields, saw 3\\nSkipping line 6249: expected 2 fields, saw 3\\nSkipping line 6256: expected 2 fields, saw 4\\nSkipping line 6259: expected 2 fields, saw 3\\nSkipping line 6260: expected 2 fields, saw 5\\nSkipping line 6262: expected 2 fields, saw 4\\nSkipping line 6264: expected 2 fields, saw 3\\nSkipping line 6265: expected 2 fields, saw 4\\nSkipping line 6275: expected 2 fields, saw 3\\nSkipping line 6285: expected 2 fields, saw 3\\nSkipping line 6291: expected 2 fields, saw 3\\nSkipping line 6295: expected 2 fields, saw 3\\nSkipping line 6305: expected 2 fields, saw 3\\nSkipping line 6310: expected 2 fields, saw 4\\nSkipping line 6311: expected 2 fields, saw 3\\nSkipping line 6312: expected 2 fields, saw 3\\nSkipping line 6313: expected 2 fields, saw 3\\nSkipping line 6314: expected 2 fields, saw 4\\nSkipping line 6319: expected 2 fields, saw 3\\nSkipping line 6321: expected 2 fields, saw 3\\nSkipping line 6336: expected 2 fields, saw 3\\nSkipping line 6344: expected 2 fields, saw 6\\nSkipping line 6352: expected 2 fields, saw 3\\nSkipping line 6356: expected 2 fields, saw 3\\nSkipping line 6366: expected 2 fields, saw 4\\nSkipping line 6369: expected 2 fields, saw 3\\nSkipping line 6373: expected 2 fields, saw 3\\nSkipping line 6374: expected 2 fields, saw 4\\nSkipping line 6376: expected 2 fields, saw 5\\nSkipping line 6377: expected 2 fields, saw 3\\nSkipping line 6382: expected 2 fields, saw 3\\nSkipping line 6385: expected 2 fields, saw 3\\nSkipping line 6400: expected 2 fields, saw 3\\nSkipping line 6404: expected 2 fields, saw 3\\nSkipping line 6409: expected 2 fields, saw 3\\nSkipping line 6415: expected 2 fields, saw 3\\nSkipping line 6442: expected 2 fields, saw 3\\nSkipping line 6444: expected 2 fields, saw 3\\nSkipping line 6447: expected 2 fields, saw 4\\nSkipping line 6454: expected 2 fields, saw 3\\nSkipping line 6462: expected 2 fields, saw 3\\nSkipping line 6467: expected 2 fields, saw 3\\nSkipping line 6470: expected 2 fields, saw 3\\nSkipping line 6472: expected 2 fields, saw 3\\nSkipping line 6474: expected 2 fields, saw 4\\nSkipping line 6476: expected 2 fields, saw 4\\nSkipping line 6492: expected 2 fields, saw 3\\nSkipping line 6500: expected 2 fields, saw 3\\nSkipping line 6501: expected 2 fields, saw 3\\nSkipping line 6506: expected 2 fields, saw 3\\nSkipping line 6507: expected 2 fields, saw 3\\nSkipping line 6517: expected 2 fields, saw 4\\nSkipping line 6529: expected 2 fields, saw 3\\nSkipping line 6531: expected 2 fields, saw 3\\nSkipping line 6535: expected 2 fields, saw 3\\nSkipping line 6536: expected 2 fields, saw 4\\nSkipping line 6537: expected 2 fields, saw 3\\nSkipping line 6547: expected 2 fields, saw 3\\nSkipping line 6555: expected 2 fields, saw 5\\nSkipping line 6565: expected 2 fields, saw 3\\nSkipping line 6566: expected 2 fields, saw 3\\nSkipping line 6572: expected 2 fields, saw 5\\nSkipping line 6581: expected 2 fields, saw 5\\nSkipping line 6584: expected 2 fields, saw 3\\nSkipping line 6587: expected 2 fields, saw 5\\nSkipping line 6591: expected 2 fields, saw 3\\nSkipping line 6595: expected 2 fields, saw 4\\nSkipping line 6598: expected 2 fields, saw 3\\nSkipping line 6599: expected 2 fields, saw 3\\nSkipping line 6606: expected 2 fields, saw 3\\nSkipping line 6613: expected 2 fields, saw 3\\nSkipping line 6653: expected 2 fields, saw 4\\nSkipping line 6666: expected 2 fields, saw 3\\nSkipping line 6668: expected 2 fields, saw 4\\nSkipping line 6670: expected 2 fields, saw 3\\nSkipping line 6675: expected 2 fields, saw 4\\nSkipping line 6678: expected 2 fields, saw 3\\nSkipping line 6681: expected 2 fields, saw 3\\nSkipping line 6682: expected 2 fields, saw 3\\nSkipping line 6693: expected 2 fields, saw 3\\nSkipping line 6701: expected 2 fields, saw 4\\nSkipping line 6716: expected 2 fields, saw 4\\nSkipping line 6723: expected 2 fields, saw 3\\nSkipping line 6730: expected 2 fields, saw 4\\nSkipping line 6731: expected 2 fields, saw 3\\nSkipping line 6739: expected 2 fields, saw 3\\nSkipping line 6742: expected 2 fields, saw 3\\nSkipping line 6744: expected 2 fields, saw 5\\nSkipping line 6755: expected 2 fields, saw 3\\nSkipping line 6787: expected 2 fields, saw 3\\nSkipping line 6796: expected 2 fields, saw 3\\nSkipping line 6802: expected 2 fields, saw 3\\nSkipping line 6818: expected 2 fields, saw 6\\nSkipping line 6826: expected 2 fields, saw 5\\nSkipping line 6829: expected 2 fields, saw 3\\nSkipping line 6835: expected 2 fields, saw 3\\nSkipping line 6849: expected 2 fields, saw 4\\nSkipping line 6850: expected 2 fields, saw 3\\nSkipping line 6861: expected 2 fields, saw 5\\nSkipping line 6863: expected 2 fields, saw 3\\nSkipping line 6865: expected 2 fields, saw 3\\nSkipping line 6867: expected 2 fields, saw 4\\nSkipping line 6873: expected 2 fields, saw 3\\nSkipping line 6877: expected 2 fields, saw 4\\nSkipping line 6892: expected 2 fields, saw 3\\nSkipping line 6917: expected 2 fields, saw 3\\nSkipping line 6918: expected 2 fields, saw 4\\nSkipping line 6920: expected 2 fields, saw 3\\nSkipping line 6922: expected 2 fields, saw 4\\nSkipping line 6927: expected 2 fields, saw 3\\nSkipping line 6931: expected 2 fields, saw 3\\nSkipping line 6938: expected 2 fields, saw 3\\nSkipping line 6957: expected 2 fields, saw 3\\nSkipping line 6963: expected 2 fields, saw 3\\nSkipping line 6968: expected 2 fields, saw 4\\nSkipping line 6989: expected 2 fields, saw 3\\nSkipping line 6992: expected 2 fields, saw 4\\nSkipping line 7000: expected 2 fields, saw 3\\nSkipping line 7002: expected 2 fields, saw 3\\nSkipping line 7003: expected 2 fields, saw 3\\nSkipping line 7013: expected 2 fields, saw 3\\nSkipping line 7018: expected 2 fields, saw 3\\nSkipping line 7033: expected 2 fields, saw 4\\nSkipping line 7041: expected 2 fields, saw 3\\nSkipping line 7047: expected 2 fields, saw 3\\nSkipping line 7050: expected 2 fields, saw 3\\nSkipping line 7058: expected 2 fields, saw 3\\nSkipping line 7065: expected 2 fields, saw 4\\nSkipping line 7068: expected 2 fields, saw 4\\nSkipping line 7091: expected 2 fields, saw 3\\nSkipping line 7101: expected 2 fields, saw 4\\nSkipping line 7103: expected 2 fields, saw 5\\nSkipping line 7113: expected 2 fields, saw 3\\nSkipping line 7117: expected 2 fields, saw 3\\nSkipping line 7121: expected 2 fields, saw 3\\nSkipping line 7124: expected 2 fields, saw 3\\nSkipping line 7125: expected 2 fields, saw 3\\nSkipping line 7131: expected 2 fields, saw 3\\nSkipping line 7155: expected 2 fields, saw 3\\nSkipping line 7168: expected 2 fields, saw 4\\nSkipping line 7173: expected 2 fields, saw 3\\nSkipping line 7190: expected 2 fields, saw 3\\nSkipping line 7191: expected 2 fields, saw 3\\nSkipping line 7197: expected 2 fields, saw 4\\nSkipping line 7203: expected 2 fields, saw 4\\nSkipping line 7209: expected 2 fields, saw 6\\nSkipping line 7215: expected 2 fields, saw 3\\nSkipping line 7229: expected 2 fields, saw 3\\nSkipping line 7236: expected 2 fields, saw 3\\nSkipping line 7241: expected 2 fields, saw 3\\nSkipping line 7243: expected 2 fields, saw 3\\nSkipping line 7246: expected 2 fields, saw 4\\nSkipping line 7247: expected 2 fields, saw 3\\nSkipping line 7254: expected 2 fields, saw 6\\nSkipping line 7256: expected 2 fields, saw 4\\nSkipping line 7259: expected 2 fields, saw 3\\nSkipping line 7261: expected 2 fields, saw 3\\nSkipping line 7263: expected 2 fields, saw 3\\nSkipping line 7264: expected 2 fields, saw 3\\nSkipping line 7267: expected 2 fields, saw 3\\nSkipping line 7271: expected 2 fields, saw 3\\nSkipping line 7283: expected 2 fields, saw 3\\nSkipping line 7287: expected 2 fields, saw 3\\nSkipping line 7291: expected 2 fields, saw 3\\nSkipping line 7292: expected 2 fields, saw 3\\nSkipping line 7294: expected 2 fields, saw 3\\nSkipping line 7296: expected 2 fields, saw 3\\nSkipping line 7303: expected 2 fields, saw 3\\nSkipping line 7305: expected 2 fields, saw 4\\nSkipping line 7307: expected 2 fields, saw 3\\nSkipping line 7320: expected 2 fields, saw 4\\nSkipping line 7324: expected 2 fields, saw 3\\nSkipping line 7340: expected 2 fields, saw 3\\nSkipping line 7349: expected 2 fields, saw 3\\nSkipping line 7364: expected 2 fields, saw 3\\nSkipping line 7366: expected 2 fields, saw 3\\nSkipping line 7383: expected 2 fields, saw 3\\nSkipping line 7394: expected 2 fields, saw 6\\nSkipping line 7401: expected 2 fields, saw 4\\nSkipping line 7427: expected 2 fields, saw 3\\nSkipping line 7434: expected 2 fields, saw 4\\nSkipping line 7438: expected 2 fields, saw 3\\nSkipping line 7461: expected 2 fields, saw 3\\nSkipping line 7470: expected 2 fields, saw 4\\nSkipping line 7471: expected 2 fields, saw 4\\nSkipping line 7478: expected 2 fields, saw 5\\nSkipping line 7491: expected 2 fields, saw 3\\nSkipping line 7494: expected 2 fields, saw 4\\nSkipping line 7500: expected 2 fields, saw 4\\nSkipping line 7505: expected 2 fields, saw 3\\nSkipping line 7548: expected 2 fields, saw 3\\nSkipping line 7550: expected 2 fields, saw 3\\nSkipping line 7553: expected 2 fields, saw 3\\nSkipping line 7563: expected 2 fields, saw 3\\nSkipping line 7567: expected 2 fields, saw 3\\nSkipping line 7573: expected 2 fields, saw 4\\nSkipping line 7576: expected 2 fields, saw 3\\nSkipping line 7578: expected 2 fields, saw 4\\nSkipping line 7584: expected 2 fields, saw 6\\nSkipping line 7588: expected 2 fields, saw 3\\nSkipping line 7590: expected 2 fields, saw 4\\nSkipping line 7594: expected 2 fields, saw 4\\nSkipping line 7599: expected 2 fields, saw 3\\nSkipping line 7607: expected 2 fields, saw 3\\nSkipping line 7608: expected 2 fields, saw 5\\nSkipping line 7610: expected 2 fields, saw 3\\nSkipping line 7611: expected 2 fields, saw 3\\nSkipping line 7614: expected 2 fields, saw 3\\nSkipping line 7616: expected 2 fields, saw 3\\nSkipping line 7627: expected 2 fields, saw 3\\nSkipping line 7633: expected 2 fields, saw 5\\nSkipping line 7635: expected 2 fields, saw 3\\nSkipping line 7639: expected 2 fields, saw 3\\nSkipping line 7642: expected 2 fields, saw 3\\nSkipping line 7643: expected 2 fields, saw 3\\nSkipping line 7644: expected 2 fields, saw 3\\nSkipping line 7659: expected 2 fields, saw 3\\nSkipping line 7662: expected 2 fields, saw 3\\nSkipping line 7667: expected 2 fields, saw 3\\nSkipping line 7669: expected 2 fields, saw 3\\nSkipping line 7672: expected 2 fields, saw 4\\nSkipping line 7680: expected 2 fields, saw 3\\nSkipping line 7685: expected 2 fields, saw 7\\nSkipping line 7686: expected 2 fields, saw 3\\nSkipping line 7697: expected 2 fields, saw 3\\nSkipping line 7706: expected 2 fields, saw 3\\nSkipping line 7707: expected 2 fields, saw 3\\nSkipping line 7710: expected 2 fields, saw 3\\nSkipping line 7711: expected 2 fields, saw 3\\nSkipping line 7716: expected 2 fields, saw 3\\nSkipping line 7724: expected 2 fields, saw 3\\nSkipping line 7725: expected 2 fields, saw 3\\nSkipping line 7727: expected 2 fields, saw 4\\nSkipping line 7737: expected 2 fields, saw 3\\nSkipping line 7739: expected 2 fields, saw 3\\nSkipping line 7747: expected 2 fields, saw 3\\nSkipping line 7751: expected 2 fields, saw 4\\nSkipping line 7762: expected 2 fields, saw 4\\nSkipping line 7765: expected 2 fields, saw 3\\nSkipping line 7778: expected 2 fields, saw 3\\nSkipping line 7790: expected 2 fields, saw 3\\nSkipping line 7803: expected 2 fields, saw 4\\nSkipping line 7806: expected 2 fields, saw 5\\nSkipping line 7820: expected 2 fields, saw 3\\nSkipping line 7834: expected 2 fields, saw 3\\nSkipping line 7836: expected 2 fields, saw 3\\nSkipping line 7841: expected 2 fields, saw 3\\nSkipping line 7843: expected 2 fields, saw 3\\nSkipping line 7853: expected 2 fields, saw 3\\nSkipping line 7861: expected 2 fields, saw 3\\nSkipping line 7873: expected 2 fields, saw 3\\nSkipping line 7874: expected 2 fields, saw 3\\nSkipping line 7877: expected 2 fields, saw 3\\nSkipping line 7879: expected 2 fields, saw 4\\nSkipping line 7885: expected 2 fields, saw 4\\nSkipping line 7886: expected 2 fields, saw 4\\nSkipping line 7896: expected 2 fields, saw 3\\nSkipping line 7910: expected 2 fields, saw 3\\nSkipping line 7912: expected 2 fields, saw 3\\nSkipping line 7924: expected 2 fields, saw 3\\nSkipping line 7926: expected 2 fields, saw 3\\nSkipping line 7929: expected 2 fields, saw 3\\nSkipping line 7931: expected 2 fields, saw 3\\nSkipping line 7937: expected 2 fields, saw 3\\nSkipping line 7946: expected 2 fields, saw 3\\nSkipping line 7950: expected 2 fields, saw 4\\nSkipping line 7951: expected 2 fields, saw 3\\nSkipping line 7956: expected 2 fields, saw 3\\nSkipping line 7957: expected 2 fields, saw 3\\nSkipping line 7959: expected 2 fields, saw 3\\nSkipping line 7965: expected 2 fields, saw 3\\nSkipping line 7970: expected 2 fields, saw 5\\nSkipping line 7974: expected 2 fields, saw 3\\nSkipping line 7976: expected 2 fields, saw 3\\nSkipping line 7984: expected 2 fields, saw 3\\nSkipping line 7994: expected 2 fields, saw 3\\nSkipping line 8001: expected 2 fields, saw 3\\nSkipping line 8004: expected 2 fields, saw 3\\nSkipping line 8019: expected 2 fields, saw 3\\nSkipping line 8021: expected 2 fields, saw 3\\nSkipping line 8022: expected 2 fields, saw 3\\nSkipping line 8026: expected 2 fields, saw 4\\nSkipping line 8033: expected 2 fields, saw 4\\nSkipping line 8044: expected 2 fields, saw 3\\nSkipping line 8050: expected 2 fields, saw 4\\nSkipping line 8056: expected 2 fields, saw 3\\nSkipping line 8058: expected 2 fields, saw 3\\nSkipping line 8060: expected 2 fields, saw 3\\nSkipping line 8062: expected 2 fields, saw 3\\nSkipping line 8069: expected 2 fields, saw 3\\nSkipping line 8070: expected 2 fields, saw 3\\nSkipping line 8072: expected 2 fields, saw 3\\nSkipping line 8079: expected 2 fields, saw 3\\nSkipping line 8080: expected 2 fields, saw 3\\nSkipping line 8083: expected 2 fields, saw 3\\nSkipping line 8093: expected 2 fields, saw 3\\nSkipping line 8100: expected 2 fields, saw 3\\nSkipping line 8106: expected 2 fields, saw 4\\nSkipping line 8109: expected 2 fields, saw 3\\nSkipping line 8114: expected 2 fields, saw 3\\nSkipping line 8120: expected 2 fields, saw 3\\nSkipping line 8132: expected 2 fields, saw 3\\nSkipping line 8139: expected 2 fields, saw 4\\nSkipping line 8143: expected 2 fields, saw 3\\nSkipping line 8144: expected 2 fields, saw 3\\nSkipping line 8145: expected 2 fields, saw 3\\nSkipping line 8149: expected 2 fields, saw 3\\nSkipping line 8151: expected 2 fields, saw 3\\nSkipping line 8161: expected 2 fields, saw 3\\nSkipping line 8165: expected 2 fields, saw 3\\nSkipping line 8168: expected 2 fields, saw 3\\nSkipping line 8170: expected 2 fields, saw 3\\nSkipping line 8172: expected 2 fields, saw 3\\nSkipping line 8187: expected 2 fields, saw 3\\nSkipping line 8196: expected 2 fields, saw 3\\nSkipping line 8199: expected 2 fields, saw 4\\nSkipping line 8201: expected 2 fields, saw 3\\nSkipping line 8209: expected 2 fields, saw 4\\nSkipping line 8211: expected 2 fields, saw 3\\nSkipping line 8216: expected 2 fields, saw 3\\nSkipping line 8225: expected 2 fields, saw 3\\nSkipping line 8227: expected 2 fields, saw 3\\nSkipping line 8228: expected 2 fields, saw 3\\nSkipping line 8233: expected 2 fields, saw 4\\nSkipping line 8239: expected 2 fields, saw 3\\nSkipping line 8246: expected 2 fields, saw 3\\nSkipping line 8248: expected 2 fields, saw 4\\nSkipping line 8257: expected 2 fields, saw 3\\nSkipping line 8263: expected 2 fields, saw 3\\nSkipping line 8264: expected 2 fields, saw 3\\nSkipping line 8266: expected 2 fields, saw 8\\nSkipping line 8277: expected 2 fields, saw 3\\nSkipping line 8284: expected 2 fields, saw 3\\nSkipping line 8287: expected 2 fields, saw 3\\nSkipping line 8288: expected 2 fields, saw 3\\nSkipping line 8301: expected 2 fields, saw 3\\nSkipping line 8307: expected 2 fields, saw 4\\nSkipping line 8314: expected 2 fields, saw 3\\nSkipping line 8316: expected 2 fields, saw 5\\nSkipping line 8323: expected 2 fields, saw 4\\nSkipping line 8333: expected 2 fields, saw 4\\nSkipping line 8346: expected 2 fields, saw 3\\nSkipping line 8352: expected 2 fields, saw 3\\nSkipping line 8357: expected 2 fields, saw 3\\nSkipping line 8359: expected 2 fields, saw 3\\nSkipping line 8372: expected 2 fields, saw 3\\nSkipping line 8375: expected 2 fields, saw 3\\nSkipping line 8376: expected 2 fields, saw 3\\nSkipping line 8389: expected 2 fields, saw 5\\nSkipping line 8391: expected 2 fields, saw 4\\nSkipping line 8394: expected 2 fields, saw 3\\nSkipping line 8401: expected 2 fields, saw 3\\nSkipping line 8409: expected 2 fields, saw 4\\nSkipping line 8414: expected 2 fields, saw 3\\nSkipping line 8426: expected 2 fields, saw 3\\nSkipping line 8438: expected 2 fields, saw 3\\nSkipping line 8440: expected 2 fields, saw 3\\nSkipping line 8443: expected 2 fields, saw 4\\nSkipping line 8444: expected 2 fields, saw 3\\nSkipping line 8446: expected 2 fields, saw 3\\nSkipping line 8453: expected 2 fields, saw 4\\nSkipping line 8462: expected 2 fields, saw 3\\nSkipping line 8485: expected 2 fields, saw 3\\nSkipping line 8490: expected 2 fields, saw 3\\nSkipping line 8491: expected 2 fields, saw 3\\nSkipping line 8499: expected 2 fields, saw 3\\nSkipping line 8500: expected 2 fields, saw 3\\nSkipping line 8526: expected 2 fields, saw 3\\nSkipping line 8529: expected 2 fields, saw 5\\nSkipping line 8531: expected 2 fields, saw 3\\nSkipping line 8540: expected 2 fields, saw 5\\nSkipping line 8548: expected 2 fields, saw 4\\nSkipping line 8554: expected 2 fields, saw 3\\nSkipping line 8567: expected 2 fields, saw 3\\nSkipping line 8574: expected 2 fields, saw 3\\nSkipping line 8581: expected 2 fields, saw 3\\nSkipping line 8588: expected 2 fields, saw 3\\nSkipping line 8591: expected 2 fields, saw 3\\nSkipping line 8606: expected 2 fields, saw 4\\nSkipping line 8610: expected 2 fields, saw 3\\nSkipping line 8612: expected 2 fields, saw 3\\nSkipping line 8644: expected 2 fields, saw 3\\nSkipping line 8647: expected 2 fields, saw 4\\nSkipping line 8660: expected 2 fields, saw 3\\nSkipping line 8661: expected 2 fields, saw 3\\nSkipping line 8666: expected 2 fields, saw 3\\nSkipping line 8671: expected 2 fields, saw 3\\nSkipping line 8672: expected 2 fields, saw 3\\nSkipping line 8677: expected 2 fields, saw 3\\nSkipping line 8690: expected 2 fields, saw 3\\nSkipping line 8692: expected 2 fields, saw 3\\nSkipping line 8702: expected 2 fields, saw 5\\nSkipping line 8704: expected 2 fields, saw 3\\nSkipping line 8710: expected 2 fields, saw 3\\nSkipping line 8714: expected 2 fields, saw 3\\nSkipping line 8716: expected 2 fields, saw 3\\nSkipping line 8722: expected 2 fields, saw 3\\nSkipping line 8736: expected 2 fields, saw 3\\nSkipping line 8740: expected 2 fields, saw 3\\nSkipping line 8745: expected 2 fields, saw 5\\nSkipping line 8754: expected 2 fields, saw 3\\nSkipping line 8762: expected 2 fields, saw 3\\nSkipping line 8767: expected 2 fields, saw 3\\nSkipping line 8774: expected 2 fields, saw 3\\nSkipping line 8788: expected 2 fields, saw 3\\nSkipping line 8796: expected 2 fields, saw 3\\nSkipping line 8801: expected 2 fields, saw 3\\nSkipping line 8804: expected 2 fields, saw 3\\nSkipping line 8814: expected 2 fields, saw 3\\nSkipping line 8828: expected 2 fields, saw 3\\nSkipping line 8835: expected 2 fields, saw 3\\nSkipping line 8836: expected 2 fields, saw 3\\nSkipping line 8840: expected 2 fields, saw 3\\nSkipping line 8856: expected 2 fields, saw 3\\nSkipping line 8862: expected 2 fields, saw 4\\nSkipping line 8865: expected 2 fields, saw 3\\nSkipping line 8866: expected 2 fields, saw 3\\nSkipping line 8886: expected 2 fields, saw 4\\nSkipping line 8889: expected 2 fields, saw 3\\nSkipping line 8892: expected 2 fields, saw 3\\nSkipping line 8912: expected 2 fields, saw 6\\nSkipping line 8913: expected 2 fields, saw 7\\nSkipping line 8927: expected 2 fields, saw 3\\nSkipping line 8929: expected 2 fields, saw 3\\nSkipping line 8931: expected 2 fields, saw 3\\nSkipping line 8941: expected 2 fields, saw 4\\nSkipping line 8956: expected 2 fields, saw 3\\nSkipping line 8960: expected 2 fields, saw 3\\nSkipping line 8963: expected 2 fields, saw 3\\nSkipping line 8966: expected 2 fields, saw 3\\nSkipping line 8969: expected 2 fields, saw 3\\nSkipping line 8972: expected 2 fields, saw 3\\nSkipping line 8979: expected 2 fields, saw 4\\nSkipping line 8987: expected 2 fields, saw 3\\nSkipping line 8993: expected 2 fields, saw 10\\nSkipping line 9000: expected 2 fields, saw 3\\nSkipping line 9020: expected 2 fields, saw 3\\nSkipping line 9026: expected 2 fields, saw 3\\nSkipping line 9038: expected 2 fields, saw 3\\nSkipping line 9043: expected 2 fields, saw 3\\nSkipping line 9062: expected 2 fields, saw 3\\nSkipping line 9070: expected 2 fields, saw 3\\nSkipping line 9075: expected 2 fields, saw 3\\nSkipping line 9076: expected 2 fields, saw 3\\nSkipping line 9089: expected 2 fields, saw 3\\nSkipping line 9091: expected 2 fields, saw 4\\nSkipping line 9092: expected 2 fields, saw 3\\nSkipping line 9101: expected 2 fields, saw 3\\nSkipping line 9102: expected 2 fields, saw 3\\nSkipping line 9107: expected 2 fields, saw 4\\nSkipping line 9108: expected 2 fields, saw 3\\nSkipping line 9116: expected 2 fields, saw 3\\nSkipping line 9124: expected 2 fields, saw 3\\nSkipping line 9130: expected 2 fields, saw 3\\nSkipping line 9132: expected 2 fields, saw 3\\nSkipping line 9151: expected 2 fields, saw 3\\nSkipping line 9152: expected 2 fields, saw 3\\nSkipping line 9155: expected 2 fields, saw 3\\nSkipping line 9156: expected 2 fields, saw 3\\nSkipping line 9157: expected 2 fields, saw 4\\nSkipping line 9160: expected 2 fields, saw 3\\nSkipping line 9163: expected 2 fields, saw 8\\nSkipping line 9170: expected 2 fields, saw 3\\nSkipping line 9175: expected 2 fields, saw 3\\nSkipping line 9176: expected 2 fields, saw 3\\nSkipping line 9178: expected 2 fields, saw 3\\nSkipping line 9182: expected 2 fields, saw 4\\nSkipping line 9183: expected 2 fields, saw 5\\nSkipping line 9194: expected 2 fields, saw 4\\nSkipping line 9211: expected 2 fields, saw 3\\nSkipping line 9224: expected 2 fields, saw 3\\nSkipping line 9243: expected 2 fields, saw 3\\nSkipping line 9247: expected 2 fields, saw 4\\nSkipping line 9249: expected 2 fields, saw 5\\nSkipping line 9256: expected 2 fields, saw 3\\nSkipping line 9257: expected 2 fields, saw 3\\nSkipping line 9278: expected 2 fields, saw 3\\nSkipping line 9287: expected 2 fields, saw 3\\nSkipping line 9295: expected 2 fields, saw 3\\nSkipping line 9300: expected 2 fields, saw 3\\nSkipping line 9312: expected 2 fields, saw 3\\nSkipping line 9320: expected 2 fields, saw 3\\nSkipping line 9325: expected 2 fields, saw 3\\nSkipping line 9331: expected 2 fields, saw 4\\nSkipping line 9349: expected 2 fields, saw 3\\nSkipping line 9358: expected 2 fields, saw 3\\nSkipping line 9374: expected 2 fields, saw 3\\nSkipping line 9378: expected 2 fields, saw 3\\nSkipping line 9379: expected 2 fields, saw 3\\nSkipping line 9388: expected 2 fields, saw 3\\nSkipping line 9389: expected 2 fields, saw 3\\nSkipping line 9392: expected 2 fields, saw 3\\nSkipping line 9397: expected 2 fields, saw 3\\nSkipping line 9398: expected 2 fields, saw 3\\nSkipping line 9400: expected 2 fields, saw 4\\nSkipping line 9410: expected 2 fields, saw 6\\nSkipping line 9421: expected 2 fields, saw 7\\nSkipping line 9423: expected 2 fields, saw 3\\nSkipping line 9431: expected 2 fields, saw 3\\nSkipping line 9439: expected 2 fields, saw 3\\nSkipping line 9441: expected 2 fields, saw 3\\nSkipping line 9458: expected 2 fields, saw 3\\nSkipping line 9467: expected 2 fields, saw 3\\nSkipping line 9477: expected 2 fields, saw 3\\nSkipping line 9499: expected 2 fields, saw 3\\nSkipping line 9504: expected 2 fields, saw 3\\nSkipping line 9505: expected 2 fields, saw 4\\nSkipping line 9529: expected 2 fields, saw 3\\nSkipping line 9531: expected 2 fields, saw 4\\nSkipping line 9535: expected 2 fields, saw 3\\nSkipping line 9536: expected 2 fields, saw 4\\nSkipping line 9541: expected 2 fields, saw 5\\nSkipping line 9544: expected 2 fields, saw 3\\nSkipping line 9550: expected 2 fields, saw 4\\nSkipping line 9553: expected 2 fields, saw 3\\nSkipping line 9555: expected 2 fields, saw 5\\nSkipping line 9566: expected 2 fields, saw 4\\nSkipping line 9600: expected 2 fields, saw 3\\nSkipping line 9611: expected 2 fields, saw 3\\nSkipping line 9615: expected 2 fields, saw 3\\nSkipping line 9627: expected 2 fields, saw 3\\nSkipping line 9631: expected 2 fields, saw 4\\nSkipping line 9636: expected 2 fields, saw 3\\nSkipping line 9651: expected 2 fields, saw 4\\nSkipping line 9652: expected 2 fields, saw 3\\nSkipping line 9654: expected 2 fields, saw 3\\nSkipping line 9667: expected 2 fields, saw 3\\nSkipping line 9669: expected 2 fields, saw 3\\nSkipping line 9673: expected 2 fields, saw 3\\nSkipping line 9680: expected 2 fields, saw 3\\nSkipping line 9691: expected 2 fields, saw 3\\nSkipping line 9696: expected 2 fields, saw 3\\nSkipping line 9710: expected 2 fields, saw 3\\nSkipping line 9715: expected 2 fields, saw 3\\nSkipping line 9722: expected 2 fields, saw 3\\nSkipping line 9726: expected 2 fields, saw 3\\nSkipping line 9733: expected 2 fields, saw 3\\nSkipping line 9738: expected 2 fields, saw 4\\nSkipping line 9743: expected 2 fields, saw 3\\nSkipping line 9757: expected 2 fields, saw 6\\nSkipping line 9770: expected 2 fields, saw 3\\nSkipping line 9773: expected 2 fields, saw 3\\nSkipping line 9783: expected 2 fields, saw 3\\nSkipping line 9806: expected 2 fields, saw 4\\nSkipping line 9807: expected 2 fields, saw 3\\nSkipping line 9813: expected 2 fields, saw 3\\nSkipping line 9828: expected 2 fields, saw 4\\nSkipping line 9839: expected 2 fields, saw 3\\nSkipping line 9840: expected 2 fields, saw 4\\nSkipping line 9841: expected 2 fields, saw 4\\nSkipping line 9843: expected 2 fields, saw 3\\nSkipping line 9844: expected 2 fields, saw 3\\nSkipping line 9859: expected 2 fields, saw 4\\nSkipping line 9863: expected 2 fields, saw 4\\nSkipping line 9872: expected 2 fields, saw 3\\nSkipping line 9873: expected 2 fields, saw 3\\nSkipping line 9875: expected 2 fields, saw 3\\nSkipping line 9879: expected 2 fields, saw 3\\nSkipping line 9880: expected 2 fields, saw 3\\nSkipping line 9935: expected 2 fields, saw 6\\nSkipping line 9938: expected 2 fields, saw 3\\nSkipping line 9939: expected 2 fields, saw 3\\nSkipping line 9940: expected 2 fields, saw 3\\nSkipping line 9942: expected 2 fields, saw 3\\nSkipping line 9946: expected 2 fields, saw 4\\nSkipping line 9962: expected 2 fields, saw 5\\nSkipping line 9968: expected 2 fields, saw 3\\nSkipping line 9978: expected 2 fields, saw 3\\nSkipping line 9988: expected 2 fields, saw 3\\nSkipping line 9993: expected 2 fields, saw 3\\nSkipping line 10003: expected 2 fields, saw 3\\nSkipping line 10008: expected 2 fields, saw 3\\nSkipping line 10010: expected 2 fields, saw 3\\nSkipping line 10017: expected 2 fields, saw 3\\nSkipping line 10018: expected 2 fields, saw 3\\nSkipping line 10029: expected 2 fields, saw 3\\nSkipping line 10038: expected 2 fields, saw 3\\nSkipping line 10040: expected 2 fields, saw 3\\nSkipping line 10041: expected 2 fields, saw 6\\nSkipping line 10046: expected 2 fields, saw 3\\nSkipping line 10047: expected 2 fields, saw 5\\nSkipping line 10052: expected 2 fields, saw 4\\nSkipping line 10054: expected 2 fields, saw 3\\nSkipping line 10055: expected 2 fields, saw 3\\nSkipping line 10059: expected 2 fields, saw 3\\nSkipping line 10061: expected 2 fields, saw 3\\nSkipping line 10076: expected 2 fields, saw 3\\nSkipping line 10087: expected 2 fields, saw 3\\nSkipping line 10088: expected 2 fields, saw 3\\nSkipping line 10092: expected 2 fields, saw 3\\nSkipping line 10095: expected 2 fields, saw 3\\nSkipping line 10122: expected 2 fields, saw 3\\nSkipping line 10126: expected 2 fields, saw 3\\nSkipping line 10136: expected 2 fields, saw 3\\nSkipping line 10146: expected 2 fields, saw 3\\nSkipping line 10167: expected 2 fields, saw 3\\nSkipping line 10168: expected 2 fields, saw 3\\nSkipping line 10172: expected 2 fields, saw 3\\nSkipping line 10181: expected 2 fields, saw 3\\nSkipping line 10189: expected 2 fields, saw 3\\nSkipping line 10192: expected 2 fields, saw 4\\nSkipping line 10194: expected 2 fields, saw 3\\nSkipping line 10196: expected 2 fields, saw 3\\nSkipping line 10200: expected 2 fields, saw 3\\nSkipping line 10207: expected 2 fields, saw 3\\nSkipping line 10213: expected 2 fields, saw 3\\nSkipping line 10219: expected 2 fields, saw 3\\nSkipping line 10222: expected 2 fields, saw 4\\nSkipping line 10223: expected 2 fields, saw 3\\nSkipping line 10229: expected 2 fields, saw 4\\nSkipping line 10231: expected 2 fields, saw 5\\nSkipping line 10232: expected 2 fields, saw 3\\nSkipping line 10234: expected 2 fields, saw 3\\nSkipping line 10254: expected 2 fields, saw 3\\nSkipping line 10256: expected 2 fields, saw 3\\nSkipping line 10261: expected 2 fields, saw 4\\nSkipping line 10262: expected 2 fields, saw 3\\nSkipping line 10263: expected 2 fields, saw 3\\nSkipping line 10269: expected 2 fields, saw 3\\nSkipping line 10273: expected 2 fields, saw 4\\nSkipping line 10276: expected 2 fields, saw 3\\nSkipping line 10284: expected 2 fields, saw 3\\nSkipping line 10287: expected 2 fields, saw 3\\nSkipping line 10288: expected 2 fields, saw 3\\nSkipping line 10294: expected 2 fields, saw 3\\nSkipping line 10297: expected 2 fields, saw 3\\nSkipping line 10299: expected 2 fields, saw 3\\nSkipping line 10305: expected 2 fields, saw 3\\nSkipping line 10307: expected 2 fields, saw 3\\nSkipping line 10309: expected 2 fields, saw 3\\nSkipping line 10322: expected 2 fields, saw 3\\nSkipping line 10327: expected 2 fields, saw 3\\nSkipping line 10328: expected 2 fields, saw 3\\nSkipping line 10334: expected 2 fields, saw 3\\nSkipping line 10351: expected 2 fields, saw 3\\nSkipping line 10353: expected 2 fields, saw 3\\nSkipping line 10356: expected 2 fields, saw 3\\nSkipping line 10360: expected 2 fields, saw 3\\nSkipping line 10365: expected 2 fields, saw 3\\nSkipping line 10374: expected 2 fields, saw 3\\nSkipping line 10376: expected 2 fields, saw 3\\nSkipping line 10379: expected 2 fields, saw 3\\nSkipping line 10386: expected 2 fields, saw 4\\nSkipping line 10389: expected 2 fields, saw 3\\nSkipping line 10390: expected 2 fields, saw 3\\nSkipping line 10391: expected 2 fields, saw 3\\nSkipping line 10399: expected 2 fields, saw 3\\nSkipping line 10405: expected 2 fields, saw 3\\nSkipping line 10427: expected 2 fields, saw 3\\nSkipping line 10446: expected 2 fields, saw 3\\nSkipping line 10449: expected 2 fields, saw 3\\nSkipping line 10463: expected 2 fields, saw 3\\nSkipping line 10464: expected 2 fields, saw 3\\nSkipping line 10473: expected 2 fields, saw 3\\nSkipping line 10476: expected 2 fields, saw 3\\nSkipping line 10481: expected 2 fields, saw 3\\nSkipping line 10492: expected 2 fields, saw 3\\nSkipping line 10514: expected 2 fields, saw 3\\nSkipping line 10520: expected 2 fields, saw 4\\nSkipping line 10530: expected 2 fields, saw 3\\nSkipping line 10544: expected 2 fields, saw 3\\nSkipping line 10549: expected 2 fields, saw 4\\nSkipping line 10552: expected 2 fields, saw 3\\nSkipping line 10578: expected 2 fields, saw 4\\nSkipping line 10583: expected 2 fields, saw 3\\nSkipping line 10589: expected 2 fields, saw 3\\nSkipping line 10593: expected 2 fields, saw 4\\nSkipping line 10605: expected 2 fields, saw 3\\nSkipping line 10608: expected 2 fields, saw 3\\nSkipping line 10609: expected 2 fields, saw 4\\nSkipping line 10619: expected 2 fields, saw 3\\nSkipping line 10622: expected 2 fields, saw 3\\nSkipping line 10626: expected 2 fields, saw 3\\nSkipping line 10644: expected 2 fields, saw 3\\nSkipping line 10660: expected 2 fields, saw 4\\nSkipping line 10664: expected 2 fields, saw 3\\nSkipping line 10683: expected 2 fields, saw 3\\nSkipping line 10693: expected 2 fields, saw 3\\nSkipping line 10706: expected 2 fields, saw 4\\nSkipping line 10708: expected 2 fields, saw 3\\nSkipping line 10711: expected 2 fields, saw 3\\nSkipping line 10722: expected 2 fields, saw 3\\nSkipping line 10726: expected 2 fields, saw 3\\nSkipping line 10728: expected 2 fields, saw 4\\nSkipping line 10734: expected 2 fields, saw 3\\nSkipping line 10741: expected 2 fields, saw 3\\nSkipping line 10751: expected 2 fields, saw 3\\nSkipping line 10753: expected 2 fields, saw 3\\nSkipping line 10758: expected 2 fields, saw 3\\nSkipping line 10760: expected 2 fields, saw 9\\nSkipping line 10772: expected 2 fields, saw 3\\nSkipping line 10780: expected 2 fields, saw 3\\nSkipping line 10787: expected 2 fields, saw 3\\nSkipping line 10789: expected 2 fields, saw 3\\nSkipping line 10801: expected 2 fields, saw 4\\nSkipping line 10860: expected 2 fields, saw 3\\nSkipping line 10878: expected 2 fields, saw 3\\nSkipping line 10882: expected 2 fields, saw 3\\nSkipping line 10888: expected 2 fields, saw 3\\nSkipping line 10890: expected 2 fields, saw 5\\nSkipping line 10898: expected 2 fields, saw 3\\nSkipping line 10899: expected 2 fields, saw 3\\nSkipping line 10905: expected 2 fields, saw 5\\nSkipping line 10911: expected 2 fields, saw 4\\nSkipping line 10918: expected 2 fields, saw 3\\nSkipping line 10926: expected 2 fields, saw 3\\nSkipping line 10929: expected 2 fields, saw 3\\nSkipping line 10933: expected 2 fields, saw 3\\nSkipping line 10946: expected 2 fields, saw 11\\nSkipping line 10971: expected 2 fields, saw 3\\nSkipping line 10972: expected 2 fields, saw 3\\nSkipping line 10978: expected 2 fields, saw 3\\nSkipping line 10985: expected 2 fields, saw 5\\nSkipping line 11002: expected 2 fields, saw 3\\nSkipping line 11014: expected 2 fields, saw 3\\nSkipping line 11024: expected 2 fields, saw 3\\nSkipping line 11028: expected 2 fields, saw 3\\nSkipping line 11031: expected 2 fields, saw 3\\nSkipping line 11035: expected 2 fields, saw 5\\nSkipping line 11036: expected 2 fields, saw 3\\nSkipping line 11043: expected 2 fields, saw 3\\nSkipping line 11053: expected 2 fields, saw 3\\nSkipping line 11069: expected 2 fields, saw 3\\nSkipping line 11078: expected 2 fields, saw 3\\nSkipping line 11090: expected 2 fields, saw 3\\nSkipping line 11092: expected 2 fields, saw 3\\nSkipping line 11096: expected 2 fields, saw 3\\nSkipping line 11097: expected 2 fields, saw 3\\nSkipping line 11099: expected 2 fields, saw 3\\nSkipping line 11106: expected 2 fields, saw 4\\nSkipping line 11107: expected 2 fields, saw 3\\nSkipping line 11111: expected 2 fields, saw 3\\nSkipping line 11115: expected 2 fields, saw 4\\nSkipping line 11124: expected 2 fields, saw 5\\nSkipping line 11133: expected 2 fields, saw 3\\nSkipping line 11137: expected 2 fields, saw 3\\nSkipping line 11142: expected 2 fields, saw 3\\nSkipping line 11152: expected 2 fields, saw 3\\nSkipping line 11161: expected 2 fields, saw 3\\nSkipping line 11164: expected 2 fields, saw 3\\nSkipping line 11165: expected 2 fields, saw 3\\nSkipping line 11169: expected 2 fields, saw 3\\nSkipping line 11171: expected 2 fields, saw 3\\nSkipping line 11172: expected 2 fields, saw 3\\nSkipping line 11173: expected 2 fields, saw 4\\nSkipping line 11179: expected 2 fields, saw 3\\nSkipping line 11184: expected 2 fields, saw 3\\nSkipping line 11189: expected 2 fields, saw 3\\nSkipping line 11195: expected 2 fields, saw 3\\nSkipping line 11199: expected 2 fields, saw 4\\nSkipping line 11205: expected 2 fields, saw 4\\nSkipping line 11210: expected 2 fields, saw 4\\nSkipping line 11213: expected 2 fields, saw 3\\nSkipping line 11215: expected 2 fields, saw 3\\nSkipping line 11219: expected 2 fields, saw 5\\nSkipping line 11220: expected 2 fields, saw 3\\nSkipping line 11225: expected 2 fields, saw 3\\nSkipping line 11230: expected 2 fields, saw 3\\nSkipping line 11233: expected 2 fields, saw 4\\nSkipping line 11234: expected 2 fields, saw 3\\nSkipping line 11250: expected 2 fields, saw 3\\nSkipping line 11257: expected 2 fields, saw 3\\nSkipping line 11266: expected 2 fields, saw 3\\nSkipping line 11279: expected 2 fields, saw 4\\nSkipping line 11284: expected 2 fields, saw 3\\nSkipping line 11285: expected 2 fields, saw 3\\nSkipping line 11291: expected 2 fields, saw 4\\nSkipping line 11294: expected 2 fields, saw 3\\nSkipping line 11310: expected 2 fields, saw 3\\nSkipping line 11313: expected 2 fields, saw 4\\nSkipping line 11320: expected 2 fields, saw 4\\nSkipping line 11323: expected 2 fields, saw 4\\nSkipping line 11327: expected 2 fields, saw 3\\nSkipping line 11328: expected 2 fields, saw 3\\nSkipping line 11336: expected 2 fields, saw 3\\nSkipping line 11339: expected 2 fields, saw 3\\nSkipping line 11341: expected 2 fields, saw 3\\nSkipping line 11342: expected 2 fields, saw 3\\nSkipping line 11343: expected 2 fields, saw 5\\nSkipping line 11346: expected 2 fields, saw 6\\nSkipping line 11351: expected 2 fields, saw 3\\nSkipping line 11353: expected 2 fields, saw 3\\nSkipping line 11371: expected 2 fields, saw 3\\nSkipping line 11387: expected 2 fields, saw 3\\nSkipping line 11391: expected 2 fields, saw 3\\nSkipping line 11393: expected 2 fields, saw 3\\nSkipping line 11396: expected 2 fields, saw 3\\nSkipping line 11408: expected 2 fields, saw 5\\nSkipping line 11409: expected 2 fields, saw 3\\nSkipping line 11420: expected 2 fields, saw 3\\nSkipping line 11421: expected 2 fields, saw 4\\nSkipping line 11422: expected 2 fields, saw 3\\nSkipping line 11423: expected 2 fields, saw 3\\nSkipping line 11434: expected 2 fields, saw 4\\nSkipping line 11436: expected 2 fields, saw 3\\nSkipping line 11437: expected 2 fields, saw 4\\nSkipping line 11452: expected 2 fields, saw 3\\nSkipping line 11454: expected 2 fields, saw 4\\nSkipping line 11457: expected 2 fields, saw 3\\nSkipping line 11469: expected 2 fields, saw 3\\nSkipping line 11474: expected 2 fields, saw 3\\nSkipping line 11476: expected 2 fields, saw 3\\nSkipping line 11483: expected 2 fields, saw 3\\nSkipping line 11485: expected 2 fields, saw 3\\nSkipping line 11490: expected 2 fields, saw 4\\nSkipping line 11505: expected 2 fields, saw 3\\nSkipping line 11519: expected 2 fields, saw 4\\nSkipping line 11537: expected 2 fields, saw 4\\nSkipping line 11538: expected 2 fields, saw 3\\nSkipping line 11542: expected 2 fields, saw 3\\nSkipping line 11543: expected 2 fields, saw 3\\nSkipping line 11544: expected 2 fields, saw 3\\nSkipping line 11548: expected 2 fields, saw 3\\nSkipping line 11553: expected 2 fields, saw 4\\nSkipping line 11566: expected 2 fields, saw 3\\nSkipping line 11577: expected 2 fields, saw 8\\nSkipping line 11586: expected 2 fields, saw 3\\nSkipping line 11587: expected 2 fields, saw 3\\nSkipping line 11590: expected 2 fields, saw 3\\nSkipping line 11604: expected 2 fields, saw 4\\nSkipping line 11608: expected 2 fields, saw 4\\nSkipping line 11610: expected 2 fields, saw 3\\nSkipping line 11628: expected 2 fields, saw 3\\nSkipping line 11638: expected 2 fields, saw 3\\nSkipping line 11646: expected 2 fields, saw 4\\nSkipping line 11653: expected 2 fields, saw 3\\nSkipping line 11655: expected 2 fields, saw 3\\nSkipping line 11671: expected 2 fields, saw 4\\nSkipping line 11674: expected 2 fields, saw 3\\nSkipping line 11683: expected 2 fields, saw 3\\nSkipping line 11685: expected 2 fields, saw 6\\nSkipping line 11700: expected 2 fields, saw 3\\nSkipping line 11704: expected 2 fields, saw 3\\nSkipping line 11705: expected 2 fields, saw 3\\nSkipping line 11706: expected 2 fields, saw 3\\nSkipping line 11721: expected 2 fields, saw 3\\nSkipping line 11723: expected 2 fields, saw 4\\nSkipping line 11726: expected 2 fields, saw 3\\nSkipping line 11737: expected 2 fields, saw 4\\nSkipping line 11749: expected 2 fields, saw 3\\nSkipping line 11752: expected 2 fields, saw 3\\nSkipping line 11757: expected 2 fields, saw 7\\nSkipping line 11758: expected 2 fields, saw 3\\nSkipping line 11764: expected 2 fields, saw 4\\nSkipping line 11769: expected 2 fields, saw 3\\nSkipping line 11773: expected 2 fields, saw 3\\nSkipping line 11776: expected 2 fields, saw 3\\nSkipping line 11788: expected 2 fields, saw 3\\nSkipping line 11797: expected 2 fields, saw 3\\nSkipping line 11809: expected 2 fields, saw 3\\nSkipping line 11811: expected 2 fields, saw 3\\nSkipping line 11823: expected 2 fields, saw 4\\nSkipping line 11825: expected 2 fields, saw 3\\nSkipping line 11835: expected 2 fields, saw 3\\nSkipping line 11843: expected 2 fields, saw 3\\nSkipping line 11854: expected 2 fields, saw 7\\nSkipping line 11860: expected 2 fields, saw 4\\nSkipping line 11864: expected 2 fields, saw 3\\nSkipping line 11867: expected 2 fields, saw 3\\nSkipping line 11872: expected 2 fields, saw 3\\nSkipping line 11881: expected 2 fields, saw 3\\nSkipping line 11888: expected 2 fields, saw 4\\nSkipping line 11897: expected 2 fields, saw 3\\nSkipping line 11908: expected 2 fields, saw 3\\nSkipping line 11914: expected 2 fields, saw 4\\nSkipping line 11919: expected 2 fields, saw 3\\nSkipping line 11930: expected 2 fields, saw 3\\nSkipping line 11945: expected 2 fields, saw 3\\nSkipping line 11948: expected 2 fields, saw 5\\nSkipping line 11952: expected 2 fields, saw 3\\nSkipping line 11959: expected 2 fields, saw 3\\nSkipping line 11960: expected 2 fields, saw 3\\nSkipping line 11965: expected 2 fields, saw 3\\nSkipping line 11978: expected 2 fields, saw 3\\nSkipping line 11990: expected 2 fields, saw 7\\nSkipping line 11993: expected 2 fields, saw 3\\nSkipping line 12013: expected 2 fields, saw 3\\nSkipping line 12017: expected 2 fields, saw 7\\nSkipping line 12021: expected 2 fields, saw 4\\nSkipping line 12032: expected 2 fields, saw 3\\nSkipping line 12033: expected 2 fields, saw 3\\nSkipping line 12038: expected 2 fields, saw 3\\nSkipping line 12042: expected 2 fields, saw 3\\nSkipping line 12051: expected 2 fields, saw 4\\nSkipping line 12059: expected 2 fields, saw 3\\nSkipping line 12061: expected 2 fields, saw 3\\nSkipping line 12064: expected 2 fields, saw 3\\nSkipping line 12065: expected 2 fields, saw 3\\nSkipping line 12074: expected 2 fields, saw 4\\nSkipping line 12100: expected 2 fields, saw 5\\nSkipping line 12107: expected 2 fields, saw 3\\nSkipping line 12117: expected 2 fields, saw 3\\nSkipping line 12128: expected 2 fields, saw 4\\nSkipping line 12133: expected 2 fields, saw 3\\nSkipping line 12144: expected 2 fields, saw 3\\nSkipping line 12150: expected 2 fields, saw 4\\nSkipping line 12161: expected 2 fields, saw 3\\nSkipping line 12162: expected 2 fields, saw 3\\nSkipping line 12171: expected 2 fields, saw 3\\nSkipping line 12180: expected 2 fields, saw 3\\nSkipping line 12189: expected 2 fields, saw 3\\nSkipping line 12193: expected 2 fields, saw 4\\nSkipping line 12195: expected 2 fields, saw 3\\nSkipping line 12199: expected 2 fields, saw 3\\nSkipping line 12205: expected 2 fields, saw 3\\nSkipping line 12211: expected 2 fields, saw 3\\nSkipping line 12221: expected 2 fields, saw 4\\nSkipping line 12232: expected 2 fields, saw 4\\nSkipping line 12242: expected 2 fields, saw 4\\nSkipping line 12260: expected 2 fields, saw 3\\nSkipping line 12267: expected 2 fields, saw 3\\nSkipping line 12271: expected 2 fields, saw 3\\nSkipping line 12291: expected 2 fields, saw 3\\nSkipping line 12293: expected 2 fields, saw 3\\nSkipping line 12294: expected 2 fields, saw 4\\nSkipping line 12298: expected 2 fields, saw 5\\nSkipping line 12307: expected 2 fields, saw 3\\nSkipping line 12330: expected 2 fields, saw 4\\nSkipping line 12339: expected 2 fields, saw 3\\nSkipping line 12341: expected 2 fields, saw 3\\nSkipping line 12353: expected 2 fields, saw 3\\nSkipping line 12360: expected 2 fields, saw 5\\nSkipping line 12381: expected 2 fields, saw 3\\nSkipping line 12389: expected 2 fields, saw 3\\nSkipping line 12396: expected 2 fields, saw 3\\nSkipping line 12403: expected 2 fields, saw 3\\nSkipping line 12404: expected 2 fields, saw 3\\nSkipping line 12414: expected 2 fields, saw 4\\nSkipping line 12438: expected 2 fields, saw 4\\nSkipping line 12439: expected 2 fields, saw 3\\nSkipping line 12440: expected 2 fields, saw 3\\nSkipping line 12443: expected 2 fields, saw 3\\nSkipping line 12447: expected 2 fields, saw 3\\nSkipping line 12450: expected 2 fields, saw 3\\nSkipping line 12457: expected 2 fields, saw 3\\nSkipping line 12459: expected 2 fields, saw 5\\nSkipping line 12461: expected 2 fields, saw 3\\nSkipping line 12478: expected 2 fields, saw 4\\nSkipping line 12479: expected 2 fields, saw 3\\nSkipping line 12480: expected 2 fields, saw 3\\nSkipping line 12494: expected 2 fields, saw 4\\nSkipping line 12498: expected 2 fields, saw 3\\nSkipping line 12504: expected 2 fields, saw 3\\nSkipping line 12507: expected 2 fields, saw 3\\nSkipping line 12523: expected 2 fields, saw 4\\nSkipping line 12529: expected 2 fields, saw 4\\nSkipping line 12533: expected 2 fields, saw 3\\nSkipping line 12534: expected 2 fields, saw 4\\nSkipping line 12537: expected 2 fields, saw 5\\nSkipping line 12538: expected 2 fields, saw 3\\nSkipping line 12545: expected 2 fields, saw 4\\nSkipping line 12546: expected 2 fields, saw 6\\nSkipping line 12553: expected 2 fields, saw 4\\nSkipping line 12554: expected 2 fields, saw 3\\nSkipping line 12566: expected 2 fields, saw 4\\nSkipping line 12589: expected 2 fields, saw 3\\nSkipping line 12592: expected 2 fields, saw 4\\nSkipping line 12601: expected 2 fields, saw 3\\nSkipping line 12610: expected 2 fields, saw 3\\nSkipping line 12624: expected 2 fields, saw 3\\nSkipping line 12629: expected 2 fields, saw 3\\nSkipping line 12635: expected 2 fields, saw 3\\nSkipping line 12655: expected 2 fields, saw 3\\nSkipping line 12656: expected 2 fields, saw 3\\nSkipping line 12663: expected 2 fields, saw 3\\nSkipping line 12667: expected 2 fields, saw 5\\nSkipping line 12673: expected 2 fields, saw 3\\nSkipping line 12677: expected 2 fields, saw 3\\nSkipping line 12681: expected 2 fields, saw 3\\nSkipping line 12688: expected 2 fields, saw 3\\nSkipping line 12691: expected 2 fields, saw 3\\nSkipping line 12692: expected 2 fields, saw 3\\nSkipping line 12696: expected 2 fields, saw 3\\nSkipping line 12727: expected 2 fields, saw 3\\nSkipping line 12734: expected 2 fields, saw 3\\nSkipping line 12736: expected 2 fields, saw 4\\nSkipping line 12745: expected 2 fields, saw 3\\nSkipping line 12756: expected 2 fields, saw 3\\nSkipping line 12770: expected 2 fields, saw 5\\nSkipping line 12778: expected 2 fields, saw 3\\nSkipping line 12790: expected 2 fields, saw 3\\nSkipping line 12792: expected 2 fields, saw 4\\nSkipping line 12793: expected 2 fields, saw 3\\nSkipping line 12796: expected 2 fields, saw 3\\nSkipping line 12804: expected 2 fields, saw 3\\nSkipping line 12806: expected 2 fields, saw 3\\nSkipping line 12813: expected 2 fields, saw 5\\nSkipping line 12832: expected 2 fields, saw 5\\nSkipping line 12834: expected 2 fields, saw 3\\nSkipping line 12840: expected 2 fields, saw 3\\nSkipping line 12844: expected 2 fields, saw 4\\nSkipping line 12852: expected 2 fields, saw 3\\nSkipping line 12854: expected 2 fields, saw 3\\nSkipping line 12875: expected 2 fields, saw 3\\nSkipping line 12876: expected 2 fields, saw 3\\nSkipping line 12888: expected 2 fields, saw 3\\nSkipping line 12890: expected 2 fields, saw 3\\nSkipping line 12894: expected 2 fields, saw 3\\nSkipping line 12905: expected 2 fields, saw 7\\nSkipping line 12910: expected 2 fields, saw 3\\nSkipping line 12911: expected 2 fields, saw 3\\nSkipping line 12917: expected 2 fields, saw 3\\nSkipping line 12929: expected 2 fields, saw 3\\nSkipping line 12931: expected 2 fields, saw 4\\nSkipping line 12932: expected 2 fields, saw 3\\nSkipping line 12938: expected 2 fields, saw 3\\nSkipping line 12939: expected 2 fields, saw 3\\nSkipping line 12946: expected 2 fields, saw 3\\nSkipping line 12948: expected 2 fields, saw 3\\nSkipping line 12961: expected 2 fields, saw 3\\nSkipping line 12969: expected 2 fields, saw 3\\nSkipping line 12985: expected 2 fields, saw 3\\nSkipping line 12995: expected 2 fields, saw 5\\nSkipping line 12997: expected 2 fields, saw 3\\nSkipping line 13005: expected 2 fields, saw 3\\nSkipping line 13008: expected 2 fields, saw 3\\nSkipping line 13016: expected 2 fields, saw 3\\nSkipping line 13023: expected 2 fields, saw 3\\nSkipping line 13024: expected 2 fields, saw 3\\nSkipping line 13027: expected 2 fields, saw 4\\nSkipping line 13028: expected 2 fields, saw 3\\nSkipping line 13044: expected 2 fields, saw 3\\nSkipping line 13054: expected 2 fields, saw 3\\nSkipping line 13057: expected 2 fields, saw 3\\nSkipping line 13070: expected 2 fields, saw 3\\nSkipping line 13082: expected 2 fields, saw 3\\nSkipping line 13095: expected 2 fields, saw 3\\nSkipping line 13100: expected 2 fields, saw 6\\nSkipping line 13116: expected 2 fields, saw 3\\nSkipping line 13158: expected 2 fields, saw 3\\nSkipping line 13159: expected 2 fields, saw 3\\nSkipping line 13174: expected 2 fields, saw 12\\nSkipping line 13179: expected 2 fields, saw 3\\nSkipping line 13185: expected 2 fields, saw 3\\nSkipping line 13188: expected 2 fields, saw 3\\nSkipping line 13190: expected 2 fields, saw 3\\nSkipping line 13191: expected 2 fields, saw 3\\nSkipping line 13197: expected 2 fields, saw 3\\nSkipping line 13205: expected 2 fields, saw 3\\nSkipping line 13225: expected 2 fields, saw 3\\nSkipping line 13229: expected 2 fields, saw 4\\nSkipping line 13239: expected 2 fields, saw 3\\nSkipping line 13243: expected 2 fields, saw 3\\nSkipping line 13253: expected 2 fields, saw 3\\nSkipping line 13266: expected 2 fields, saw 3\\nSkipping line 13299: expected 2 fields, saw 4\\nSkipping line 13321: expected 2 fields, saw 4\\nSkipping line 13343: expected 2 fields, saw 3\\nSkipping line 13353: expected 2 fields, saw 3\\nSkipping line 13355: expected 2 fields, saw 3\\nSkipping line 13363: expected 2 fields, saw 3\\nSkipping line 13372: expected 2 fields, saw 3\\nSkipping line 13374: expected 2 fields, saw 3\\nSkipping line 13376: expected 2 fields, saw 3\\nSkipping line 13383: expected 2 fields, saw 4\\nSkipping line 13384: expected 2 fields, saw 4\\nSkipping line 13391: expected 2 fields, saw 3\\nSkipping line 13393: expected 2 fields, saw 3\\nSkipping line 13402: expected 2 fields, saw 3\\nSkipping line 13407: expected 2 fields, saw 3\\nSkipping line 13409: expected 2 fields, saw 3\\nSkipping line 13411: expected 2 fields, saw 3\\nSkipping line 13413: expected 2 fields, saw 4\\nSkipping line 13415: expected 2 fields, saw 6\\nSkipping line 13432: expected 2 fields, saw 4\\nSkipping line 13442: expected 2 fields, saw 3\\nSkipping line 13443: expected 2 fields, saw 3\\nSkipping line 13444: expected 2 fields, saw 3\\nSkipping line 13449: expected 2 fields, saw 4\\nSkipping line 13453: expected 2 fields, saw 3\\nSkipping line 13456: expected 2 fields, saw 3\\nSkipping line 13462: expected 2 fields, saw 3\\nSkipping line 13463: expected 2 fields, saw 3\\nSkipping line 13465: expected 2 fields, saw 3\\nSkipping line 13470: expected 2 fields, saw 3\\nSkipping line 13483: expected 2 fields, saw 3\\nSkipping line 13498: expected 2 fields, saw 4\\nSkipping line 13513: expected 2 fields, saw 3\\nSkipping line 13526: expected 2 fields, saw 3\\nSkipping line 13533: expected 2 fields, saw 4\\nSkipping line 13535: expected 2 fields, saw 3\\nSkipping line 13537: expected 2 fields, saw 3\\nSkipping line 13545: expected 2 fields, saw 3\\nSkipping line 13553: expected 2 fields, saw 3\\nSkipping line 13571: expected 2 fields, saw 3\\nSkipping line 13579: expected 2 fields, saw 4\\nSkipping line 13582: expected 2 fields, saw 3\\nSkipping line 13584: expected 2 fields, saw 3\\nSkipping line 13587: expected 2 fields, saw 3\\nSkipping line 13594: expected 2 fields, saw 4\\nSkipping line 13601: expected 2 fields, saw 3\\nSkipping line 13606: expected 2 fields, saw 3\\nSkipping line 13612: expected 2 fields, saw 3\\nSkipping line 13620: expected 2 fields, saw 3\\nSkipping line 13629: expected 2 fields, saw 3\\nSkipping line 13630: expected 2 fields, saw 3\\nSkipping line 13648: expected 2 fields, saw 3\\nSkipping line 13649: expected 2 fields, saw 3\\nSkipping line 13655: expected 2 fields, saw 4\\nSkipping line 13657: expected 2 fields, saw 6\\nSkipping line 13669: expected 2 fields, saw 3\\nSkipping line 13670: expected 2 fields, saw 3\\nSkipping line 13701: expected 2 fields, saw 3\\nSkipping line 13713: expected 2 fields, saw 3\\nSkipping line 13718: expected 2 fields, saw 4\\nSkipping line 13719: expected 2 fields, saw 4\\nSkipping line 13723: expected 2 fields, saw 4\\nSkipping line 13725: expected 2 fields, saw 3\\nSkipping line 13726: expected 2 fields, saw 3\\nSkipping line 13728: expected 2 fields, saw 3\\nSkipping line 13738: expected 2 fields, saw 3\\nSkipping line 13742: expected 2 fields, saw 3\\nSkipping line 13745: expected 2 fields, saw 3\\nSkipping line 13748: expected 2 fields, saw 3\\nSkipping line 13767: expected 2 fields, saw 3\\nSkipping line 13772: expected 2 fields, saw 3\\nSkipping line 13776: expected 2 fields, saw 3\\nSkipping line 13780: expected 2 fields, saw 3\\nSkipping line 13788: expected 2 fields, saw 3\\nSkipping line 13790: expected 2 fields, saw 3\\nSkipping line 13795: expected 2 fields, saw 7\\nSkipping line 13798: expected 2 fields, saw 3\\nSkipping line 13802: expected 2 fields, saw 3\\nSkipping line 13804: expected 2 fields, saw 3\\nSkipping line 13806: expected 2 fields, saw 3\\nSkipping line 13808: expected 2 fields, saw 3\\nSkipping line 13812: expected 2 fields, saw 3\\nSkipping line 13833: expected 2 fields, saw 3\\nSkipping line 13837: expected 2 fields, saw 3\\nSkipping line 13839: expected 2 fields, saw 3\\nSkipping line 13853: expected 2 fields, saw 3\\nSkipping line 13856: expected 2 fields, saw 3\\nSkipping line 13873: expected 2 fields, saw 3\\nSkipping line 13882: expected 2 fields, saw 4\\nSkipping line 13893: expected 2 fields, saw 3\\nSkipping line 13912: expected 2 fields, saw 4\\nSkipping line 13913: expected 2 fields, saw 3\\nSkipping line 13921: expected 2 fields, saw 3\\nSkipping line 13922: expected 2 fields, saw 3\\nSkipping line 13954: expected 2 fields, saw 3\\nSkipping line 13964: expected 2 fields, saw 3\\nSkipping line 13975: expected 2 fields, saw 3\\nSkipping line 14018: expected 2 fields, saw 3\\nSkipping line 14023: expected 2 fields, saw 3\\nSkipping line 14031: expected 2 fields, saw 3\\nSkipping line 14037: expected 2 fields, saw 3\\nSkipping line 14038: expected 2 fields, saw 3\\nSkipping line 14047: expected 2 fields, saw 3\\nSkipping line 14050: expected 2 fields, saw 3\\nSkipping line 14061: expected 2 fields, saw 3\\nSkipping line 14064: expected 2 fields, saw 3\\nSkipping line 14084: expected 2 fields, saw 3\\nSkipping line 14089: expected 2 fields, saw 3\\nSkipping line 14093: expected 2 fields, saw 4\\nSkipping line 14096: expected 2 fields, saw 5\\nSkipping line 14100: expected 2 fields, saw 3\\nSkipping line 14106: expected 2 fields, saw 3\\nSkipping line 14128: expected 2 fields, saw 3\\nSkipping line 14133: expected 2 fields, saw 3\\nSkipping line 14135: expected 2 fields, saw 3\\nSkipping line 14145: expected 2 fields, saw 3\\nSkipping line 14154: expected 2 fields, saw 3\\nSkipping line 14160: expected 2 fields, saw 3\\nSkipping line 14162: expected 2 fields, saw 4\\nSkipping line 14177: expected 2 fields, saw 3\\nSkipping line 14203: expected 2 fields, saw 3\\nSkipping line 14204: expected 2 fields, saw 3\\nSkipping line 14205: expected 2 fields, saw 3\\nSkipping line 14208: expected 2 fields, saw 4\\nSkipping line 14209: expected 2 fields, saw 3\\nSkipping line 14211: expected 2 fields, saw 3\\nSkipping line 14222: expected 2 fields, saw 5\\nSkipping line 14225: expected 2 fields, saw 6\\nSkipping line 14226: expected 2 fields, saw 3\\nSkipping line 14242: expected 2 fields, saw 3\\nSkipping line 14256: expected 2 fields, saw 3\\nSkipping line 14259: expected 2 fields, saw 4\\nSkipping line 14261: expected 2 fields, saw 3\\nSkipping line 14277: expected 2 fields, saw 3\\nSkipping line 14279: expected 2 fields, saw 4\\nSkipping line 14287: expected 2 fields, saw 3\\nSkipping line 14298: expected 2 fields, saw 4\\nSkipping line 14300: expected 2 fields, saw 3\\nSkipping line 14301: expected 2 fields, saw 3\\nSkipping line 14311: expected 2 fields, saw 3\\nSkipping line 14332: expected 2 fields, saw 3\\nSkipping line 14333: expected 2 fields, saw 3\\nSkipping line 14338: expected 2 fields, saw 5\\nSkipping line 14352: expected 2 fields, saw 4\\nSkipping line 14366: expected 2 fields, saw 3\\nSkipping line 14377: expected 2 fields, saw 3\\nSkipping line 14379: expected 2 fields, saw 3\\nSkipping line 14381: expected 2 fields, saw 3\\nSkipping line 14387: expected 2 fields, saw 3\\nSkipping line 14391: expected 2 fields, saw 5\\nSkipping line 14406: expected 2 fields, saw 3\\nSkipping line 14408: expected 2 fields, saw 5\\nSkipping line 14414: expected 2 fields, saw 3\\nSkipping line 14417: expected 2 fields, saw 4\\nSkipping line 14422: expected 2 fields, saw 3\\nSkipping line 14423: expected 2 fields, saw 3\\nSkipping line 14429: expected 2 fields, saw 3\\nSkipping line 14445: expected 2 fields, saw 3\\nSkipping line 14446: expected 2 fields, saw 3\\nSkipping line 14459: expected 2 fields, saw 3\\nSkipping line 14460: expected 2 fields, saw 3\\nSkipping line 14466: expected 2 fields, saw 3\\nSkipping line 14470: expected 2 fields, saw 3\\nSkipping line 14473: expected 2 fields, saw 3\\nSkipping line 14481: expected 2 fields, saw 3\\nSkipping line 14484: expected 2 fields, saw 3\\nSkipping line 14499: expected 2 fields, saw 3\\nSkipping line 14502: expected 2 fields, saw 3\\nSkipping line 14513: expected 2 fields, saw 3\\nSkipping line 14516: expected 2 fields, saw 3\\nSkipping line 14520: expected 2 fields, saw 3\\nSkipping line 14540: expected 2 fields, saw 3\\nSkipping line 14549: expected 2 fields, saw 3\\nSkipping line 14557: expected 2 fields, saw 3\\nSkipping line 14561: expected 2 fields, saw 3\\nSkipping line 14570: expected 2 fields, saw 4\\nSkipping line 14575: expected 2 fields, saw 3\\nSkipping line 14579: expected 2 fields, saw 3\\nSkipping line 14582: expected 2 fields, saw 3\\nSkipping line 14602: expected 2 fields, saw 3\\nSkipping line 14606: expected 2 fields, saw 3\\nSkipping line 14607: expected 2 fields, saw 3\\nSkipping line 14619: expected 2 fields, saw 3\\nSkipping line 14642: expected 2 fields, saw 3\\nSkipping line 14644: expected 2 fields, saw 3\\nSkipping line 14647: expected 2 fields, saw 3\\nSkipping line 14651: expected 2 fields, saw 4\\nSkipping line 14658: expected 2 fields, saw 3\\nSkipping line 14659: expected 2 fields, saw 3\\nSkipping line 14660: expected 2 fields, saw 3\\nSkipping line 14662: expected 2 fields, saw 3\\nSkipping line 14665: expected 2 fields, saw 3\\nSkipping line 14677: expected 2 fields, saw 3\\nSkipping line 14681: expected 2 fields, saw 4\\nSkipping line 14683: expected 2 fields, saw 3\\nSkipping line 14684: expected 2 fields, saw 3\\nSkipping line 14685: expected 2 fields, saw 3\\nSkipping line 14698: expected 2 fields, saw 3\\nSkipping line 14711: expected 2 fields, saw 3\\nSkipping line 14723: expected 2 fields, saw 3\\nSkipping line 14730: expected 2 fields, saw 3\\nSkipping line 14745: expected 2 fields, saw 3\\nSkipping line 14775: expected 2 fields, saw 4\\nSkipping line 14777: expected 2 fields, saw 3\\nSkipping line 14781: expected 2 fields, saw 5\\nSkipping line 14783: expected 2 fields, saw 3\\nSkipping line 14801: expected 2 fields, saw 3\\nSkipping line 14811: expected 2 fields, saw 3\\nSkipping line 14815: expected 2 fields, saw 4\\nSkipping line 14827: expected 2 fields, saw 3\\nSkipping line 14833: expected 2 fields, saw 3\\nSkipping line 14837: expected 2 fields, saw 4\\nSkipping line 14845: expected 2 fields, saw 3\\nSkipping line 14857: expected 2 fields, saw 4\\nSkipping line 14868: expected 2 fields, saw 3\\nSkipping line 14877: expected 2 fields, saw 3\\nSkipping line 14892: expected 2 fields, saw 3\\nSkipping line 14896: expected 2 fields, saw 4\\nSkipping line 14912: expected 2 fields, saw 3\\nSkipping line 14926: expected 2 fields, saw 3\\nSkipping line 14936: expected 2 fields, saw 5\\nSkipping line 14958: expected 2 fields, saw 4\\nSkipping line 14974: expected 2 fields, saw 3\\nSkipping line 14977: expected 2 fields, saw 4\\nSkipping line 14988: expected 2 fields, saw 3\\nSkipping line 14996: expected 2 fields, saw 5\\nSkipping line 15014: expected 2 fields, saw 3\\nSkipping line 15019: expected 2 fields, saw 3\\nSkipping line 15025: expected 2 fields, saw 3\\nSkipping line 15029: expected 2 fields, saw 3\\nSkipping line 15040: expected 2 fields, saw 3\\nSkipping line 15045: expected 2 fields, saw 4\\nSkipping line 15056: expected 2 fields, saw 5\\nSkipping line 15065: expected 2 fields, saw 3\\nSkipping line 15066: expected 2 fields, saw 3\\nSkipping line 15070: expected 2 fields, saw 3\\nSkipping line 15073: expected 2 fields, saw 4\\nSkipping line 15075: expected 2 fields, saw 5\\nSkipping line 15076: expected 2 fields, saw 3\\nSkipping line 15084: expected 2 fields, saw 3\\nSkipping line 15097: expected 2 fields, saw 3\\nSkipping line 15104: expected 2 fields, saw 3\\nSkipping line 15108: expected 2 fields, saw 3\\nSkipping line 15125: expected 2 fields, saw 4\\nSkipping line 15126: expected 2 fields, saw 3\\nSkipping line 15129: expected 2 fields, saw 3\\nSkipping line 15132: expected 2 fields, saw 4\\nSkipping line 15138: expected 2 fields, saw 4\\nSkipping line 15140: expected 2 fields, saw 3\\nSkipping line 15142: expected 2 fields, saw 3\\nSkipping line 15150: expected 2 fields, saw 3\\nSkipping line 15155: expected 2 fields, saw 3\\nSkipping line 15156: expected 2 fields, saw 3\\nSkipping line 15157: expected 2 fields, saw 3\\nSkipping line 15162: expected 2 fields, saw 3\\nSkipping line 15175: expected 2 fields, saw 3\\nSkipping line 15179: expected 2 fields, saw 6\\nSkipping line 15186: expected 2 fields, saw 3\\nSkipping line 15197: expected 2 fields, saw 8\\nSkipping line 15198: expected 2 fields, saw 6\\nSkipping line 15202: expected 2 fields, saw 3\\nSkipping line 15232: expected 2 fields, saw 3\\nSkipping line 15243: expected 2 fields, saw 3\\nSkipping line 15256: expected 2 fields, saw 3\\nSkipping line 15257: expected 2 fields, saw 3\\nSkipping line 15260: expected 2 fields, saw 4\\nSkipping line 15278: expected 2 fields, saw 4\\nSkipping line 15279: expected 2 fields, saw 3\\nSkipping line 15295: expected 2 fields, saw 3\\nSkipping line 15297: expected 2 fields, saw 3\\nSkipping line 15298: expected 2 fields, saw 3\\nSkipping line 15301: expected 2 fields, saw 3\\nSkipping line 15304: expected 2 fields, saw 3\\nSkipping line 15329: expected 2 fields, saw 6\\nSkipping line 15338: expected 2 fields, saw 4\\nSkipping line 15357: expected 2 fields, saw 3\\nSkipping line 15358: expected 2 fields, saw 8\\nSkipping line 15365: expected 2 fields, saw 4\\nSkipping line 15369: expected 2 fields, saw 3\\nSkipping line 15370: expected 2 fields, saw 3\\nSkipping line 15372: expected 2 fields, saw 3\\nSkipping line 15377: expected 2 fields, saw 3\\nSkipping line 15397: expected 2 fields, saw 3\\nSkipping line 15402: expected 2 fields, saw 3\\nSkipping line 15406: expected 2 fields, saw 3\\nSkipping line 15408: expected 2 fields, saw 3\\nSkipping line 15419: expected 2 fields, saw 4\\nSkipping line 15423: expected 2 fields, saw 3\\nSkipping line 15434: expected 2 fields, saw 4\\nSkipping line 15438: expected 2 fields, saw 4\\nSkipping line 15456: expected 2 fields, saw 4\\nSkipping line 15484: expected 2 fields, saw 4\\nSkipping line 15489: expected 2 fields, saw 10\\nSkipping line 15508: expected 2 fields, saw 3\\nSkipping line 15523: expected 2 fields, saw 3\\nSkipping line 15535: expected 2 fields, saw 3\\nSkipping line 15561: expected 2 fields, saw 3\\nSkipping line 15564: expected 2 fields, saw 3\\nSkipping line 15566: expected 2 fields, saw 3\\nSkipping line 15576: expected 2 fields, saw 4\\nSkipping line 15600: expected 2 fields, saw 3\\nSkipping line 15602: expected 2 fields, saw 3\\nSkipping line 15603: expected 2 fields, saw 3\\nSkipping line 15610: expected 2 fields, saw 4\\nSkipping line 15613: expected 2 fields, saw 3\\nSkipping line 15618: expected 2 fields, saw 3\\nSkipping line 15622: expected 2 fields, saw 3\\nSkipping line 15624: expected 2 fields, saw 4\\nSkipping line 15630: expected 2 fields, saw 3\\nSkipping line 15633: expected 2 fields, saw 3\\nSkipping line 15652: expected 2 fields, saw 3\\nSkipping line 15659: expected 2 fields, saw 5\\nSkipping line 15665: expected 2 fields, saw 3\\nSkipping line 15670: expected 2 fields, saw 3\\nSkipping line 15672: expected 2 fields, saw 3\\nSkipping line 15678: expected 2 fields, saw 3\\nSkipping line 15686: expected 2 fields, saw 4\\nSkipping line 15687: expected 2 fields, saw 3\\nSkipping line 15689: expected 2 fields, saw 4\\nSkipping line 15697: expected 2 fields, saw 3\\nSkipping line 15698: expected 2 fields, saw 4\\nSkipping line 15705: expected 2 fields, saw 3\\nSkipping line 15710: expected 2 fields, saw 3\\nSkipping line 15716: expected 2 fields, saw 3\\nSkipping line 15719: expected 2 fields, saw 3\\nSkipping line 15724: expected 2 fields, saw 3\\nSkipping line 15731: expected 2 fields, saw 3\\nSkipping line 15733: expected 2 fields, saw 3\\nSkipping line 15746: expected 2 fields, saw 4\\nSkipping line 15747: expected 2 fields, saw 3\\nSkipping line 15748: expected 2 fields, saw 3\\nSkipping line 15752: expected 2 fields, saw 3\\nSkipping line 15756: expected 2 fields, saw 3\\nSkipping line 15762: expected 2 fields, saw 4\\nSkipping line 15769: expected 2 fields, saw 3\\nSkipping line 15770: expected 2 fields, saw 5\\nSkipping line 15779: expected 2 fields, saw 3\\nSkipping line 15785: expected 2 fields, saw 3\\nSkipping line 15802: expected 2 fields, saw 3\\nSkipping line 15804: expected 2 fields, saw 3\\nSkipping line 15805: expected 2 fields, saw 3\\nSkipping line 15813: expected 2 fields, saw 4\\nSkipping line 15825: expected 2 fields, saw 3\\nSkipping line 15839: expected 2 fields, saw 3\\nSkipping line 15848: expected 2 fields, saw 3\\nSkipping line 15849: expected 2 fields, saw 4\\nSkipping line 15860: expected 2 fields, saw 3\\nSkipping line 15861: expected 2 fields, saw 3\\nSkipping line 15862: expected 2 fields, saw 3\\nSkipping line 15865: expected 2 fields, saw 4\\nSkipping line 15866: expected 2 fields, saw 3\\nSkipping line 15868: expected 2 fields, saw 3\\nSkipping line 15876: expected 2 fields, saw 3\\nSkipping line 15877: expected 2 fields, saw 3\\nSkipping line 15880: expected 2 fields, saw 3\\nSkipping line 15881: expected 2 fields, saw 3\\nSkipping line 15882: expected 2 fields, saw 3\\nSkipping line 15898: expected 2 fields, saw 3\\nSkipping line 15901: expected 2 fields, saw 3\\nSkipping line 15907: expected 2 fields, saw 5\\nSkipping line 15916: expected 2 fields, saw 3\\nSkipping line 15917: expected 2 fields, saw 3\\nSkipping line 15919: expected 2 fields, saw 3\\nSkipping line 15921: expected 2 fields, saw 4\\nSkipping line 15924: expected 2 fields, saw 4\\nSkipping line 15925: expected 2 fields, saw 3\\nSkipping line 15930: expected 2 fields, saw 3\\nSkipping line 15939: expected 2 fields, saw 3\\nSkipping line 15944: expected 2 fields, saw 3\\nSkipping line 15949: expected 2 fields, saw 4\\nSkipping line 15960: expected 2 fields, saw 3\\nSkipping line 15962: expected 2 fields, saw 3\\nSkipping line 15970: expected 2 fields, saw 4\\nSkipping line 15975: expected 2 fields, saw 3\\nSkipping line 15981: expected 2 fields, saw 5\\nSkipping line 15997: expected 2 fields, saw 3\\nSkipping line 16003: expected 2 fields, saw 3\\nSkipping line 16009: expected 2 fields, saw 3\\nSkipping line 16022: expected 2 fields, saw 4\\nSkipping line 16023: expected 2 fields, saw 3\\nSkipping line 16026: expected 2 fields, saw 3\\nSkipping line 16032: expected 2 fields, saw 3\\nSkipping line 16037: expected 2 fields, saw 3\\nSkipping line 16044: expected 2 fields, saw 4\\nSkipping line 16046: expected 2 fields, saw 3\\nSkipping line 16055: expected 2 fields, saw 3\\nSkipping line 16059: expected 2 fields, saw 5\\nSkipping line 16066: expected 2 fields, saw 3\\nSkipping line 16068: expected 2 fields, saw 3\\nSkipping line 16069: expected 2 fields, saw 3\\nSkipping line 16074: expected 2 fields, saw 3\\nSkipping line 16087: expected 2 fields, saw 3\\nSkipping line 16091: expected 2 fields, saw 3\\nSkipping line 16096: expected 2 fields, saw 3\\nSkipping line 16117: expected 2 fields, saw 3\\nSkipping line 16118: expected 2 fields, saw 3\\nSkipping line 16121: expected 2 fields, saw 3\\nSkipping line 16122: expected 2 fields, saw 3\\nSkipping line 16129: expected 2 fields, saw 3\\nSkipping line 16130: expected 2 fields, saw 3\\nSkipping line 16133: expected 2 fields, saw 3\\nSkipping line 16134: expected 2 fields, saw 4\\nSkipping line 16137: expected 2 fields, saw 3\\nSkipping line 16142: expected 2 fields, saw 3\\nSkipping line 16148: expected 2 fields, saw 3\\nSkipping line 16149: expected 2 fields, saw 6\\nSkipping line 16158: expected 2 fields, saw 3\\nSkipping line 16162: expected 2 fields, saw 3\\nSkipping line 16163: expected 2 fields, saw 3\\nSkipping line 16164: expected 2 fields, saw 4\\nSkipping line 16165: expected 2 fields, saw 3\\nSkipping line 16174: expected 2 fields, saw 3\\nSkipping line 16177: expected 2 fields, saw 3\\nSkipping line 16180: expected 2 fields, saw 3\\nSkipping line 16181: expected 2 fields, saw 3\\nSkipping line 16183: expected 2 fields, saw 3\\nSkipping line 16189: expected 2 fields, saw 3\\nSkipping line 16198: expected 2 fields, saw 3\\nSkipping line 16199: expected 2 fields, saw 3\\nSkipping line 16226: expected 2 fields, saw 3\\nSkipping line 16227: expected 2 fields, saw 3\\nSkipping line 16230: expected 2 fields, saw 3\\nSkipping line 16233: expected 2 fields, saw 3\\nSkipping line 16234: expected 2 fields, saw 4\\nSkipping line 16236: expected 2 fields, saw 9\\nSkipping line 16239: expected 2 fields, saw 4\\nSkipping line 16244: expected 2 fields, saw 4\\nSkipping line 16249: expected 2 fields, saw 3\\nSkipping line 16250: expected 2 fields, saw 3\\nSkipping line 16257: expected 2 fields, saw 3\\nSkipping line 16260: expected 2 fields, saw 3\\nSkipping line 16265: expected 2 fields, saw 3\\nSkipping line 16269: expected 2 fields, saw 3\\nSkipping line 16273: expected 2 fields, saw 4\\nSkipping line 16282: expected 2 fields, saw 3\\nSkipping line 16283: expected 2 fields, saw 3\\nSkipping line 16285: expected 2 fields, saw 3\\nSkipping line 16286: expected 2 fields, saw 4\\nSkipping line 16291: expected 2 fields, saw 3\\nSkipping line 16294: expected 2 fields, saw 4\\nSkipping line 16296: expected 2 fields, saw 3\\nSkipping line 16297: expected 2 fields, saw 3\\nSkipping line 16300: expected 2 fields, saw 3\\nSkipping line 16304: expected 2 fields, saw 4\\nSkipping line 16314: expected 2 fields, saw 6\\nSkipping line 16316: expected 2 fields, saw 4\\nSkipping line 16319: expected 2 fields, saw 3\\nSkipping line 16320: expected 2 fields, saw 3\\nSkipping line 16334: expected 2 fields, saw 3\\nSkipping line 16337: expected 2 fields, saw 3\\nSkipping line 16342: expected 2 fields, saw 3\\nSkipping line 16344: expected 2 fields, saw 3\\nSkipping line 16352: expected 2 fields, saw 3\\nSkipping line 16363: expected 2 fields, saw 3\\nSkipping line 16367: expected 2 fields, saw 3\\nSkipping line 16371: expected 2 fields, saw 3\\nSkipping line 16380: expected 2 fields, saw 3\\nSkipping line 16391: expected 2 fields, saw 3\\nSkipping line 16401: expected 2 fields, saw 3\\nSkipping line 16407: expected 2 fields, saw 3\\nSkipping line 16410: expected 2 fields, saw 4\\nSkipping line 16417: expected 2 fields, saw 3\\nSkipping line 16419: expected 2 fields, saw 3\\nSkipping line 16431: expected 2 fields, saw 4\\nSkipping line 16432: expected 2 fields, saw 3\\nSkipping line 16440: expected 2 fields, saw 3\\nSkipping line 16451: expected 2 fields, saw 3\\nSkipping line 16460: expected 2 fields, saw 6\\nSkipping line 16462: expected 2 fields, saw 4\\nSkipping line 16464: expected 2 fields, saw 3\\nSkipping line 16470: expected 2 fields, saw 5\\nSkipping line 16475: expected 2 fields, saw 3\\nSkipping line 16484: expected 2 fields, saw 3\\nSkipping line 16491: expected 2 fields, saw 3\\nSkipping line 16496: expected 2 fields, saw 3\\nSkipping line 16498: expected 2 fields, saw 3\\nSkipping line 16499: expected 2 fields, saw 3\\nSkipping line 16501: expected 2 fields, saw 3\\nSkipping line 16507: expected 2 fields, saw 3\\nSkipping line 16516: expected 2 fields, saw 3\\nSkipping line 16520: expected 2 fields, saw 3\\nSkipping line 16521: expected 2 fields, saw 4\\nSkipping line 16522: expected 2 fields, saw 3\\nSkipping line 16529: expected 2 fields, saw 3\\nSkipping line 16532: expected 2 fields, saw 3\\nSkipping line 16540: expected 2 fields, saw 3\\nSkipping line 16550: expected 2 fields, saw 3\\nSkipping line 16554: expected 2 fields, saw 3\\nSkipping line 16563: expected 2 fields, saw 3\\nSkipping line 16566: expected 2 fields, saw 3\\nSkipping line 16569: expected 2 fields, saw 3\\nSkipping line 16572: expected 2 fields, saw 3\\nSkipping line 16583: expected 2 fields, saw 4\\nSkipping line 16591: expected 2 fields, saw 3\\nSkipping line 16598: expected 2 fields, saw 3\\nSkipping line 16609: expected 2 fields, saw 4\\nSkipping line 16612: expected 2 fields, saw 3\\nSkipping line 16633: expected 2 fields, saw 3\\nSkipping line 16638: expected 2 fields, saw 6\\nSkipping line 16647: expected 2 fields, saw 3\\nSkipping line 16649: expected 2 fields, saw 3\\nSkipping line 16650: expected 2 fields, saw 3\\nSkipping line 16651: expected 2 fields, saw 3\\nSkipping line 16659: expected 2 fields, saw 3\\nSkipping line 16670: expected 2 fields, saw 3\\nSkipping line 16671: expected 2 fields, saw 3\\nSkipping line 16672: expected 2 fields, saw 4\\nSkipping line 16688: expected 2 fields, saw 3\\nSkipping line 16697: expected 2 fields, saw 4\\nSkipping line 16704: expected 2 fields, saw 3\\nSkipping line 16729: expected 2 fields, saw 3\\nSkipping line 16730: expected 2 fields, saw 3\\nSkipping line 16731: expected 2 fields, saw 3\\nSkipping line 16733: expected 2 fields, saw 4\\nSkipping line 16735: expected 2 fields, saw 3\\nSkipping line 16739: expected 2 fields, saw 3\\nSkipping line 16740: expected 2 fields, saw 8\\nSkipping line 16741: expected 2 fields, saw 3\\nSkipping line 16761: expected 2 fields, saw 4\\nSkipping line 16768: expected 2 fields, saw 3\\nSkipping line 16776: expected 2 fields, saw 3\\nSkipping line 16785: expected 2 fields, saw 4\\nSkipping line 16786: expected 2 fields, saw 3\\nSkipping line 16795: expected 2 fields, saw 3\\nSkipping line 16802: expected 2 fields, saw 5\\nSkipping line 16836: expected 2 fields, saw 4\\nSkipping line 16837: expected 2 fields, saw 5\\nSkipping line 16857: expected 2 fields, saw 3\\nSkipping line 16860: expected 2 fields, saw 3\\nSkipping line 16865: expected 2 fields, saw 3\\nSkipping line 16866: expected 2 fields, saw 3\\nSkipping line 16872: expected 2 fields, saw 4\\nSkipping line 16874: expected 2 fields, saw 4\\nSkipping line 16881: expected 2 fields, saw 3\\nSkipping line 16883: expected 2 fields, saw 3\\nSkipping line 16891: expected 2 fields, saw 3\\nSkipping line 16906: expected 2 fields, saw 3\\nSkipping line 16915: expected 2 fields, saw 4\\nSkipping line 16916: expected 2 fields, saw 8\\nSkipping line 16919: expected 2 fields, saw 3\\nSkipping line 16921: expected 2 fields, saw 4\\nSkipping line 16922: expected 2 fields, saw 3\\nSkipping line 16923: expected 2 fields, saw 3\\nSkipping line 16933: expected 2 fields, saw 3\\nSkipping line 16937: expected 2 fields, saw 3\\nSkipping line 16939: expected 2 fields, saw 3\\nSkipping line 16942: expected 2 fields, saw 5\\nSkipping line 16943: expected 2 fields, saw 3\\nSkipping line 16948: expected 2 fields, saw 3\\nSkipping line 16951: expected 2 fields, saw 4\\nSkipping line 16953: expected 2 fields, saw 3\\nSkipping line 16955: expected 2 fields, saw 3\\nSkipping line 16963: expected 2 fields, saw 3\\nSkipping line 16970: expected 2 fields, saw 3\\nSkipping line 16992: expected 2 fields, saw 3\\nSkipping line 16994: expected 2 fields, saw 3\\nSkipping line 16996: expected 2 fields, saw 4\\nSkipping line 17003: expected 2 fields, saw 3\\nSkipping line 17012: expected 2 fields, saw 3\\nSkipping line 17017: expected 2 fields, saw 3\\nSkipping line 17025: expected 2 fields, saw 4\\nSkipping line 17029: expected 2 fields, saw 4\\nSkipping line 17030: expected 2 fields, saw 3\\nSkipping line 17038: expected 2 fields, saw 3\\nSkipping line 17044: expected 2 fields, saw 3\\nSkipping line 17046: expected 2 fields, saw 4\\nSkipping line 17055: expected 2 fields, saw 3\\nSkipping line 17058: expected 2 fields, saw 4\\nSkipping line 17065: expected 2 fields, saw 3\\nSkipping line 17074: expected 2 fields, saw 3\\nSkipping line 17076: expected 2 fields, saw 3\\nSkipping line 17082: expected 2 fields, saw 7\\nSkipping line 17104: expected 2 fields, saw 3\\nSkipping line 17127: expected 2 fields, saw 3\\nSkipping line 17160: expected 2 fields, saw 3\\nSkipping line 17162: expected 2 fields, saw 3\\nSkipping line 17175: expected 2 fields, saw 3\\nSkipping line 17190: expected 2 fields, saw 3\\nSkipping line 17192: expected 2 fields, saw 3\\nSkipping line 17197: expected 2 fields, saw 3\\n'\n"
          ]
        },
        {
          "output_type": "execute_result",
          "data": {
            "text/plain": [
              "                                                   tweet\n",
              "id                                                      \n",
              "31963  #studiolife #aislife #requires #passion #dedic...\n",
              "31964   @user #white #supremacists want everyone to s...\n",
              "31965  safe ways to heal your #acne!!    #altwaystohe...\n",
              "31968                        choose to be   :) #momtips \n",
              "31969  something inside me dies ð¦ð¿â¨  eyes nes...\n",
              "31970  #finished#tattoo#inked#ink#loveitâ¤ï¸ #â¤ï¸...\n",
              "31971   @user @user @user i will never understand why...\n",
              "31972  #delicious   #food #lovelife #capetown mannaep...\n",
              "31973  1000dayswasted - narcosis infinite ep.. make m...\n",
              "31974  one of the world's greatest spoing events   #l...\n",
              "31975  half way through the website now and #allgoing...\n",
              "31977  i'll stand behind this #guncontrolplease   #se...\n",
              "31979   @user got my @user limited edition rain or sh...\n",
              "31980  &amp; #love &amp; #hugs &amp; #kisses too! how...\n",
              "31982  thought factory: bbc neutrality on right wing ...\n",
              "31983  hey guys tommorow is the last day of my exams ...\n",
              "31984   @user @user  @user  #levyrroni #recuerdos mem...\n",
              "31985  my mind is like ððð½ð but my body l...\n",
              "31986  never been this down on myself in my entire li...\n",
              "31987  \"check  twitterww - trends: \"\"trending worldwi..."
            ],
            "text/html": [
              "\n",
              "  <div id=\"df-1c59b57a-2019-4224-8c23-4b8c43b860e6\">\n",
              "    <div class=\"colab-df-container\">\n",
              "      <div>\n",
              "<style scoped>\n",
              "    .dataframe tbody tr th:only-of-type {\n",
              "        vertical-align: middle;\n",
              "    }\n",
              "\n",
              "    .dataframe tbody tr th {\n",
              "        vertical-align: top;\n",
              "    }\n",
              "\n",
              "    .dataframe thead th {\n",
              "        text-align: right;\n",
              "    }\n",
              "</style>\n",
              "<table border=\"1\" class=\"dataframe\">\n",
              "  <thead>\n",
              "    <tr style=\"text-align: right;\">\n",
              "      <th></th>\n",
              "      <th>tweet</th>\n",
              "    </tr>\n",
              "    <tr>\n",
              "      <th>id</th>\n",
              "      <th></th>\n",
              "    </tr>\n",
              "  </thead>\n",
              "  <tbody>\n",
              "    <tr>\n",
              "      <th>31963</th>\n",
              "      <td>#studiolife #aislife #requires #passion #dedic...</td>\n",
              "    </tr>\n",
              "    <tr>\n",
              "      <th>31964</th>\n",
              "      <td>@user #white #supremacists want everyone to s...</td>\n",
              "    </tr>\n",
              "    <tr>\n",
              "      <th>31965</th>\n",
              "      <td>safe ways to heal your #acne!!    #altwaystohe...</td>\n",
              "    </tr>\n",
              "    <tr>\n",
              "      <th>31968</th>\n",
              "      <td>choose to be   :) #momtips</td>\n",
              "    </tr>\n",
              "    <tr>\n",
              "      <th>31969</th>\n",
              "      <td>something inside me dies ð¦ð¿â¨  eyes nes...</td>\n",
              "    </tr>\n",
              "    <tr>\n",
              "      <th>31970</th>\n",
              "      <td>#finished#tattoo#inked#ink#loveitâ¤ï¸ #â¤ï¸...</td>\n",
              "    </tr>\n",
              "    <tr>\n",
              "      <th>31971</th>\n",
              "      <td>@user @user @user i will never understand why...</td>\n",
              "    </tr>\n",
              "    <tr>\n",
              "      <th>31972</th>\n",
              "      <td>#delicious   #food #lovelife #capetown mannaep...</td>\n",
              "    </tr>\n",
              "    <tr>\n",
              "      <th>31973</th>\n",
              "      <td>1000dayswasted - narcosis infinite ep.. make m...</td>\n",
              "    </tr>\n",
              "    <tr>\n",
              "      <th>31974</th>\n",
              "      <td>one of the world's greatest spoing events   #l...</td>\n",
              "    </tr>\n",
              "    <tr>\n",
              "      <th>31975</th>\n",
              "      <td>half way through the website now and #allgoing...</td>\n",
              "    </tr>\n",
              "    <tr>\n",
              "      <th>31977</th>\n",
              "      <td>i'll stand behind this #guncontrolplease   #se...</td>\n",
              "    </tr>\n",
              "    <tr>\n",
              "      <th>31979</th>\n",
              "      <td>@user got my @user limited edition rain or sh...</td>\n",
              "    </tr>\n",
              "    <tr>\n",
              "      <th>31980</th>\n",
              "      <td>&amp;amp; #love &amp;amp; #hugs &amp;amp; #kisses too! how...</td>\n",
              "    </tr>\n",
              "    <tr>\n",
              "      <th>31982</th>\n",
              "      <td>thought factory: bbc neutrality on right wing ...</td>\n",
              "    </tr>\n",
              "    <tr>\n",
              "      <th>31983</th>\n",
              "      <td>hey guys tommorow is the last day of my exams ...</td>\n",
              "    </tr>\n",
              "    <tr>\n",
              "      <th>31984</th>\n",
              "      <td>@user @user  @user  #levyrroni #recuerdos mem...</td>\n",
              "    </tr>\n",
              "    <tr>\n",
              "      <th>31985</th>\n",
              "      <td>my mind is like ððð½ð but my body l...</td>\n",
              "    </tr>\n",
              "    <tr>\n",
              "      <th>31986</th>\n",
              "      <td>never been this down on myself in my entire li...</td>\n",
              "    </tr>\n",
              "    <tr>\n",
              "      <th>31987</th>\n",
              "      <td>\"check  twitterww - trends: \"\"trending worldwi...</td>\n",
              "    </tr>\n",
              "  </tbody>\n",
              "</table>\n",
              "</div>\n",
              "      <button class=\"colab-df-convert\" onclick=\"convertToInteractive('df-1c59b57a-2019-4224-8c23-4b8c43b860e6')\"\n",
              "              title=\"Convert this dataframe to an interactive table.\"\n",
              "              style=\"display:none;\">\n",
              "        \n",
              "  <svg xmlns=\"http://www.w3.org/2000/svg\" height=\"24px\"viewBox=\"0 0 24 24\"\n",
              "       width=\"24px\">\n",
              "    <path d=\"M0 0h24v24H0V0z\" fill=\"none\"/>\n",
              "    <path d=\"M18.56 5.44l.94 2.06.94-2.06 2.06-.94-2.06-.94-.94-2.06-.94 2.06-2.06.94zm-11 1L8.5 8.5l.94-2.06 2.06-.94-2.06-.94L8.5 2.5l-.94 2.06-2.06.94zm10 10l.94 2.06.94-2.06 2.06-.94-2.06-.94-.94-2.06-.94 2.06-2.06.94z\"/><path d=\"M17.41 7.96l-1.37-1.37c-.4-.4-.92-.59-1.43-.59-.52 0-1.04.2-1.43.59L10.3 9.45l-7.72 7.72c-.78.78-.78 2.05 0 2.83L4 21.41c.39.39.9.59 1.41.59.51 0 1.02-.2 1.41-.59l7.78-7.78 2.81-2.81c.8-.78.8-2.07 0-2.86zM5.41 20L4 18.59l7.72-7.72 1.47 1.35L5.41 20z\"/>\n",
              "  </svg>\n",
              "      </button>\n",
              "      \n",
              "  <style>\n",
              "    .colab-df-container {\n",
              "      display:flex;\n",
              "      flex-wrap:wrap;\n",
              "      gap: 12px;\n",
              "    }\n",
              "\n",
              "    .colab-df-convert {\n",
              "      background-color: #E8F0FE;\n",
              "      border: none;\n",
              "      border-radius: 50%;\n",
              "      cursor: pointer;\n",
              "      display: none;\n",
              "      fill: #1967D2;\n",
              "      height: 32px;\n",
              "      padding: 0 0 0 0;\n",
              "      width: 32px;\n",
              "    }\n",
              "\n",
              "    .colab-df-convert:hover {\n",
              "      background-color: #E2EBFA;\n",
              "      box-shadow: 0px 1px 2px rgba(60, 64, 67, 0.3), 0px 1px 3px 1px rgba(60, 64, 67, 0.15);\n",
              "      fill: #174EA6;\n",
              "    }\n",
              "\n",
              "    [theme=dark] .colab-df-convert {\n",
              "      background-color: #3B4455;\n",
              "      fill: #D2E3FC;\n",
              "    }\n",
              "\n",
              "    [theme=dark] .colab-df-convert:hover {\n",
              "      background-color: #434B5C;\n",
              "      box-shadow: 0px 1px 3px 1px rgba(0, 0, 0, 0.15);\n",
              "      filter: drop-shadow(0px 1px 2px rgba(0, 0, 0, 0.3));\n",
              "      fill: #FFFFFF;\n",
              "    }\n",
              "  </style>\n",
              "\n",
              "      <script>\n",
              "        const buttonEl =\n",
              "          document.querySelector('#df-1c59b57a-2019-4224-8c23-4b8c43b860e6 button.colab-df-convert');\n",
              "        buttonEl.style.display =\n",
              "          google.colab.kernel.accessAllowed ? 'block' : 'none';\n",
              "\n",
              "        async function convertToInteractive(key) {\n",
              "          const element = document.querySelector('#df-1c59b57a-2019-4224-8c23-4b8c43b860e6');\n",
              "          const dataTable =\n",
              "            await google.colab.kernel.invokeFunction('convertToInteractive',\n",
              "                                                     [key], {});\n",
              "          if (!dataTable) return;\n",
              "\n",
              "          const docLinkHtml = 'Like what you see? Visit the ' +\n",
              "            '<a target=\"_blank\" href=https://colab.research.google.com/notebooks/data_table.ipynb>data table notebook</a>'\n",
              "            + ' to learn more about interactive tables.';\n",
              "          element.innerHTML = '';\n",
              "          dataTable['output_type'] = 'display_data';\n",
              "          await google.colab.output.renderOutput(dataTable, element);\n",
              "          const docLink = document.createElement('div');\n",
              "          docLink.innerHTML = docLinkHtml;\n",
              "          element.appendChild(docLink);\n",
              "        }\n",
              "      </script>\n",
              "    </div>\n",
              "  </div>\n",
              "  "
            ]
          },
          "metadata": {},
          "execution_count": 166
        }
      ]
    },
    {
      "cell_type": "code",
      "source": [
        "def pipeline_tweets(test_tweet):\n",
        "  test_tweet=[test_tweet]\n",
        "  #Cleaning\n",
        "  test_tweet = [cleaner(test_tweet)]\n",
        "\n",
        "  #Tokenize\n",
        "  encoded_tweet = tokenizer.texts_to_sequences(test_tweet)\n",
        "\n",
        "  # convert string to int array\n",
        "  padded_tweet = pad_sequences(encoded_tweet, maxlen=200)\n",
        "\n",
        "  return padded_tweet\n",
        "\n",
        "df_test['predicted']=df_test['tweet'].apply(pipeline_tweets)\n",
        "df_test['predicted']"
      ],
      "metadata": {
        "colab": {
          "base_uri": "https://localhost:8080/"
        },
        "id": "oH5Mix5v-VYO",
        "outputId": "d5c07da6-bbd6-4372-81e0-301d872d6524"
      },
      "execution_count": 172,
      "outputs": [
        {
          "output_type": "execute_result",
          "data": {
            "text/plain": [
              "id\n",
              "31963    [[0, 0, 0, 0, 0, 0, 0, 0, 0, 0, 0, 0, 0, 0, 0,...\n",
              "31964    [[0, 0, 0, 0, 0, 0, 0, 0, 0, 0, 0, 0, 0, 0, 0,...\n",
              "31965    [[0, 0, 0, 0, 0, 0, 0, 0, 0, 0, 0, 0, 0, 0, 0,...\n",
              "31968    [[0, 0, 0, 0, 0, 0, 0, 0, 0, 0, 0, 0, 0, 0, 0,...\n",
              "31969    [[0, 0, 0, 0, 0, 0, 0, 0, 0, 0, 0, 0, 0, 0, 0,...\n",
              "                               ...                        \n",
              "49154    [[0, 0, 0, 0, 0, 0, 0, 0, 0, 0, 0, 0, 0, 0, 0,...\n",
              "49155    [[0, 0, 0, 0, 0, 0, 0, 0, 0, 0, 0, 0, 0, 0, 0,...\n",
              "49156    [[0, 0, 0, 0, 0, 0, 0, 0, 0, 0, 0, 0, 0, 0, 0,...\n",
              "49157    [[0, 0, 0, 0, 0, 0, 0, 0, 0, 0, 0, 0, 0, 0, 0,...\n",
              "49159    [[0, 0, 0, 0, 0, 0, 0, 0, 0, 0, 0, 0, 0, 0, 0,...\n",
              "Name: predicted, Length: 14695, dtype: object"
            ]
          },
          "metadata": {},
          "execution_count": 172
        }
      ]
    },
    {
      "cell_type": "code",
      "source": [
        "def hate_trigger(prediction):\n",
        "  second_index= prediction[0][1]\n",
        "  if (second_index> 0.15):\n",
        "    return 1\n",
        "  else:\n",
        "    return 0\n",
        "\n",
        "df_test['predicted']=df_test['predicted'].apply(model.predict)\n",
        "df_test['predicted']"
      ],
      "metadata": {
        "colab": {
          "base_uri": "https://localhost:8080/"
        },
        "id": "1YfA8jiG-tOv",
        "outputId": "7c524f1d-716d-4ed6-bea7-18c029af2256"
      },
      "execution_count": 182,
      "outputs": [
        {
          "output_type": "execute_result",
          "data": {
            "text/plain": [
              "id\n",
              "31963     [[0.99961734, 0.0003826593]]\n",
              "31964       [[0.013937243, 0.9860627]]\n",
              "31965    [[0.99999976, 2.3223174e-07]]\n",
              "31968        [[0.9832298, 0.01677015]]\n",
              "31969    [[0.99998784, 1.2214697e-05]]\n",
              "                     ...              \n",
              "49154     [[0.9999999, 1.1949092e-07]]\n",
              "49155      [[0.0006213037, 0.9993787]]\n",
              "49156            [[1.0, 8.890959e-09]]\n",
              "49157        [[0.90022314, 0.0997768]]\n",
              "49159      [[0.9999957, 4.240461e-06]]\n",
              "Name: predicted, Length: 14695, dtype: object"
            ]
          },
          "metadata": {},
          "execution_count": 182
        }
      ]
    },
    {
      "cell_type": "code",
      "source": [
        "df_test['predicted']=df_test['predicted'].apply(hate_trigger)\n",
        "df_test.head(20)"
      ],
      "metadata": {
        "colab": {
          "base_uri": "https://localhost:8080/",
          "height": 708
        },
        "id": "BHYa1r4_-vsT",
        "outputId": "8ad6e522-842f-4413-9008-5da9d6d95f58"
      },
      "execution_count": 184,
      "outputs": [
        {
          "output_type": "execute_result",
          "data": {
            "text/plain": [
              "                                                   tweet  predicted\n",
              "id                                                                 \n",
              "31963  #studiolife #aislife #requires #passion #dedic...          0\n",
              "31964   @user #white #supremacists want everyone to s...          1\n",
              "31965  safe ways to heal your #acne!!    #altwaystohe...          0\n",
              "31968                        choose to be   :) #momtips           0\n",
              "31969  something inside me dies ð¦ð¿â¨  eyes nes...          0\n",
              "31970  #finished#tattoo#inked#ink#loveitâ¤ï¸ #â¤ï¸...          0\n",
              "31971   @user @user @user i will never understand why...          0\n",
              "31972  #delicious   #food #lovelife #capetown mannaep...          0\n",
              "31973  1000dayswasted - narcosis infinite ep.. make m...          0\n",
              "31974  one of the world's greatest spoing events   #l...          0\n",
              "31975  half way through the website now and #allgoing...          0\n",
              "31977  i'll stand behind this #guncontrolplease   #se...          0\n",
              "31979   @user got my @user limited edition rain or sh...          0\n",
              "31980  &amp; #love &amp; #hugs &amp; #kisses too! how...          0\n",
              "31982  thought factory: bbc neutrality on right wing ...          1\n",
              "31983  hey guys tommorow is the last day of my exams ...          0\n",
              "31984   @user @user  @user  #levyrroni #recuerdos mem...          0\n",
              "31985  my mind is like ððð½ð but my body l...          0\n",
              "31986  never been this down on myself in my entire li...          0\n",
              "31987  \"check  twitterww - trends: \"\"trending worldwi...          0"
            ],
            "text/html": [
              "\n",
              "  <div id=\"df-5dae6e5b-12e7-4ea1-b9e8-867334f266f7\">\n",
              "    <div class=\"colab-df-container\">\n",
              "      <div>\n",
              "<style scoped>\n",
              "    .dataframe tbody tr th:only-of-type {\n",
              "        vertical-align: middle;\n",
              "    }\n",
              "\n",
              "    .dataframe tbody tr th {\n",
              "        vertical-align: top;\n",
              "    }\n",
              "\n",
              "    .dataframe thead th {\n",
              "        text-align: right;\n",
              "    }\n",
              "</style>\n",
              "<table border=\"1\" class=\"dataframe\">\n",
              "  <thead>\n",
              "    <tr style=\"text-align: right;\">\n",
              "      <th></th>\n",
              "      <th>tweet</th>\n",
              "      <th>predicted</th>\n",
              "    </tr>\n",
              "    <tr>\n",
              "      <th>id</th>\n",
              "      <th></th>\n",
              "      <th></th>\n",
              "    </tr>\n",
              "  </thead>\n",
              "  <tbody>\n",
              "    <tr>\n",
              "      <th>31963</th>\n",
              "      <td>#studiolife #aislife #requires #passion #dedic...</td>\n",
              "      <td>0</td>\n",
              "    </tr>\n",
              "    <tr>\n",
              "      <th>31964</th>\n",
              "      <td>@user #white #supremacists want everyone to s...</td>\n",
              "      <td>1</td>\n",
              "    </tr>\n",
              "    <tr>\n",
              "      <th>31965</th>\n",
              "      <td>safe ways to heal your #acne!!    #altwaystohe...</td>\n",
              "      <td>0</td>\n",
              "    </tr>\n",
              "    <tr>\n",
              "      <th>31968</th>\n",
              "      <td>choose to be   :) #momtips</td>\n",
              "      <td>0</td>\n",
              "    </tr>\n",
              "    <tr>\n",
              "      <th>31969</th>\n",
              "      <td>something inside me dies ð¦ð¿â¨  eyes nes...</td>\n",
              "      <td>0</td>\n",
              "    </tr>\n",
              "    <tr>\n",
              "      <th>31970</th>\n",
              "      <td>#finished#tattoo#inked#ink#loveitâ¤ï¸ #â¤ï¸...</td>\n",
              "      <td>0</td>\n",
              "    </tr>\n",
              "    <tr>\n",
              "      <th>31971</th>\n",
              "      <td>@user @user @user i will never understand why...</td>\n",
              "      <td>0</td>\n",
              "    </tr>\n",
              "    <tr>\n",
              "      <th>31972</th>\n",
              "      <td>#delicious   #food #lovelife #capetown mannaep...</td>\n",
              "      <td>0</td>\n",
              "    </tr>\n",
              "    <tr>\n",
              "      <th>31973</th>\n",
              "      <td>1000dayswasted - narcosis infinite ep.. make m...</td>\n",
              "      <td>0</td>\n",
              "    </tr>\n",
              "    <tr>\n",
              "      <th>31974</th>\n",
              "      <td>one of the world's greatest spoing events   #l...</td>\n",
              "      <td>0</td>\n",
              "    </tr>\n",
              "    <tr>\n",
              "      <th>31975</th>\n",
              "      <td>half way through the website now and #allgoing...</td>\n",
              "      <td>0</td>\n",
              "    </tr>\n",
              "    <tr>\n",
              "      <th>31977</th>\n",
              "      <td>i'll stand behind this #guncontrolplease   #se...</td>\n",
              "      <td>0</td>\n",
              "    </tr>\n",
              "    <tr>\n",
              "      <th>31979</th>\n",
              "      <td>@user got my @user limited edition rain or sh...</td>\n",
              "      <td>0</td>\n",
              "    </tr>\n",
              "    <tr>\n",
              "      <th>31980</th>\n",
              "      <td>&amp;amp; #love &amp;amp; #hugs &amp;amp; #kisses too! how...</td>\n",
              "      <td>0</td>\n",
              "    </tr>\n",
              "    <tr>\n",
              "      <th>31982</th>\n",
              "      <td>thought factory: bbc neutrality on right wing ...</td>\n",
              "      <td>1</td>\n",
              "    </tr>\n",
              "    <tr>\n",
              "      <th>31983</th>\n",
              "      <td>hey guys tommorow is the last day of my exams ...</td>\n",
              "      <td>0</td>\n",
              "    </tr>\n",
              "    <tr>\n",
              "      <th>31984</th>\n",
              "      <td>@user @user  @user  #levyrroni #recuerdos mem...</td>\n",
              "      <td>0</td>\n",
              "    </tr>\n",
              "    <tr>\n",
              "      <th>31985</th>\n",
              "      <td>my mind is like ððð½ð but my body l...</td>\n",
              "      <td>0</td>\n",
              "    </tr>\n",
              "    <tr>\n",
              "      <th>31986</th>\n",
              "      <td>never been this down on myself in my entire li...</td>\n",
              "      <td>0</td>\n",
              "    </tr>\n",
              "    <tr>\n",
              "      <th>31987</th>\n",
              "      <td>\"check  twitterww - trends: \"\"trending worldwi...</td>\n",
              "      <td>0</td>\n",
              "    </tr>\n",
              "  </tbody>\n",
              "</table>\n",
              "</div>\n",
              "      <button class=\"colab-df-convert\" onclick=\"convertToInteractive('df-5dae6e5b-12e7-4ea1-b9e8-867334f266f7')\"\n",
              "              title=\"Convert this dataframe to an interactive table.\"\n",
              "              style=\"display:none;\">\n",
              "        \n",
              "  <svg xmlns=\"http://www.w3.org/2000/svg\" height=\"24px\"viewBox=\"0 0 24 24\"\n",
              "       width=\"24px\">\n",
              "    <path d=\"M0 0h24v24H0V0z\" fill=\"none\"/>\n",
              "    <path d=\"M18.56 5.44l.94 2.06.94-2.06 2.06-.94-2.06-.94-.94-2.06-.94 2.06-2.06.94zm-11 1L8.5 8.5l.94-2.06 2.06-.94-2.06-.94L8.5 2.5l-.94 2.06-2.06.94zm10 10l.94 2.06.94-2.06 2.06-.94-2.06-.94-.94-2.06-.94 2.06-2.06.94z\"/><path d=\"M17.41 7.96l-1.37-1.37c-.4-.4-.92-.59-1.43-.59-.52 0-1.04.2-1.43.59L10.3 9.45l-7.72 7.72c-.78.78-.78 2.05 0 2.83L4 21.41c.39.39.9.59 1.41.59.51 0 1.02-.2 1.41-.59l7.78-7.78 2.81-2.81c.8-.78.8-2.07 0-2.86zM5.41 20L4 18.59l7.72-7.72 1.47 1.35L5.41 20z\"/>\n",
              "  </svg>\n",
              "      </button>\n",
              "      \n",
              "  <style>\n",
              "    .colab-df-container {\n",
              "      display:flex;\n",
              "      flex-wrap:wrap;\n",
              "      gap: 12px;\n",
              "    }\n",
              "\n",
              "    .colab-df-convert {\n",
              "      background-color: #E8F0FE;\n",
              "      border: none;\n",
              "      border-radius: 50%;\n",
              "      cursor: pointer;\n",
              "      display: none;\n",
              "      fill: #1967D2;\n",
              "      height: 32px;\n",
              "      padding: 0 0 0 0;\n",
              "      width: 32px;\n",
              "    }\n",
              "\n",
              "    .colab-df-convert:hover {\n",
              "      background-color: #E2EBFA;\n",
              "      box-shadow: 0px 1px 2px rgba(60, 64, 67, 0.3), 0px 1px 3px 1px rgba(60, 64, 67, 0.15);\n",
              "      fill: #174EA6;\n",
              "    }\n",
              "\n",
              "    [theme=dark] .colab-df-convert {\n",
              "      background-color: #3B4455;\n",
              "      fill: #D2E3FC;\n",
              "    }\n",
              "\n",
              "    [theme=dark] .colab-df-convert:hover {\n",
              "      background-color: #434B5C;\n",
              "      box-shadow: 0px 1px 3px 1px rgba(0, 0, 0, 0.15);\n",
              "      filter: drop-shadow(0px 1px 2px rgba(0, 0, 0, 0.3));\n",
              "      fill: #FFFFFF;\n",
              "    }\n",
              "  </style>\n",
              "\n",
              "      <script>\n",
              "        const buttonEl =\n",
              "          document.querySelector('#df-5dae6e5b-12e7-4ea1-b9e8-867334f266f7 button.colab-df-convert');\n",
              "        buttonEl.style.display =\n",
              "          google.colab.kernel.accessAllowed ? 'block' : 'none';\n",
              "\n",
              "        async function convertToInteractive(key) {\n",
              "          const element = document.querySelector('#df-5dae6e5b-12e7-4ea1-b9e8-867334f266f7');\n",
              "          const dataTable =\n",
              "            await google.colab.kernel.invokeFunction('convertToInteractive',\n",
              "                                                     [key], {});\n",
              "          if (!dataTable) return;\n",
              "\n",
              "          const docLinkHtml = 'Like what you see? Visit the ' +\n",
              "            '<a target=\"_blank\" href=https://colab.research.google.com/notebooks/data_table.ipynb>data table notebook</a>'\n",
              "            + ' to learn more about interactive tables.';\n",
              "          element.innerHTML = '';\n",
              "          dataTable['output_type'] = 'display_data';\n",
              "          await google.colab.output.renderOutput(dataTable, element);\n",
              "          const docLink = document.createElement('div');\n",
              "          docLink.innerHTML = docLinkHtml;\n",
              "          element.appendChild(docLink);\n",
              "        }\n",
              "      </script>\n",
              "    </div>\n",
              "  </div>\n",
              "  "
            ]
          },
          "metadata": {},
          "execution_count": 184
        }
      ]
    },
    {
      "cell_type": "code",
      "source": [
        ""
      ],
      "metadata": {
        "id": "gITIDBLeIIzn"
      },
      "execution_count": null,
      "outputs": []
    }
  ]
}